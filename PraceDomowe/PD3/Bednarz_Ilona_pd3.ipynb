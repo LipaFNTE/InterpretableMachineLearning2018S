{
 "cells": [
  {
   "cell_type": "markdown",
   "metadata": {},
   "source": [
    "# Praca domowa 3\n",
    "#### Ilona Bednarz"
   ]
  },
  {
   "cell_type": "markdown",
   "metadata": {},
   "source": [
    "## Odtworzenie modelu z PD1\n",
    "\n",
    "### Zmienna objaśniana:\n",
    "S1 - Are you married?\n",
    "\n",
    "### Wybrane zmienne objaśniające:\n",
    "\n",
    "#### numeryczne:\n",
    "\n",
    "* Q16: How many of your relatives do you see in person at least once a month?  - numeryczna\n",
    "\n",
    "* pphhsize: Household Size\n",
    "\n",
    "#### binarne:\n",
    "\n",
    "* hcm2017q24_church: met in or through church or religious organization\n",
    "\n",
    "* w6_otherdate_all: In past yr have you met anyone for dating romance or sex (not incl current partner)\n",
    "\n",
    "### Zbudowany model:\n",
    "RandomForest"
   ]
  },
  {
   "cell_type": "code",
   "execution_count": 34,
   "metadata": {},
   "outputs": [
    {
     "name": "stdout",
     "output_type": "stream",
     "text": [
      "Istotność zmiennych:\n",
      " {'w6_otherdate_all': 0.38528437824086864, 'hcm2017q24_church': 0.056442964879984056, 'pphhsize': 0.46301484989720204, 'Q16': 0.09525780698194539}\n"
     ]
    }
   ],
   "source": [
    "import pandas as pd\n",
    "import numpy as np\n",
    "import matplotlib.pyplot as plt\n",
    "import matplotlib\n",
    "import seaborn as sns\n",
    "from IPython.display import display\n",
    "from sklearn.ensemble import RandomForestClassifier\n",
    "import warnings\n",
    "import waterfall_chart\n",
    "warnings.filterwarnings('ignore')\n",
    "pd.options.display.max_columns = 300\n",
    "pd.options.display.max_rows = 400\n",
    "\n",
    "df = pd.read_stata('dane/HCMST_2017.dta')\n",
    "\n",
    "# wybor zmiennych\n",
    "X = df[['Q16', 'pphhsize', 'hcm2017q24_church', 'w6_otherdate_all']].copy()\n",
    "y = df['S1'].copy()\n",
    "\n",
    "# przygotowanie danych\n",
    "X['w6_otherdate_all'] = X['w6_otherdate_all'].replace('Refused', np.nan)\n",
    "y = y[np.sum(X.isna(), axis=1) == 0]\n",
    "X = X.dropna(axis=0).reset_index(drop=True)\n",
    "bin_columns = [\"hcm2017q24_church\", \"w6_otherdate_all\"]\n",
    "dummies = pd.get_dummies(X[bin_columns]).iloc[:, [1, 4]]\n",
    "dummies.columns = bin_columns\n",
    "X[bin_columns] = dummies\n",
    "y = pd.get_dummies(y).iloc[:, 0].reset_index(drop=True) # 1 == married\n",
    "\n",
    "# dopasowanie modelu\n",
    "clf = RandomForestClassifier(n_jobs=4, n_estimators=600, random_state=123, max_depth=4)\n",
    "clf.fit(X, y)\n",
    "print(\"Istotność zmiennych:\\n\", dict(zip(X.columns, clf.feature_importances_)))"
   ]
  },
  {
   "cell_type": "markdown",
   "metadata": {},
   "source": [
    "## Rozwiązanie PD3"
   ]
  },
  {
   "cell_type": "code",
   "execution_count": 35,
   "metadata": {
    "collapsed": true
   },
   "outputs": [],
   "source": [
    "def plot_variable_attribution(variables, vals, model, X):\n",
    "    baseline = clf.predict_proba(X)[:,1].mean()\n",
    "    result = []\n",
    "    newX = X.copy()\n",
    "    for var, val in zip(variables, vals):\n",
    "        newX = newX.loc[newX[var]==val]\n",
    "        result.append(clf.predict_proba(newX)[:,1].mean()-baseline)\n",
    "    variables = ['BASELINE'] + variables\n",
    "    result = [baseline] + result\n",
    "    waterfall_chart.plot(variables, result, formatting='{:,.3f}', rotation_value=90)\n",
    "    plt.show()"
   ]
  },
  {
   "cell_type": "code",
   "execution_count": 36,
   "metadata": {},
   "outputs": [
    {
     "name": "stdout",
     "output_type": "stream",
     "text": [
      "Q16                  12\n",
      "pphhsize              2\n",
      "hcm2017q24_church     0\n",
      "w6_otherdate_all      1\n",
      "Name: 1612, dtype: object\n"
     ]
    }
   ],
   "source": [
    "print(X.iloc[osoba, :])"
   ]
  },
  {
   "cell_type": "code",
   "execution_count": 37,
   "metadata": {},
   "outputs": [
    {
     "data": {
      "image/png": "[encoded data removed]",
      "text/plain": [
       "<Figure size 432x288 with 1 Axes>"
      ]
     },
     "metadata": {},
     "output_type": "display_data"
    }
   ],
   "source": [
    "plot_variable_attribution(variables=[\"Q16\", \"pphhsize\", \"hcm2017q24_church\", \"w6_otherdate_all\"],\n",
    "                          vals=[12, 2, 0, 1], model=clf, X=X)"
   ]
  },
  {
   "cell_type": "code",
   "execution_count": 38,
   "metadata": {},
   "outputs": [
    {
     "data": {
      "image/png": "[encoded data removed]",
      "text/plain": [
       "<Figure size 432x288 with 1 Axes>"
      ]
     },
     "metadata": {},
     "output_type": "display_data"
    }
   ],
   "source": [
    "plot_variable_attribution(variables=[\"pphhsize\", \"hcm2017q24_church\", \"w6_otherdate_all\", \"Q16\"],\n",
    "                          vals=[2, 0, 1, 12], model=clf, X=X)"
   ]
  },
  {
   "cell_type": "markdown",
   "metadata": {},
   "source": [
    "### Wnioski"
   ]
  },
  {
   "cell_type": "markdown",
   "metadata": {},
   "source": [
    "Widać, że wartości wpływu poszczególnych zmiennych rzeczywiście zależą od kolejności warunkowania. W tym przypadku zmiana kolejności wpłynęła diametralnie na jedną spośród czterech rozważanych zmiennych. Warunkowanie Q16=12 na początku (rysunek pierwszy) powoduje delikatnie ujemny wpływ tej zmiennej na odpowiedź modelu, natomiast warunkowane jako ostatnie (rysunek drugi) zmniejsza odpowiedź modelu aż o 0.43. Wpływ zmiennej w6_otherdate_all również się zmienił przy zmianie kolejności warunkowania, jednak nie tak znacząco - najpierw wynosił -0.43, a następnie -0.28. Pozostałe zmienne nie wykazały większych zmian - ich wpływ na obu wykresach jest bliski zera, lecz dodatni."
   ]
  }
 ],
 "metadata": {
  "kernelspec": {
   "display_name": "Python 3",
   "language": "python",
   "name": "python3"
  },
  "language_info": {
   "codemirror_mode": {
    "name": "ipython",
    "version": 3
   },
   "file_extension": ".py",
   "mimetype": "text/x-python",
   "name": "python",
   "nbconvert_exporter": "python",
   "pygments_lexer": "ipython3",
   "version": "3.5.2"
  }
 },
 "nbformat": 4,
 "nbformat_minor": 2
}
