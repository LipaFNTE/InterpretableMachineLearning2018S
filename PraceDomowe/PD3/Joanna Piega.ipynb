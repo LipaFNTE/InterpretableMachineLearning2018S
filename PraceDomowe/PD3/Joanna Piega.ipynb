{
 "cells": [
  {
   "cell_type": "markdown",
   "metadata": {},
   "source": [
    "## Joanna Piega \n",
    "# Praca domowa 3\n"
   ]
  },
  {
   "cell_type": "markdown",
   "metadata": {},
   "source": [
    "# Budowa modelu"
   ]
  },
  {
   "cell_type": "code",
   "execution_count": 1,
   "metadata": {},
   "outputs": [],
   "source": [
    "import pandas as pd\n",
    "import numpy as np\n",
    "import matplotlib.pyplot as plt\n",
    "import os\n",
    "import matplotlib\n",
    "matplotlib.style.use('ggplot')\n",
    "data = pd.read_stata(\"data.dta\")"
   ]
  },
  {
   "cell_type": "markdown",
   "metadata": {},
   "source": [
    "Zmienne, na podstawie których zostanie zbudowany model to:\n",
    "    * q26 - odpowiada za informację czy partnerzy byli studentami jednej uczelni\n",
    "    * ppeducat - odpowiada za poziom wykształcenia\n",
    "    * q24_met_online - czy partnerzy poznali się online\n",
    "    * how_long_relationship - jak długo trwa związek\n",
    "    * age_difference - jaka jest różnica wieku między partnerami"
   ]
  },
  {
   "cell_type": "markdown",
   "metadata": {},
   "source": [
    "## Przekształcenie danych na dane numeryczne"
   ]
  },
  {
   "cell_type": "code",
   "execution_count": 2,
   "metadata": {},
   "outputs": [],
   "source": [
    "data = data[[\"s1\",\"age_difference\",\"q26\",\"ppeducat\",\"q24_met_online\",\"how_long_relationship\",\"q16\"]]\n",
    "data = data[data.isnull().sum(axis = 1) == 0]\n",
    "data.q24_met_online = pd.Categorical(data.q24_met_online).codes\n",
    "data.ppeducat = pd.Categorical(data.ppeducat).codes\n",
    "data.q26 = pd.Categorical(data.q26).codes\n",
    "data.s1 = pd.Categorical(data.s1).codes"
   ]
  },
  {
   "cell_type": "markdown",
   "metadata": {},
   "source": [
    "## Podział danych na zbiór treningowy i testowy"
   ]
  },
  {
   "cell_type": "code",
   "execution_count": 3,
   "metadata": {},
   "outputs": [],
   "source": [
    "from sklearn.model_selection import train_test_split\n",
    "X_train, X_test, Y_train, Y_test = train_test_split(data.iloc[:,1:6],data.s1, test_size = 0.10, random_state = 0)"
   ]
  },
  {
   "cell_type": "markdown",
   "metadata": {},
   "source": [
    "## Stworzenie modelu predykcyjnego - XGBoost"
   ]
  },
  {
   "cell_type": "code",
   "execution_count": 4,
   "metadata": {},
   "outputs": [],
   "source": [
    "from xgboost import XGBClassifier\n",
    "model = XGBClassifier(max_depth=10)\n",
    "model.fit(X_train,Y_train)\n",
    "y_pred = model.predict(X_test)"
   ]
  },
  {
   "cell_type": "markdown",
   "metadata": {},
   "source": [
    "## Ocena jakości zbudowanego modelu"
   ]
  },
  {
   "cell_type": "markdown",
   "metadata": {},
   "source": [
    "Accuracy"
   ]
  },
  {
   "cell_type": "code",
   "execution_count": 5,
   "metadata": {},
   "outputs": [
    {
     "data": {
      "text/plain": [
       "75.0"
      ]
     },
     "execution_count": 5,
     "metadata": {},
     "output_type": "execute_result"
    }
   ],
   "source": [
    "from sklearn.metrics import accuracy_score\n",
    "round(accuracy_score(Y_test, [round(i) for i in y_pred]),2)*100"
   ]
  },
  {
   "cell_type": "markdown",
   "metadata": {},
   "source": [
    "## Break down"
   ]
  },
  {
   "cell_type": "markdown",
   "metadata": {},
   "source": [
    "Implementacja metody:"
   ]
  },
  {
   "cell_type": "code",
   "execution_count": 319,
   "metadata": {},
   "outputs": [],
   "source": [
    "def break_down(model, order, x2, set):\n",
    "    x=x2.copy()\n",
    "    y=set.copy()\n",
    "    prediction=[pd.DataFrame(model.predict_proba(y)).iloc[:,0].mean()]\n",
    "    for i in order:\n",
    "        y.iloc[:,order[i]]=[x[order[i]]]*set.shape[0]\n",
    "        prediction.append(pd.DataFrame(model.predict_proba(y)).iloc[:,0].mean())\n",
    "    prediction.append(prediction[5])\n",
    "    \n",
    "    name = [\"Intercept\"]+[i + str(\"=\")+str(x[i])for i in (x.index)[order]]+[\"Total\"]\n",
    "    x=[round(i,2) for i in prediction][::-1]\n",
    "    \n",
    "    name=name[::-1]\n",
    "    k = [x[6]]+[x[::-1][i]-x[::-1][i-1] for i in range(1,6)]\n",
    "    k=k+[prediction[5]]\n",
    "    top = [0]+x[::-1][0:6]\n",
    "    bottom = [min(x[::-1][i],top[i]) for i in range(7)]\n",
    "    top = [max(x[::-1][i],top[i]) for i in range(7)]\n",
    "    \n",
    "    k=[str(\"+\")+str(round(v*100,2))+str(\"%\")  if v>0 else str(round(v*100,2))+str(\"%\") for v in k ][::-1]\n",
    "\n",
    "    colours = [\"lightcoral\" if v[0]==\"-\" else \"lightgreen\" for v in k]\n",
    "\n",
    "\n",
    "    fig, ax = plt.subplots()    \n",
    "    width = 0.75 \n",
    "    ind = np.arange(len(x)) \n",
    "    ax.barh(ind, top[::-1], width, color=colours)\n",
    "    ax.barh(ind,bottom[::-1], width, color=[\"lightgreen\"]+[\"w\"]*5+[\"green\"]*2)\n",
    "    ax.set_yticks(ind+width/2)\n",
    "    ax.set_yticklabels(name, minor=False)\n",
    "    plt.title('Break down')\n",
    "    plt.xlabel('probability')\n",
    "    plt.ylabel('variable')   \n",
    "    plt.xlim([0, max(x)+0.1])\n",
    "\n",
    "    \n",
    "    for i in range(len(k)):\n",
    "        ax.text(0.05, i - .1, k[i], color='darkblue', fontweight='bold')\n",
    "        \n",
    "    plt.show()"
   ]
  },
  {
   "cell_type": "markdown",
   "metadata": {},
   "source": [
    "## Wyjaśnienie modelu"
   ]
  },
  {
   "cell_type": "markdown",
   "metadata": {},
   "source": [
    "Będziemy wykonywać analizy dla następującej obserwacji:"
   ]
  },
  {
   "cell_type": "code",
   "execution_count": 320,
   "metadata": {},
   "outputs": [
    {
     "data": {
      "text/plain": [
       "age_difference           0.0\n",
       "q26                      1.0\n",
       "ppeducat                 3.0\n",
       "q24_met_online           0.0\n",
       "how_long_relationship    4.0\n",
       "Name: 1262, dtype: float64"
      ]
     },
     "execution_count": 320,
     "metadata": {},
     "output_type": "execute_result"
    }
   ],
   "source": [
    "X_test.loc[1262]"
   ]
  },
  {
   "cell_type": "markdown",
   "metadata": {},
   "source": [
    "Tzn. mamy do czynienia z parą w tym samym wieku, która kończyła tan sam uniwersytet i jest w związku od 4 lat."
   ]
  },
  {
   "cell_type": "code",
   "execution_count": 321,
   "metadata": {},
   "outputs": [],
   "source": [
    "x=X_test.loc[1262]\n",
    "order1=[0 ,2, 4, 3, 1]\n",
    "order2=[3 ,2 ,0 ,4 ,1]"
   ]
  },
  {
   "cell_type": "code",
   "execution_count": 322,
   "metadata": {},
   "outputs": [
    {
     "data": {
      "image/png": "[encoded data removed]",
      "text/plain": [
       "<Figure size 432x288 with 1 Axes>"
      ]
     },
     "metadata": {},
     "output_type": "display_data"
    }
   ],
   "source": [
    "break_down(model, order1, x, X_test )"
   ]
  },
  {
   "cell_type": "code",
   "execution_count": 323,
   "metadata": {},
   "outputs": [
    {
     "data": {
      "image/png": "[encoded data removed]",
      "text/plain": [
       "<Figure size 432x288 with 1 Axes>"
      ]
     },
     "metadata": {},
     "output_type": "display_data"
    }
   ],
   "source": [
    "break_down(model, order2, x, X_test )"
   ]
  },
  {
   "cell_type": "markdown",
   "metadata": {},
   "source": [
    "## Wnioski"
   ]
  },
  {
   "cell_type": "markdown",
   "metadata": {},
   "source": [
    "Rozważane przypadki kolejności warunkowania różnią się kolejnością trzech zmiennych: q24, age_difference i how_long_relationship. Ciekawym zjawiskiem jest fakt, że szansa małżeństwa dla partnerów z wyższym wyształceniem maleje o 14 punktów procentowych, gdy będziemy rozważać tylko pary w tym samym wieku, zaś rośnie o 7 pktów procentowych w przypadku, gdy pod uwagę bierzemy pary, które poznały się przez interenet. W rezultacje jednak po warunkowaniu na te dwie zmienne osobno - pstwo małżeństwa dla pary z wyższym wyształceniem jest takie samo - 0.48. Może to świadczyć o braku korelacji zmiennych ppeducat z age_difference oraz ppeduc z q24. Podobna sytuacja zachodzi dla zmiennej odpowiedzialnej za różnicę wieku. W ogólności równy wiek partnerów zwiększa szansę małżeństwa, lecz po zwarunkowaniu na wyższe wykształcenie i nie poznaniu się przez internet - owa szansa maleje. Ciekawym wnioskiem na przyszłość jest fakt, że ukończenie tej samej uczelni znacząco (o 36pkt.%) zwiększa szansę małżeństwa."
   ]
  }
 ],
 "metadata": {
  "kernelspec": {
   "display_name": "Python 3",
   "language": "python",
   "name": "python3"
  },
  "language_info": {
   "codemirror_mode": {
    "name": "ipython",
    "version": 3
   },
   "file_extension": ".py",
   "mimetype": "text/x-python",
   "name": "python",
   "nbconvert_exporter": "python",
   "pygments_lexer": "ipython3",
   "version": "3.7.1"
  }
 },
 "nbformat": 4,
 "nbformat_minor": 2
}
