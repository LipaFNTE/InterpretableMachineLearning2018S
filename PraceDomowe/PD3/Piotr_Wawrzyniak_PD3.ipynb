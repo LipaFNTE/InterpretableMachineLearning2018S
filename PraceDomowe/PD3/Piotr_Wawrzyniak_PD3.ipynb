{
 "cells": [
  {
   "cell_type": "code",
   "execution_count": 44,
   "metadata": {
    "ExecuteTime": {
     "end_time": "2019-03-05T22:19:42.074494Z",
     "start_time": "2019-03-05T22:19:38.532581Z"
    }
   },
   "outputs": [],
   "source": [
    "import numpy as np\n",
    "import pandas as pd\n",
    "import matplotlib.pyplot as plt\n",
    "import xgboost as xgb\n",
    "import waterfall_chart"
   ]
  },
  {
   "cell_type": "code",
   "execution_count": 45,
   "metadata": {
    "ExecuteTime": {
     "end_time": "2019-03-05T22:19:44.324701Z",
     "start_time": "2019-03-05T22:19:42.079480Z"
    }
   },
   "outputs": [],
   "source": [
    "df = pd.read_stata(\"HCMST 2017 fresh sample for public sharing draft v1.1.dta\")"
   ]
  },
  {
   "cell_type": "markdown",
   "metadata": {},
   "source": [
    "### Wybór zmiennych"
   ]
  },
  {
   "cell_type": "code",
   "execution_count": 46,
   "metadata": {},
   "outputs": [],
   "source": [
    "df['y'] = 1 - df['S1'].cat.codes"
   ]
  },
  {
   "cell_type": "markdown",
   "metadata": {},
   "source": [
    "1. Zmienne jakościowe  \n",
    "a) `Q25` - Did you and [Partner name] attend the same high school?  \n",
    "b) `ppmarit` -  Marital Status  \n",
    "\n",
    "2. Zmienne ilościowe  \n",
    "a) `ppincimp` - Household Income  \n",
    "b) `Q16` - How many of your relatives do you see in person at least once a month?\n",
    " Include parents, brothers and sisters, uncles, aunts, cousins,\n",
    " grandparents, or others.   "
   ]
  },
  {
   "cell_type": "code",
   "execution_count": 47,
   "metadata": {},
   "outputs": [],
   "source": [
    "columns = ['Q25', 'ppmarit', 'ppincimp', 'Q16', 'y']"
   ]
  },
  {
   "cell_type": "code",
   "execution_count": 48,
   "metadata": {
    "scrolled": true
   },
   "outputs": [],
   "source": [
    "df = df[columns].dropna()"
   ]
  },
  {
   "cell_type": "code",
   "execution_count": 49,
   "metadata": {},
   "outputs": [],
   "source": [
    "X = df[columns[:4]].copy()\n",
    "X.loc[:, columns[:3]] = X[columns[:3]].apply(lambda x: x.cat.codes, axis=0)\n",
    "y = df['y']"
   ]
  },
  {
   "cell_type": "markdown",
   "metadata": {},
   "source": [
    "### Model"
   ]
  },
  {
   "cell_type": "code",
   "execution_count": 50,
   "metadata": {},
   "outputs": [],
   "source": [
    "gbm = xgb.XGBClassifier(\n",
    "     learning_rate =0.1,\n",
    "     n_estimators=50,\n",
    "     max_depth=8,\n",
    "     min_child_weight=1,\n",
    "     gamma=0,\n",
    "     subsample=0.8,\n",
    "     colsample_bytree=0.8,\n",
    "     objective='binary:logistic',\n",
    "     nthread=4,\n",
    "     scale_pos_weight=1,\n",
    "     seed=27).fit(X, y)"
   ]
  },
  {
   "cell_type": "markdown",
   "metadata": {},
   "source": [
    "### Zmiana w średniej odpowiedzi modelu"
   ]
  },
  {
   "cell_type": "code",
   "execution_count": 117,
   "metadata": {},
   "outputs": [],
   "source": [
    "def plot_mean_response(X, model, **kwargs):\n",
    "    X = X.copy()\n",
    "    y = [model.predict_proba(X)[:,1].mean()]\n",
    "    for kwarg in kwargs:\n",
    "        X.loc[:, kwarg] = kwargs[kwarg]\n",
    "        y.append(model.predict_proba(X)[:,1].mean())\n",
    "    waterfall_chart.plot(['intercept'] + list(kwargs.keys()), [y[0]] + list(np.diff(y)), formatting='{:,.2f}')"
   ]
  },
  {
   "cell_type": "markdown",
   "metadata": {},
   "source": [
    "a) `Q25` - Did you and [Partner name] attend the same high school?  \n",
    "b) `ppmarit` -  Marital Status  \n",
    "c) `ppincimp` - Household Income  \n",
    "d) `Q16` - How many of your relatives do you see in person at least once a month?"
   ]
  },
  {
   "cell_type": "code",
   "execution_count": 118,
   "metadata": {
    "scrolled": true
   },
   "outputs": [
    {
     "data": {
      "image/png": "[encoded data removed]",
      "text/plain": [
       "<Figure size 432x288 with 1 Axes>"
      ]
     },
     "metadata": {},
     "output_type": "display_data"
    }
   ],
   "source": [
    "plot_mean_response(X, gbm, Q25=1, Q16=8, ppmarit=3, ppincimp=13)"
   ]
  },
  {
   "cell_type": "markdown",
   "metadata": {},
   "source": [
    "W tej analizie widać wyraźny spadek predykcji w przypadku gdy dana osoba jest rozwiedziona (ppmarit=3)\n",
    "oraz nadrobienie tych strat kiedy okazuje się, że osoba jest dosyć zamożna."
   ]
  },
  {
   "cell_type": "code",
   "execution_count": 105,
   "metadata": {
    "scrolled": true
   },
   "outputs": [
    {
     "data": {
      "image/png": "[encoded data removed]",
      "text/plain": [
       "<Figure size 432x288 with 1 Axes>"
      ]
     },
     "metadata": {},
     "output_type": "display_data"
    }
   ],
   "source": [
    "plot_mean_response(X, gbm, ppincimp=13, ppmarit=3, Q16=8, Q25=1)"
   ]
  },
  {
   "cell_type": "markdown",
   "metadata": {},
   "source": [
    "Zmiana kolejności warunkowania spowodowała zmianę interpretacji. Wynika to z faktu, że jeśli wiemy, że dana osoba jest zamożna to fakt, że jest rozwiedziona przestaje przeszkadzać a nawet powoduje wzrost predykcji. Jest to trochę sprzeczne z intuicją dlatego należałoby dokładniej zbadać model."
   ]
  }
 ],
 "metadata": {
  "kernelspec": {
   "display_name": "Python 3",
   "language": "python",
   "name": "python3"
  },
  "language_info": {
   "codemirror_mode": {
    "name": "ipython",
    "version": 3
   },
   "file_extension": ".py",
   "mimetype": "text/x-python",
   "name": "python",
   "nbconvert_exporter": "python",
   "pygments_lexer": "ipython3",
   "version": "3.6.4"
  },
  "toc": {
   "base_numbering": 1,
   "nav_menu": {},
   "number_sections": true,
   "sideBar": true,
   "skip_h1_title": false,
   "title_cell": "Table of Contents",
   "title_sidebar": "Contents",
   "toc_cell": false,
   "toc_position": {},
   "toc_section_display": true,
   "toc_window_display": true
  }
 },
 "nbformat": 4,
 "nbformat_minor": 2
}
