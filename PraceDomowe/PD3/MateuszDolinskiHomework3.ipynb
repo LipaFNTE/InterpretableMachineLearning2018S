{
 "cells": [
  {
   "cell_type": "code",
   "execution_count": 1,
   "metadata": {},
   "outputs": [],
   "source": [
    "import requests\n",
    "import io\n",
    "import zipfile\n",
    "\n",
    "import numpy as np\n",
    "import pandas as pd\n",
    "\n",
    "from sklearn.preprocessing import LabelEncoder, OneHotEncoder\n",
    "from sklearn.ensemble import RandomForestClassifier\n",
    "from sklearn.metrics import accuracy_score\n",
    "\n",
    "import matplotlib.pyplot as plt\n",
    "import seaborn as sns\n",
    "import waterfall_chart"
   ]
  },
  {
   "cell_type": "markdown",
   "metadata": {},
   "source": [
    "# Na początku robimy to samo co w pracy domowej 1\n",
    "\n",
    "tylko tym razem w Pythonie..."
   ]
  },
  {
   "cell_type": "code",
   "execution_count": 2,
   "metadata": {},
   "outputs": [],
   "source": [
    "url = 'https://stacks.stanford.edu/file/druid:hg921sg6829/HCMST_2017_public_data_v1.1_stata.zip'\n",
    "response = requests.get(url)\n",
    "\n",
    "with zipfile.ZipFile(io.BytesIO(response.content)) as tmp_zip:\n",
    "    for zip_file in tmp_zip.infolist():\n",
    "        with tmp_zip.open(zip_file, 'r') as f:\n",
    "            stata_file = io.BytesIO(f.read())"
   ]
  },
  {
   "cell_type": "code",
   "execution_count": 3,
   "metadata": {},
   "outputs": [],
   "source": [
    "stata_file.seek(0)\n",
    "data = pd.read_stata(stata_file)"
   ]
  },
  {
   "cell_type": "markdown",
   "metadata": {},
   "source": [
    "# Obrabiamy dane jak poprzednio\n"
   ]
  },
  {
   "cell_type": "code",
   "execution_count": 4,
   "metadata": {},
   "outputs": [],
   "source": [
    "data = data[['S1', 'Q9', 'Q19', 'Q26', 'ppage']]"
   ]
  },
  {
   "cell_type": "code",
   "execution_count": 5,
   "metadata": {},
   "outputs": [],
   "source": [
    "for column in data.columns:\n",
    "    data = data[data[column] != 'Refused']\n",
    "    data[column].cat.remove_unused_categories()\n",
    "data = data.dropna()\n",
    "data[['Q9', 'ppage']] = data[['Q9', 'ppage']].apply(pd.to_numeric, axis=1)"
   ]
  },
  {
   "cell_type": "code",
   "execution_count": 6,
   "metadata": {},
   "outputs": [
    {
     "data": {
      "text/html": [
       "<div>\n",
       "<style scoped>\n",
       "    .dataframe tbody tr th:only-of-type {\n",
       "        vertical-align: middle;\n",
       "    }\n",
       "\n",
       "    .dataframe tbody tr th {\n",
       "        vertical-align: top;\n",
       "    }\n",
       "\n",
       "    .dataframe thead th {\n",
       "        text-align: right;\n",
       "    }\n",
       "</style>\n",
       "<table border=\"1\" class=\"dataframe\">\n",
       "  <thead>\n",
       "    <tr style=\"text-align: right;\">\n",
       "      <th></th>\n",
       "      <th>S1</th>\n",
       "      <th>Q9</th>\n",
       "      <th>Q19</th>\n",
       "      <th>Q26</th>\n",
       "      <th>ppage</th>\n",
       "    </tr>\n",
       "  </thead>\n",
       "  <tbody>\n",
       "    <tr>\n",
       "      <th>237</th>\n",
       "      <td>Yes, I am Married</td>\n",
       "      <td>55.0</td>\n",
       "      <td>Yes</td>\n",
       "      <td>Did not attend same college or university</td>\n",
       "      <td>49.0</td>\n",
       "    </tr>\n",
       "    <tr>\n",
       "      <th>1513</th>\n",
       "      <td>Yes, I am Married</td>\n",
       "      <td>55.0</td>\n",
       "      <td>Yes</td>\n",
       "      <td>Did not attend same college or university</td>\n",
       "      <td>55.0</td>\n",
       "    </tr>\n",
       "    <tr>\n",
       "      <th>1808</th>\n",
       "      <td>No, I am not Married</td>\n",
       "      <td>74.0</td>\n",
       "      <td>No</td>\n",
       "      <td>Did not attend same college or university</td>\n",
       "      <td>72.0</td>\n",
       "    </tr>\n",
       "    <tr>\n",
       "      <th>1753</th>\n",
       "      <td>Yes, I am Married</td>\n",
       "      <td>60.0</td>\n",
       "      <td>Yes</td>\n",
       "      <td>Did not attend same college or university</td>\n",
       "      <td>63.0</td>\n",
       "    </tr>\n",
       "    <tr>\n",
       "      <th>3050</th>\n",
       "      <td>Yes, I am Married</td>\n",
       "      <td>53.0</td>\n",
       "      <td>Yes</td>\n",
       "      <td>Did not attend same college or university</td>\n",
       "      <td>50.0</td>\n",
       "    </tr>\n",
       "  </tbody>\n",
       "</table>\n",
       "</div>"
      ],
      "text/plain": [
       "                        S1    Q9  Q19  \\\n",
       "237      Yes, I am Married  55.0  Yes   \n",
       "1513     Yes, I am Married  55.0  Yes   \n",
       "1808  No, I am not Married  74.0   No   \n",
       "1753     Yes, I am Married  60.0  Yes   \n",
       "3050     Yes, I am Married  53.0  Yes   \n",
       "\n",
       "                                            Q26  ppage  \n",
       "237   Did not attend same college or university   49.0  \n",
       "1513  Did not attend same college or university   55.0  \n",
       "1808  Did not attend same college or university   72.0  \n",
       "1753  Did not attend same college or university   63.0  \n",
       "3050  Did not attend same college or university   50.0  "
      ]
     },
     "execution_count": 6,
     "metadata": {},
     "output_type": "execute_result"
    }
   ],
   "source": [
    "data.sample(5)"
   ]
  },
  {
   "cell_type": "code",
   "execution_count": 7,
   "metadata": {},
   "outputs": [],
   "source": [
    "y = data['S1']\n",
    "x = data.drop('S1', axis=1)"
   ]
  },
  {
   "cell_type": "markdown",
   "metadata": {},
   "source": [
    "# Robimy model"
   ]
  },
  {
   "cell_type": "code",
   "execution_count": 8,
   "metadata": {},
   "outputs": [],
   "source": [
    "le_y = LabelEncoder()\n",
    "y = le_y.fit_transform(y)\n",
    "\n",
    "le_q19 = LabelEncoder()\n",
    "x['Q19'] = le_q19.fit_transform(x['Q19'])\n",
    "\n",
    "le_q26 = LabelEncoder()\n",
    "x['Q26'] = le_q26.fit_transform(x['Q26'])"
   ]
  },
  {
   "cell_type": "code",
   "execution_count": 9,
   "metadata": {},
   "outputs": [],
   "source": [
    "ohe = OneHotEncoder(categorical_features=[1, 2], \n",
    "                    dtype=np.int64,\n",
    "                    sparse=False)\n",
    "x = pd.DataFrame(ohe.fit_transform(x.values))\n",
    "x.columns = ['Q9_0', 'Q9_1', 'Q19_0', 'Q19_1', 'Q26', 'ppage']"
   ]
  },
  {
   "cell_type": "code",
   "execution_count": 10,
   "metadata": {},
   "outputs": [
    {
     "data": {
      "text/html": [
       "<div>\n",
       "<style scoped>\n",
       "    .dataframe tbody tr th:only-of-type {\n",
       "        vertical-align: middle;\n",
       "    }\n",
       "\n",
       "    .dataframe tbody tr th {\n",
       "        vertical-align: top;\n",
       "    }\n",
       "\n",
       "    .dataframe thead th {\n",
       "        text-align: right;\n",
       "    }\n",
       "</style>\n",
       "<table border=\"1\" class=\"dataframe\">\n",
       "  <thead>\n",
       "    <tr style=\"text-align: right;\">\n",
       "      <th></th>\n",
       "      <th>Q9_1</th>\n",
       "      <th>Q19_1</th>\n",
       "      <th>Q26</th>\n",
       "      <th>ppage</th>\n",
       "    </tr>\n",
       "  </thead>\n",
       "  <tbody>\n",
       "    <tr>\n",
       "      <th>0</th>\n",
       "      <td>1.0</td>\n",
       "      <td>1.0</td>\n",
       "      <td>52.0</td>\n",
       "      <td>55.0</td>\n",
       "    </tr>\n",
       "    <tr>\n",
       "      <th>1</th>\n",
       "      <td>1.0</td>\n",
       "      <td>1.0</td>\n",
       "      <td>45.0</td>\n",
       "      <td>47.0</td>\n",
       "    </tr>\n",
       "    <tr>\n",
       "      <th>2</th>\n",
       "      <td>1.0</td>\n",
       "      <td>1.0</td>\n",
       "      <td>59.0</td>\n",
       "      <td>59.0</td>\n",
       "    </tr>\n",
       "    <tr>\n",
       "      <th>3</th>\n",
       "      <td>1.0</td>\n",
       "      <td>1.0</td>\n",
       "      <td>65.0</td>\n",
       "      <td>65.0</td>\n",
       "    </tr>\n",
       "    <tr>\n",
       "      <th>4</th>\n",
       "      <td>1.0</td>\n",
       "      <td>1.0</td>\n",
       "      <td>43.0</td>\n",
       "      <td>33.0</td>\n",
       "    </tr>\n",
       "  </tbody>\n",
       "</table>\n",
       "</div>"
      ],
      "text/plain": [
       "   Q9_1  Q19_1   Q26  ppage\n",
       "0   1.0    1.0  52.0   55.0\n",
       "1   1.0    1.0  45.0   47.0\n",
       "2   1.0    1.0  59.0   59.0\n",
       "3   1.0    1.0  65.0   65.0\n",
       "4   1.0    1.0  43.0   33.0"
      ]
     },
     "execution_count": 10,
     "metadata": {},
     "output_type": "execute_result"
    }
   ],
   "source": [
    "x.drop(['Q9_0', 'Q19_0'], axis=1, inplace=True)\n",
    "x.head()"
   ]
  },
  {
   "cell_type": "code",
   "execution_count": 11,
   "metadata": {},
   "outputs": [
    {
     "data": {
      "text/plain": [
       "0.8761844598862919"
      ]
     },
     "execution_count": 11,
     "metadata": {},
     "output_type": "execute_result"
    }
   ],
   "source": [
    "rfc = RandomForestClassifier(max_depth=4,\n",
    "                             n_estimators=30,\n",
    "                             max_features=None)\n",
    "rfc.fit(x, y)\n",
    "\n",
    "y_pred = rfc.predict(x)\n",
    "accuracy_score(y, y_pred)"
   ]
  },
  {
   "cell_type": "markdown",
   "metadata": {},
   "source": [
    "# Wyjaśniamy model przez variable attribution"
   ]
  },
  {
   "cell_type": "code",
   "execution_count": 12,
   "metadata": {},
   "outputs": [],
   "source": [
    "class MeanPredictionChangePlotter(object):\n",
    "    def __init__(self, clf, x):\n",
    "        self.clf = clf\n",
    "        self.x = x\n",
    "        \n",
    "    def draw_mean_prediction_change_plot(self, observation, *args):\n",
    "        # compute prediction means and differences between them\n",
    "        tmp = self.x.copy()\n",
    "        means = []\n",
    "        names = []\n",
    "        names.append('sample_mean')\n",
    "        mean = self.clf.predict_proba(tmp)[:, 1]\\\n",
    "                       .mean()\n",
    "        means.append(mean)\n",
    "        \n",
    "        for arg in args:\n",
    "            tmp[arg] = observation[arg].values[0]\n",
    "            mean = self.clf.predict_proba(tmp)[:, 1]\\\n",
    "               .mean()\n",
    "            means.append(mean)\n",
    "            names.append(arg)\n",
    "            \n",
    "        means = np.concatenate((np.array([means[0]]), np.diff(np.array(means))))\n",
    "        \n",
    "        # draw the plot\n",
    "        waterfall_chart.plot(names, \n",
    "                             means,\n",
    "                             formatting='{:,.3f}',\n",
    "                             rotation_value=90)\n",
    "        \n",
    "        return\n"
   ]
  },
  {
   "cell_type": "code",
   "execution_count": 13,
   "metadata": {},
   "outputs": [
    {
     "data": {
      "image/png": "[encoded data removed]",
      "text/plain": [
       "<Figure size 432x288 with 1 Axes>"
      ]
     },
     "metadata": {},
     "output_type": "display_data"
    },
    {
     "data": {
      "image/png": "[encoded data removed]",
      "text/plain": [
       "<Figure size 432x288 with 1 Axes>"
      ]
     },
     "metadata": {},
     "output_type": "display_data"
    }
   ],
   "source": [
    "joe = pd.DataFrame({'Q9_0': [0], 'Q9_1': [1], 'Q19_0': [1], 'Q19_1': [0], 'Q26': [40], 'ppage': [41]})\n",
    "\n",
    "mpcp = MeanPredictionChangePlotter(rfc, x)\n",
    "mpcp.draw_mean_prediction_change_plot(joe, 'Q9_1', 'Q19_1', 'Q26', 'ppage')\n",
    "mpcp.draw_mean_prediction_change_plot(joe,  'ppage', 'Q9_1', 'Q19_1', 'Q26')"
   ]
  },
  {
   "cell_type": "markdown",
   "metadata": {},
   "source": [
    "Rozważono dwie kolejności zmiennych:\n",
    "\n",
    "* Najpierw zmienne jakościowe, następnie ciągłe\n",
    "* Najpierw jedna zmienna ciągła, następnie jakościowe i pozostałe ciągłe\n",
    "\n",
    "Ciekawą obserwacją są kierunki zmian średnich predykcji przy ustalaniu zmiennych ciągłych. Przy ustaleniu zmiennej ppage na samym końcu mamy dość silną dodatnią zmianę. Natomiast przy zamrożeniu zmiennej 'ppage' na samym początku otrzymujemy efekt w kierunku ujemnym! Również druga ze zmiennych zmienia znak w obydwu przypadkach. Może to mieć związek z wysokim skorelowaniem wieku partnerów.\n",
    "\n"
   ]
  },
  {
   "cell_type": "code",
   "execution_count": null,
   "metadata": {},
   "outputs": [],
   "source": []
  }
 ],
 "metadata": {
  "kernelspec": {
   "display_name": "Python 3",
   "language": "python",
   "name": "python3"
  },
  "language_info": {
   "codemirror_mode": {
    "name": "ipython",
    "version": 3
   },
   "file_extension": ".py",
   "mimetype": "text/x-python",
   "name": "python",
   "nbconvert_exporter": "python",
   "pygments_lexer": "ipython3",
   "version": "3.6.5"
  }
 },
 "nbformat": 4,
 "nbformat_minor": 2
}
