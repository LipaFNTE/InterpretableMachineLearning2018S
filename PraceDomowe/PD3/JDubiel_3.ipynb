{
 "cells": [
  {
   "cell_type": "code",
   "execution_count": 140,
   "metadata": {},
   "outputs": [],
   "source": [
    "from collections import OrderedDict\n",
    "import numpy as np\n",
    "import pandas as pd\n",
    "import matplotlib.pyplot as plt\n",
    "from sklearn.ensemble import RandomForestClassifier\n",
    "from sklearn.model_selection import train_test_split\n",
    "from sklearn.metrics import accuracy_score\n",
    "import waterfall_chart\n",
    "plt.style.use('seaborn-white')\n",
    "plt.rcParams['figure.figsize'] = [18, 10]"
   ]
  },
  {
   "cell_type": "markdown",
   "metadata": {},
   "source": [
    "## Loading data\n"
   ]
  },
  {
   "cell_type": "code",
   "execution_count": 2,
   "metadata": {},
   "outputs": [
    {
     "data": {
      "text/html": [
       "<div>\n",
       "<style scoped>\n",
       "    .dataframe tbody tr th:only-of-type {\n",
       "        vertical-align: middle;\n",
       "    }\n",
       "\n",
       "    .dataframe tbody tr th {\n",
       "        vertical-align: top;\n",
       "    }\n",
       "\n",
       "    .dataframe thead th {\n",
       "        text-align: right;\n",
       "    }\n",
       "</style>\n",
       "<table border=\"1\" class=\"dataframe\">\n",
       "  <thead>\n",
       "    <tr style=\"text-align: right;\">\n",
       "      <th></th>\n",
       "      <th>CaseID</th>\n",
       "      <th>CASEID_NEW</th>\n",
       "      <th>qflag</th>\n",
       "      <th>weight1</th>\n",
       "      <th>weight1_freqwt</th>\n",
       "      <th>weight2</th>\n",
       "      <th>weight1a</th>\n",
       "      <th>weight1a_freqwt</th>\n",
       "      <th>weight_combo</th>\n",
       "      <th>weight_combo_freqwt</th>\n",
       "      <th>...</th>\n",
       "      <th>hcm2017q24_met_through_family</th>\n",
       "      <th>hcm2017q24_met_through_friend</th>\n",
       "      <th>hcm2017q24_met_through_as_nghbrs</th>\n",
       "      <th>hcm2017q24_met_as_through_cowork</th>\n",
       "      <th>w6_subject_race</th>\n",
       "      <th>interracial_5cat</th>\n",
       "      <th>partner_mother_yrsed</th>\n",
       "      <th>subject_mother_yrsed</th>\n",
       "      <th>partner_yrsed</th>\n",
       "      <th>subject_yrsed</th>\n",
       "    </tr>\n",
       "  </thead>\n",
       "  <tbody>\n",
       "    <tr>\n",
       "      <th>0</th>\n",
       "      <td>2</td>\n",
       "      <td>2014039</td>\n",
       "      <td>Qualified</td>\n",
       "      <td>NaN</td>\n",
       "      <td>NaN</td>\n",
       "      <td>0.8945</td>\n",
       "      <td>NaN</td>\n",
       "      <td>NaN</td>\n",
       "      <td>0.277188</td>\n",
       "      <td>19240.0</td>\n",
       "      <td>...</td>\n",
       "      <td>no</td>\n",
       "      <td>no</td>\n",
       "      <td>no</td>\n",
       "      <td>no</td>\n",
       "      <td>White</td>\n",
       "      <td>no</td>\n",
       "      <td>12.0</td>\n",
       "      <td>14.0</td>\n",
       "      <td>12.0</td>\n",
       "      <td>14.0</td>\n",
       "    </tr>\n",
       "    <tr>\n",
       "      <th>1</th>\n",
       "      <td>3</td>\n",
       "      <td>2019003</td>\n",
       "      <td>Qualified</td>\n",
       "      <td>0.9078</td>\n",
       "      <td>71115.0</td>\n",
       "      <td>NaN</td>\n",
       "      <td>0.9026</td>\n",
       "      <td>70707.0</td>\n",
       "      <td>1.020621</td>\n",
       "      <td>70841.0</td>\n",
       "      <td>...</td>\n",
       "      <td>no</td>\n",
       "      <td>no</td>\n",
       "      <td>no</td>\n",
       "      <td>yes</td>\n",
       "      <td>White</td>\n",
       "      <td>no</td>\n",
       "      <td>12.0</td>\n",
       "      <td>16.0</td>\n",
       "      <td>17.0</td>\n",
       "      <td>17.0</td>\n",
       "    </tr>\n",
       "    <tr>\n",
       "      <th>2</th>\n",
       "      <td>5</td>\n",
       "      <td>2145527</td>\n",
       "      <td>Qualified</td>\n",
       "      <td>0.7205</td>\n",
       "      <td>56442.0</td>\n",
       "      <td>NaN</td>\n",
       "      <td>0.7164</td>\n",
       "      <td>56121.0</td>\n",
       "      <td>0.810074</td>\n",
       "      <td>56227.0</td>\n",
       "      <td>...</td>\n",
       "      <td>no</td>\n",
       "      <td>no</td>\n",
       "      <td>no</td>\n",
       "      <td>no</td>\n",
       "      <td>White</td>\n",
       "      <td>no</td>\n",
       "      <td>9.0</td>\n",
       "      <td>7.5</td>\n",
       "      <td>14.0</td>\n",
       "      <td>17.0</td>\n",
       "    </tr>\n",
       "    <tr>\n",
       "      <th>3</th>\n",
       "      <td>6</td>\n",
       "      <td>2648857</td>\n",
       "      <td>Qualified</td>\n",
       "      <td>1.2597</td>\n",
       "      <td>98682.0</td>\n",
       "      <td>1.3507</td>\n",
       "      <td>1.2524</td>\n",
       "      <td>98110.0</td>\n",
       "      <td>0.418556</td>\n",
       "      <td>29052.0</td>\n",
       "      <td>...</td>\n",
       "      <td>no</td>\n",
       "      <td>no</td>\n",
       "      <td>no</td>\n",
       "      <td>no</td>\n",
       "      <td>White</td>\n",
       "      <td>no</td>\n",
       "      <td>16.0</td>\n",
       "      <td>12.0</td>\n",
       "      <td>12.0</td>\n",
       "      <td>12.0</td>\n",
       "    </tr>\n",
       "    <tr>\n",
       "      <th>4</th>\n",
       "      <td>7</td>\n",
       "      <td>2623465</td>\n",
       "      <td>Qualified</td>\n",
       "      <td>0.8686</td>\n",
       "      <td>68044.0</td>\n",
       "      <td>NaN</td>\n",
       "      <td>0.8636</td>\n",
       "      <td>67652.0</td>\n",
       "      <td>0.976522</td>\n",
       "      <td>67781.0</td>\n",
       "      <td>...</td>\n",
       "      <td>no</td>\n",
       "      <td>no</td>\n",
       "      <td>yes</td>\n",
       "      <td>no</td>\n",
       "      <td>White</td>\n",
       "      <td>no</td>\n",
       "      <td>14.0</td>\n",
       "      <td>17.0</td>\n",
       "      <td>16.0</td>\n",
       "      <td>16.0</td>\n",
       "    </tr>\n",
       "  </tbody>\n",
       "</table>\n",
       "<p>5 rows × 285 columns</p>\n",
       "</div>"
      ],
      "text/plain": [
       "   CaseID  CASEID_NEW      qflag  weight1  weight1_freqwt  weight2  weight1a  \\\n",
       "0       2     2014039  Qualified      NaN             NaN   0.8945       NaN   \n",
       "1       3     2019003  Qualified   0.9078         71115.0      NaN    0.9026   \n",
       "2       5     2145527  Qualified   0.7205         56442.0      NaN    0.7164   \n",
       "3       6     2648857  Qualified   1.2597         98682.0   1.3507    1.2524   \n",
       "4       7     2623465  Qualified   0.8686         68044.0      NaN    0.8636   \n",
       "\n",
       "   weight1a_freqwt  weight_combo  weight_combo_freqwt  ...  \\\n",
       "0              NaN      0.277188              19240.0  ...   \n",
       "1          70707.0      1.020621              70841.0  ...   \n",
       "2          56121.0      0.810074              56227.0  ...   \n",
       "3          98110.0      0.418556              29052.0  ...   \n",
       "4          67652.0      0.976522              67781.0  ...   \n",
       "\n",
       "   hcm2017q24_met_through_family hcm2017q24_met_through_friend  \\\n",
       "0                             no                            no   \n",
       "1                             no                            no   \n",
       "2                             no                            no   \n",
       "3                             no                            no   \n",
       "4                             no                            no   \n",
       "\n",
       "  hcm2017q24_met_through_as_nghbrs hcm2017q24_met_as_through_cowork  \\\n",
       "0                               no                               no   \n",
       "1                               no                              yes   \n",
       "2                               no                               no   \n",
       "3                               no                               no   \n",
       "4                              yes                               no   \n",
       "\n",
       "  w6_subject_race interracial_5cat partner_mother_yrsed subject_mother_yrsed  \\\n",
       "0           White               no                 12.0                 14.0   \n",
       "1           White               no                 12.0                 16.0   \n",
       "2           White               no                  9.0                  7.5   \n",
       "3           White               no                 16.0                 12.0   \n",
       "4           White               no                 14.0                 17.0   \n",
       "\n",
       "  partner_yrsed subject_yrsed  \n",
       "0          12.0          14.0  \n",
       "1          17.0          17.0  \n",
       "2          14.0          17.0  \n",
       "3          12.0          12.0  \n",
       "4          16.0          16.0  \n",
       "\n",
       "[5 rows x 285 columns]"
      ]
     },
     "execution_count": 2,
     "metadata": {},
     "output_type": "execute_result"
    }
   ],
   "source": [
    "data = pd.read_stata('HCMST 2017 fresh sample for public sharing draft v1.1.dta')\n",
    "data.head()"
   ]
  },
  {
   "cell_type": "markdown",
   "metadata": {},
   "source": [
    "### Chosen columns:\n",
    "     pphhsize - Household Size\n",
    "     relate_duration_at_w6_years - july 2017-year and month when rel started\n",
    "     w6_friend_connect_4 - partner knows my friends and I know my partner's friends before metting\n",
    "     w6_otherdate - In the past year, have you ever met someone for dating, for romance, or for sex\n",
    "     S1 - Are you married? (output)"
   ]
  },
  {
   "cell_type": "markdown",
   "metadata": {},
   "source": [
    "### Dropping rows, which had nulls and changing categorical data"
   ]
  },
  {
   "cell_type": "code",
   "execution_count": 4,
   "metadata": {},
   "outputs": [],
   "source": [
    "data = data[['pphhsize', 'relate_duration_at_w6_years', 'w6_friend_connect_4', 'w6_otherdate', 'S1']].dropna()\n",
    "data['pphhsize'] = data['pphhsize'].astype(float)\n",
    "data = pd.get_dummies(data)"
   ]
  },
  {
   "cell_type": "markdown",
   "metadata": {},
   "source": [
    "#### Rows with an answer *Refused* in *w6_otherdate* also admitted as null"
   ]
  },
  {
   "cell_type": "code",
   "execution_count": 5,
   "metadata": {},
   "outputs": [],
   "source": [
    "data = data.loc[data['w6_otherdate_Refused'] == 0] \n",
    "data.drop('w6_otherdate_Refused', axis=1, inplace=True)"
   ]
  },
  {
   "cell_type": "markdown",
   "metadata": {},
   "source": [
    "#### Renaming columns and splitting for train and test"
   ]
  },
  {
   "cell_type": "code",
   "execution_count": 7,
   "metadata": {},
   "outputs": [],
   "source": [
    "data.rename(columns={'relate_duration_at_w6_years': 'relate_duration',\n",
    "            'w6_friend_connect_4_Yes': 'friends_connect',\n",
    "            'w6_otherdate_No, I have not met anyone for dating, romance, or sex besides [Partner Name] in the past year.': 'otherdate',\n",
    "            'S1_Yes, I am Married':'married'},\n",
    "            inplace=True)\n",
    "data = data.reset_index()\n",
    "data = data[['pphhsize', 'relate_duration', 'friends_connect', 'otherdate', 'married']]\n",
    "\n",
    "X_data, y_data = data[['pphhsize', 'relate_duration', 'friends_connect', 'otherdate']], data[['married']]\n",
    "y_data = np.array(y_data).ravel()\n",
    "X_train, X_test, y_train, y_test = train_test_split(X_data, y_data)"
   ]
  },
  {
   "cell_type": "markdown",
   "metadata": {},
   "source": [
    "### Training model"
   ]
  },
  {
   "cell_type": "code",
   "execution_count": 9,
   "metadata": {},
   "outputs": [],
   "source": [
    "cls = RandomForestClassifier(n_estimators=500)\n",
    "cls.fit(X_train, y_train)\n",
    "y_pred = cls.predict(X_test)"
   ]
  },
  {
   "cell_type": "markdown",
   "metadata": {},
   "source": [
    "### Mean model response"
   ]
  },
  {
   "cell_type": "code",
   "execution_count": 132,
   "metadata": {},
   "outputs": [],
   "source": [
    "def mean_model_resp(data, model, sample):\n",
    "    data = data.copy()\n",
    "    plot_data = pd.DataFrame({'col': ['intercept'] + list(sample.keys())})\n",
    "    plot_data.set_index('col', inplace=True)\n",
    "    plot_data['proba'] = 0\n",
    "    plot_data.loc['intercept', 'proba'] = model.predict_proba(data)[:,1].mean()\n",
    "    for key, value in sample.items():\n",
    "        data.loc[:, key] = value\n",
    "        plot_data.loc[key, 'proba'] = model.predict_proba(data)[:,1].mean()\n",
    "    plot_data['proba'] = plot_data['proba'].diff().fillna(plot_data['proba'])\n",
    "    waterfall_chart.plot(plot_data.index, plot_data['proba'], rotation_value=0, formatting='{:,.3f}')  "
   ]
  },
  {
   "cell_type": "markdown",
   "metadata": {},
   "source": [
    "#### First sample"
   ]
  },
  {
   "cell_type": "code",
   "execution_count": 146,
   "metadata": {},
   "outputs": [
    {
     "data": {
      "text/plain": [
       "OrderedDict([('pphhsize', 2.0),\n",
       "             ('relate_duration', 21.33333396911621),\n",
       "             ('friends_connect', 0),\n",
       "             ('otherdate', 1)])"
      ]
     },
     "execution_count": 146,
     "metadata": {},
     "output_type": "execute_result"
    }
   ],
   "source": [
    "sample = OrderedDict(X_test.sample(1, random_state=592).to_dict('records')[0])\n",
    "sample"
   ]
  },
  {
   "cell_type": "code",
   "execution_count": 136,
   "metadata": {},
   "outputs": [
    {
     "data": {
      "image/png": "[encoded data removed]",
      "text/plain": [
       "<matplotlib.figure.Figure at 0x1a198467f0>"
      ]
     },
     "metadata": {},
     "output_type": "display_data"
    }
   ],
   "source": [
    "mean_model_resp(X_test, cls,  sample)"
   ]
  },
  {
   "cell_type": "markdown",
   "metadata": {},
   "source": [
    "#### Changing order in sample"
   ]
  },
  {
   "cell_type": "code",
   "execution_count": 148,
   "metadata": {},
   "outputs": [
    {
     "data": {
      "text/plain": [
       "OrderedDict([('friends_connect', 0),\n",
       "             ('otherdate', 1),\n",
       "             ('pphhsize', 2.0),\n",
       "             ('relate_duration', 21.33333396911621)])"
      ]
     },
     "execution_count": 148,
     "metadata": {},
     "output_type": "execute_result"
    }
   ],
   "source": [
    "sample.move_to_end('pphhsize')\n",
    "sample.move_to_end('relate_duration')\n",
    "sample"
   ]
  },
  {
   "cell_type": "code",
   "execution_count": 149,
   "metadata": {},
   "outputs": [
    {
     "data": {
      "image/png": "[encoded data removed]",
      "text/plain": [
       "<matplotlib.figure.Figure at 0x1a1ab22390>"
      ]
     },
     "metadata": {},
     "output_type": "display_data"
    }
   ],
   "source": [
    "mean_model_resp(X_test, cls,  sample)"
   ]
  },
  {
   "cell_type": "markdown",
   "metadata": {},
   "source": [
    "###### W obu przypadkach kolejności najistotniejszy wpływ na decyzję modelu miała zmienna relate_duration, mówiąca o długości trwania związku (dla wysokiej wartości 21 lat znacznie zwiększała przewidywanie o małżeństwie). Zmiana kolejności najbardziej zmieniła średni wpływ zmiennej otherdate, która przed informacją o długości związku w zasadzie nie zmienia przewidywań, co sugeruje, że w dłuższych związkach randkowanie zaczyan być powiązane z małżeństwem."
   ]
  },
  {
   "cell_type": "markdown",
   "metadata": {},
   "source": [
    "#### Second sample"
   ]
  },
  {
   "cell_type": "code",
   "execution_count": 155,
   "metadata": {},
   "outputs": [
    {
     "data": {
      "text/plain": [
       "OrderedDict([('pphhsize', 1.0),\n",
       "             ('relate_duration', 0.6666666865348816),\n",
       "             ('friends_connect', 0),\n",
       "             ('otherdate', 1)])"
      ]
     },
     "execution_count": 155,
     "metadata": {},
     "output_type": "execute_result"
    }
   ],
   "source": [
    "sample = OrderedDict(X_test.sample(1, random_state=178).to_dict('records')[0])\n",
    "sample"
   ]
  },
  {
   "cell_type": "code",
   "execution_count": 156,
   "metadata": {},
   "outputs": [
    {
     "data": {
      "image/png": "[encoded data removed]",
      "text/plain": [
       "<matplotlib.figure.Figure at 0x1a1a899f28>"
      ]
     },
     "metadata": {},
     "output_type": "display_data"
    }
   ],
   "source": [
    "mean_model_resp(X_test, cls,  sample)"
   ]
  },
  {
   "cell_type": "markdown",
   "metadata": {},
   "source": [
    "#### Changing order in sample"
   ]
  },
  {
   "cell_type": "code",
   "execution_count": 157,
   "metadata": {},
   "outputs": [
    {
     "data": {
      "text/plain": [
       "OrderedDict([('friends_connect', 0),\n",
       "             ('otherdate', 1),\n",
       "             ('relate_duration', 0.6666666865348816),\n",
       "             ('pphhsize', 1.0)])"
      ]
     },
     "execution_count": 157,
     "metadata": {},
     "output_type": "execute_result"
    }
   ],
   "source": [
    "sample.move_to_end('relate_duration')\n",
    "sample.move_to_end('pphhsize')\n",
    "sample"
   ]
  },
  {
   "cell_type": "code",
   "execution_count": 158,
   "metadata": {},
   "outputs": [
    {
     "data": {
      "image/png": "[encoded data removed]",
      "text/plain": [
       "<matplotlib.figure.Figure at 0x1a1aa8d080>"
      ]
     },
     "metadata": {},
     "output_type": "display_data"
    }
   ],
   "source": [
    "mean_model_resp(X_test, cls,  sample)"
   ]
  },
  {
   "cell_type": "markdown",
   "metadata": {},
   "source": [
    "#### W drugim przypadku również najistotniejsze zmiany powoduje zmienna dotycząca długości związku. W tym przypadku, zmienna mówiąca o tym, że w danym domu mieszka jedna osoba również powoduje spadek przewidywalnia małżeństwa (co zasadniczo jest spodziewane). Kolejność zmiennych nie powoduje jednak znacznych zmian wartości, co sugeruje, że zmienne nie wpływają na siebie."
   ]
  },
  {
   "cell_type": "code",
   "execution_count": null,
   "metadata": {},
   "outputs": [],
   "source": []
  }
 ],
 "metadata": {
  "kernelspec": {
   "display_name": "Python 3",
   "language": "python",
   "name": "python3"
  },
  "language_info": {
   "codemirror_mode": {
    "name": "ipython",
    "version": 3
   },
   "file_extension": ".py",
   "mimetype": "text/x-python",
   "name": "python",
   "nbconvert_exporter": "python",
   "pygments_lexer": "ipython3",
   "version": "3.6.4"
  }
 },
 "nbformat": 4,
 "nbformat_minor": 2
}
