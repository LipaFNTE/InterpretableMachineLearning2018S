{
 "cells": [
  {
   "cell_type": "markdown",
   "metadata": {},
   "source": [
    "# Praca domowa 3"
   ]
  },
  {
   "cell_type": "code",
   "execution_count": 1,
   "metadata": {},
   "outputs": [],
   "source": [
    "import pandas as pd\n",
    "import numpy as np\n",
    "\n",
    "data = pd.read_stata(\"hcmst.dta\")"
   ]
  },
  {
   "cell_type": "code",
   "execution_count": 2,
   "metadata": {
    "scrolled": false
   },
   "outputs": [
    {
     "data": {
      "text/html": [
       "<div>\n",
       "<style scoped>\n",
       "    .dataframe tbody tr th:only-of-type {\n",
       "        vertical-align: middle;\n",
       "    }\n",
       "\n",
       "    .dataframe tbody tr th {\n",
       "        vertical-align: top;\n",
       "    }\n",
       "\n",
       "    .dataframe thead th {\n",
       "        text-align: right;\n",
       "    }\n",
       "</style>\n",
       "<table border=\"1\" class=\"dataframe\">\n",
       "  <thead>\n",
       "    <tr style=\"text-align: right;\">\n",
       "      <th></th>\n",
       "      <th>CaseID</th>\n",
       "      <th>CASEID_NEW</th>\n",
       "      <th>qflag</th>\n",
       "      <th>weight1</th>\n",
       "      <th>weight1_freqwt</th>\n",
       "      <th>weight2</th>\n",
       "      <th>weight1a</th>\n",
       "      <th>weight1a_freqwt</th>\n",
       "      <th>weight_combo</th>\n",
       "      <th>weight_combo_freqwt</th>\n",
       "      <th>...</th>\n",
       "      <th>hcm2017q24_met_through_family</th>\n",
       "      <th>hcm2017q24_met_through_friend</th>\n",
       "      <th>hcm2017q24_met_through_as_nghbrs</th>\n",
       "      <th>hcm2017q24_met_as_through_cowork</th>\n",
       "      <th>w6_subject_race</th>\n",
       "      <th>interracial_5cat</th>\n",
       "      <th>partner_mother_yrsed</th>\n",
       "      <th>subject_mother_yrsed</th>\n",
       "      <th>partner_yrsed</th>\n",
       "      <th>subject_yrsed</th>\n",
       "    </tr>\n",
       "  </thead>\n",
       "  <tbody>\n",
       "    <tr>\n",
       "      <th>0</th>\n",
       "      <td>2</td>\n",
       "      <td>2014039</td>\n",
       "      <td>Qualified</td>\n",
       "      <td>NaN</td>\n",
       "      <td>NaN</td>\n",
       "      <td>0.8945</td>\n",
       "      <td>NaN</td>\n",
       "      <td>NaN</td>\n",
       "      <td>0.277188</td>\n",
       "      <td>19240.0</td>\n",
       "      <td>...</td>\n",
       "      <td>no</td>\n",
       "      <td>no</td>\n",
       "      <td>no</td>\n",
       "      <td>no</td>\n",
       "      <td>White</td>\n",
       "      <td>no</td>\n",
       "      <td>12.0</td>\n",
       "      <td>14.0</td>\n",
       "      <td>12.0</td>\n",
       "      <td>14.0</td>\n",
       "    </tr>\n",
       "    <tr>\n",
       "      <th>1</th>\n",
       "      <td>3</td>\n",
       "      <td>2019003</td>\n",
       "      <td>Qualified</td>\n",
       "      <td>0.9078</td>\n",
       "      <td>71115.0</td>\n",
       "      <td>NaN</td>\n",
       "      <td>0.9026</td>\n",
       "      <td>70707.0</td>\n",
       "      <td>1.020621</td>\n",
       "      <td>70841.0</td>\n",
       "      <td>...</td>\n",
       "      <td>no</td>\n",
       "      <td>no</td>\n",
       "      <td>no</td>\n",
       "      <td>yes</td>\n",
       "      <td>White</td>\n",
       "      <td>no</td>\n",
       "      <td>12.0</td>\n",
       "      <td>16.0</td>\n",
       "      <td>17.0</td>\n",
       "      <td>17.0</td>\n",
       "    </tr>\n",
       "    <tr>\n",
       "      <th>2</th>\n",
       "      <td>5</td>\n",
       "      <td>2145527</td>\n",
       "      <td>Qualified</td>\n",
       "      <td>0.7205</td>\n",
       "      <td>56442.0</td>\n",
       "      <td>NaN</td>\n",
       "      <td>0.7164</td>\n",
       "      <td>56121.0</td>\n",
       "      <td>0.810074</td>\n",
       "      <td>56227.0</td>\n",
       "      <td>...</td>\n",
       "      <td>no</td>\n",
       "      <td>no</td>\n",
       "      <td>no</td>\n",
       "      <td>no</td>\n",
       "      <td>White</td>\n",
       "      <td>no</td>\n",
       "      <td>9.0</td>\n",
       "      <td>7.5</td>\n",
       "      <td>14.0</td>\n",
       "      <td>17.0</td>\n",
       "    </tr>\n",
       "  </tbody>\n",
       "</table>\n",
       "<p>3 rows × 285 columns</p>\n",
       "</div>"
      ],
      "text/plain": [
       "   CaseID  CASEID_NEW      qflag  weight1  weight1_freqwt  weight2  weight1a  \\\n",
       "0       2     2014039  Qualified      NaN             NaN   0.8945       NaN   \n",
       "1       3     2019003  Qualified   0.9078         71115.0      NaN    0.9026   \n",
       "2       5     2145527  Qualified   0.7205         56442.0      NaN    0.7164   \n",
       "\n",
       "   weight1a_freqwt  weight_combo  weight_combo_freqwt  ...  \\\n",
       "0              NaN      0.277188              19240.0  ...   \n",
       "1          70707.0      1.020621              70841.0  ...   \n",
       "2          56121.0      0.810074              56227.0  ...   \n",
       "\n",
       "   hcm2017q24_met_through_family hcm2017q24_met_through_friend  \\\n",
       "0                             no                            no   \n",
       "1                             no                            no   \n",
       "2                             no                            no   \n",
       "\n",
       "  hcm2017q24_met_through_as_nghbrs hcm2017q24_met_as_through_cowork  \\\n",
       "0                               no                               no   \n",
       "1                               no                              yes   \n",
       "2                               no                               no   \n",
       "\n",
       "  w6_subject_race interracial_5cat partner_mother_yrsed subject_mother_yrsed  \\\n",
       "0           White               no                 12.0                 14.0   \n",
       "1           White               no                 12.0                 16.0   \n",
       "2           White               no                  9.0                  7.5   \n",
       "\n",
       "  partner_yrsed subject_yrsed  \n",
       "0          12.0          14.0  \n",
       "1          17.0          17.0  \n",
       "2          14.0          17.0  \n",
       "\n",
       "[3 rows x 285 columns]"
      ]
     },
     "execution_count": 2,
     "metadata": {},
     "output_type": "execute_result"
    }
   ],
   "source": [
    "data.head(3)"
   ]
  },
  {
   "cell_type": "markdown",
   "metadata": {},
   "source": [
    "# Wybranie cech:"
   ]
  },
  {
   "cell_type": "code",
   "execution_count": 3,
   "metadata": {
    "scrolled": false
   },
   "outputs": [
    {
     "data": {
      "text/html": [
       "<div>\n",
       "<style scoped>\n",
       "    .dataframe tbody tr th:only-of-type {\n",
       "        vertical-align: middle;\n",
       "    }\n",
       "\n",
       "    .dataframe tbody tr th {\n",
       "        vertical-align: top;\n",
       "    }\n",
       "\n",
       "    .dataframe thead th {\n",
       "        text-align: right;\n",
       "    }\n",
       "</style>\n",
       "<table border=\"1\" class=\"dataframe\">\n",
       "  <thead>\n",
       "    <tr style=\"text-align: right;\">\n",
       "      <th></th>\n",
       "      <th>rel_quality</th>\n",
       "      <th>education</th>\n",
       "      <th>living_together</th>\n",
       "      <th>partner_politics</th>\n",
       "      <th>partners_age</th>\n",
       "      <th>S1</th>\n",
       "    </tr>\n",
       "  </thead>\n",
       "  <tbody>\n",
       "    <tr>\n",
       "      <th>1</th>\n",
       "      <td>Excellent</td>\n",
       "      <td>Masters degree</td>\n",
       "      <td>Yes</td>\n",
       "      <td>Leans Republican</td>\n",
       "      <td>52</td>\n",
       "      <td>Yes, I am Married</td>\n",
       "    </tr>\n",
       "    <tr>\n",
       "      <th>2</th>\n",
       "      <td>Good</td>\n",
       "      <td>Masters degree</td>\n",
       "      <td>Yes</td>\n",
       "      <td>Leans Democrat</td>\n",
       "      <td>45</td>\n",
       "      <td>Yes, I am Married</td>\n",
       "    </tr>\n",
       "    <tr>\n",
       "      <th>4</th>\n",
       "      <td>Excellent</td>\n",
       "      <td>Bachelors degree</td>\n",
       "      <td>Yes</td>\n",
       "      <td>Strong Democrat</td>\n",
       "      <td>59</td>\n",
       "      <td>Yes, I am Married</td>\n",
       "    </tr>\n",
       "    <tr>\n",
       "      <th>5</th>\n",
       "      <td>Good</td>\n",
       "      <td>HIGH SCHOOL GRADUATE - high school DIPLOMA or ...</td>\n",
       "      <td>Yes</td>\n",
       "      <td>Undecided/Independent/Other</td>\n",
       "      <td>60</td>\n",
       "      <td>Yes, I am Married</td>\n",
       "    </tr>\n",
       "    <tr>\n",
       "      <th>6</th>\n",
       "      <td>Excellent</td>\n",
       "      <td>HIGH SCHOOL GRADUATE - high school DIPLOMA or ...</td>\n",
       "      <td>Yes</td>\n",
       "      <td>Leans Republican</td>\n",
       "      <td>67</td>\n",
       "      <td>Yes, I am Married</td>\n",
       "    </tr>\n",
       "  </tbody>\n",
       "</table>\n",
       "</div>"
      ],
      "text/plain": [
       "  rel_quality                                          education  \\\n",
       "1   Excellent                                     Masters degree   \n",
       "2        Good                                     Masters degree   \n",
       "4   Excellent                                   Bachelors degree   \n",
       "5        Good  HIGH SCHOOL GRADUATE - high school DIPLOMA or ...   \n",
       "6   Excellent  HIGH SCHOOL GRADUATE - high school DIPLOMA or ...   \n",
       "\n",
       "  living_together             partner_politics partners_age                 S1  \n",
       "1             Yes             Leans Republican           52  Yes, I am Married  \n",
       "2             Yes               Leans Democrat           45  Yes, I am Married  \n",
       "4             Yes              Strong Democrat           59  Yes, I am Married  \n",
       "5             Yes  Undecided/Independent/Other           60  Yes, I am Married  \n",
       "6             Yes             Leans Republican           67  Yes, I am Married  "
      ]
     },
     "execution_count": 3,
     "metadata": {},
     "output_type": "execute_result"
    }
   ],
   "source": [
    "num1 = \"Q34\"             # Ocena jakości związku\n",
    "num2 = \"ppeduc\"          # Najwyzszy zdobyty poziom edukacji\n",
    "num3 = \"Q9\"              # Wiek partnera\n",
    "cat1 = \"Q19\"             # Czy mieszkacie ze sobą obecnie?\n",
    "cat2 = \"Q12\"             # Polityczne preferencje partnera\n",
    "label = \"S1\"             # Czy jesteście małżeństwem\n",
    "\n",
    "data = data[[num1,num2,cat1,cat2,num3,label]].dropna()\n",
    "data.rename(columns={'Q9':'partners_age','Q34':'rel_quality','ppeduc':'education','Q19':'living_together','Q12':'partner_politics'}, inplace=True)\n",
    "data.head()"
   ]
  },
  {
   "cell_type": "code",
   "execution_count": 4,
   "metadata": {},
   "outputs": [
    {
     "data": {
      "text/html": [
       "<div>\n",
       "<style scoped>\n",
       "    .dataframe tbody tr th:only-of-type {\n",
       "        vertical-align: middle;\n",
       "    }\n",
       "\n",
       "    .dataframe tbody tr th {\n",
       "        vertical-align: top;\n",
       "    }\n",
       "\n",
       "    .dataframe thead th {\n",
       "        text-align: right;\n",
       "    }\n",
       "</style>\n",
       "<table border=\"1\" class=\"dataframe\">\n",
       "  <thead>\n",
       "    <tr style=\"text-align: right;\">\n",
       "      <th></th>\n",
       "      <th>rel_quality</th>\n",
       "      <th>education</th>\n",
       "      <th>living_together</th>\n",
       "      <th>partner_politics</th>\n",
       "      <th>partners_age</th>\n",
       "      <th>S1</th>\n",
       "    </tr>\n",
       "  </thead>\n",
       "  <tbody>\n",
       "    <tr>\n",
       "      <th>count</th>\n",
       "      <td>2856</td>\n",
       "      <td>2856</td>\n",
       "      <td>2856</td>\n",
       "      <td>2856</td>\n",
       "      <td>2856.0</td>\n",
       "      <td>2856</td>\n",
       "    </tr>\n",
       "    <tr>\n",
       "      <th>unique</th>\n",
       "      <td>6</td>\n",
       "      <td>14</td>\n",
       "      <td>3</td>\n",
       "      <td>8</td>\n",
       "      <td>79.0</td>\n",
       "      <td>2</td>\n",
       "    </tr>\n",
       "    <tr>\n",
       "      <th>top</th>\n",
       "      <td>Excellent</td>\n",
       "      <td>HIGH SCHOOL GRADUATE - high school DIPLOMA or ...</td>\n",
       "      <td>Yes</td>\n",
       "      <td>Undecided/Independent/Other</td>\n",
       "      <td>55.0</td>\n",
       "      <td>Yes, I am Married</td>\n",
       "    </tr>\n",
       "    <tr>\n",
       "      <th>freq</th>\n",
       "      <td>1706</td>\n",
       "      <td>723</td>\n",
       "      <td>2387</td>\n",
       "      <td>823</td>\n",
       "      <td>79.0</td>\n",
       "      <td>2079</td>\n",
       "    </tr>\n",
       "  </tbody>\n",
       "</table>\n",
       "</div>"
      ],
      "text/plain": [
       "       rel_quality                                          education  \\\n",
       "count         2856                                               2856   \n",
       "unique           6                                                 14   \n",
       "top      Excellent  HIGH SCHOOL GRADUATE - high school DIPLOMA or ...   \n",
       "freq          1706                                                723   \n",
       "\n",
       "       living_together             partner_politics  partners_age  \\\n",
       "count             2856                         2856        2856.0   \n",
       "unique               3                            8          79.0   \n",
       "top                Yes  Undecided/Independent/Other          55.0   \n",
       "freq              2387                          823          79.0   \n",
       "\n",
       "                       S1  \n",
       "count                2856  \n",
       "unique                  2  \n",
       "top     Yes, I am Married  \n",
       "freq                 2079  "
      ]
     },
     "execution_count": 4,
     "metadata": {},
     "output_type": "execute_result"
    }
   ],
   "source": [
    "data.describe()"
   ]
  },
  {
   "cell_type": "code",
   "execution_count": 5,
   "metadata": {},
   "outputs": [],
   "source": [
    "from sklearn import preprocessing\n",
    "    \n",
    "le = preprocessing.LabelEncoder()\n",
    "\n",
    "for column_name in data.columns:\n",
    "    if column_name == \"rel_quality\":\n",
    "        data[column_name] = data[column_name].map({\n",
    "            'Refused':-1, \n",
    "            'Excellent':5, \n",
    "            \"Good\":4, \n",
    "            \"Fair\":3, \n",
    "            \"Poor\":2, \n",
    "            \"Very poor\":1\n",
    "        })\n",
    "    \n",
    "    if column_name == \"education\":\n",
    "        data[column_name] = data[column_name].map({\n",
    "            'No formal education':1, \n",
    "            '1st, 2nd, 3rd, or 4th grade':2, \n",
    "            '5th or 6th grade':3,\n",
    "            '7th or 8th grade':4,\n",
    "            '9th grade':5,\n",
    "            '10th grade':6,        \n",
    "            '11th grade':7, \n",
    "            '12th grade no diploma':8,\n",
    "            'HIGH SCHOOL GRADUATE - high school DIPLOMA or the equivalent (GED)':9,\n",
    "            'Some college, no degree':10,\n",
    "            'Bachelors degree':11,\n",
    "            'Masters degree':12,\n",
    "            'Associate degree':13,\n",
    "            'Professional or Doctorate degree':14\n",
    "        })\n",
    "        \n",
    "    if column_name == 'partner_politics':\n",
    "         data[column_name] = data[column_name].map({\n",
    "            'Strong Republican' :1,\n",
    "            'Not Strong Republican' :2,\n",
    "            'Leans Republican' :3,\n",
    "            'Undecided/Independent/Other' :4,\n",
    "            'Leans Democrat' :5,\n",
    "            'Not Strong Democrat' :6,   \n",
    "            'Strong Democrat' :7\n",
    "           })\n",
    "    \n",
    "    if column_name == 'living_together':\n",
    "         data[column_name] = data[column_name].map({\n",
    "            'Refused' :-1,\n",
    "            'Yes' :1,\n",
    "            'No' :2\n",
    "         })\n",
    "            \n",
    "    if column_name != 'rel_quality' and column_name != 'education' and column_name != 'partner_politics' and column_name != 'living_together' and hasattr(pd.Series(data[column_name], dtype='category'), 'cat'):\n",
    "        data[column_name] = le.fit_transform(data[column_name].astype(str))\n",
    "             \n",
    "    else:\n",
    "        pass"
   ]
  },
  {
   "cell_type": "markdown",
   "metadata": {},
   "source": [
    "# Podział zbioru danych na treningowy i testowy:"
   ]
  },
  {
   "cell_type": "code",
   "execution_count": 6,
   "metadata": {},
   "outputs": [
    {
     "data": {
      "text/plain": [
       "((1851, 5), (912, 5), (1851,), (912,))"
      ]
     },
     "execution_count": 6,
     "metadata": {},
     "output_type": "execute_result"
    }
   ],
   "source": [
    "from sklearn.model_selection import train_test_split\n",
    "\n",
    "data = data.dropna()\n",
    "\n",
    "y = data.loc[:,'S1']\n",
    "X = data.loc[:, data.columns != 'S1']\n",
    "\n",
    "X_train, X_test, y_train, y_test = train_test_split(X, y, test_size=0.33, random_state=42)\n",
    "X_train.shape, X_test.shape, y_train.shape, y_test.shape"
   ]
  },
  {
   "cell_type": "markdown",
   "metadata": {},
   "source": [
    "# Model:"
   ]
  },
  {
   "cell_type": "code",
   "execution_count": 7,
   "metadata": {},
   "outputs": [
    {
     "name": "stdout",
     "output_type": "stream",
     "text": [
      "Model accuracy score: 0.8629385964912281\n"
     ]
    }
   ],
   "source": [
    "#from xgboost import XGBClassifier\n",
    "from sklearn.ensemble import RandomForestClassifier\n",
    "from sklearn.metrics import accuracy_score\n",
    "\n",
    "random_forest = RandomForestClassifier(n_estimators=100, max_depth=3,random_state=25)\n",
    "\n",
    "y_pred = random_forest.fit(X_train,y_train).predict(X_test)\n",
    "acc = accuracy_score(y_test,y_pred)\n",
    "print(\"Model accuracy score: \" + str(acc))"
   ]
  },
  {
   "cell_type": "markdown",
   "metadata": {},
   "source": [
    "# Wykres Break Down:"
   ]
  },
  {
   "cell_type": "code",
   "execution_count": 114,
   "metadata": {},
   "outputs": [],
   "source": [
    "import waterfall_chart\n",
    "\n",
    "def f(data, model, sample, feature_list):\n",
    "    \n",
    "    X_temp = data.copy()\n",
    "    probabilities = []\n",
    "    deltas = []\n",
    "\n",
    "    # obliczenie sredniej odpowiedzi dla calego zbioru:\n",
    "    temp_results = []\n",
    "    \n",
    "    for k in range(len(X_temp)):\n",
    "        prob_single_sample = model.predict_proba(X_temp.iloc[[k]])\n",
    "        temp_results.append(prob_single_sample[0][1])\n",
    "        \n",
    "    mean_prob = np.mean(temp_results)\n",
    "    probabilities.append(mean_prob)\n",
    "    deltas.append(probabilities[0])\n",
    "    \n",
    "    # obliczanie sredniej odpowiedzi dla ustalonych kolejnych zmiennych:\n",
    "    \n",
    "    for i in range(len(feature_list)):\n",
    "        X_temp.loc[:,feature_list[i]] = int(sample[feature_list[i]]) \n",
    "        temp_results = []\n",
    "        \n",
    "        for j in range(len(X_temp)):\n",
    "            prob_single_sample = model.predict_proba(X_temp.iloc[[j]])\n",
    "            temp_results.append(prob_single_sample[0][1])\n",
    "        \n",
    "        mean_prob = np.mean(temp_results)\n",
    "        probabilities.append(mean_prob)\n",
    "        \n",
    "        deltas.append(probabilities[i+1]-probabilities[i])\n",
    "    \n",
    "    waterfall_chart.plot(['base'] + feature_list, deltas, Title = \"Models mean response\",\n",
    "                         net_label='End result', formatting='{:,.2f}')\n",
    "\n",
    "    return"
   ]
  },
  {
   "cell_type": "markdown",
   "metadata": {},
   "source": [
    "# Przykłady zastosowania na konkretnych próbkach:"
   ]
  },
  {
   "cell_type": "code",
   "execution_count": 161,
   "metadata": {},
   "outputs": [
    {
     "data": {
      "text/html": [
       "<div>\n",
       "<style scoped>\n",
       "    .dataframe tbody tr th:only-of-type {\n",
       "        vertical-align: middle;\n",
       "    }\n",
       "\n",
       "    .dataframe tbody tr th {\n",
       "        vertical-align: top;\n",
       "    }\n",
       "\n",
       "    .dataframe thead th {\n",
       "        text-align: right;\n",
       "    }\n",
       "</style>\n",
       "<table border=\"1\" class=\"dataframe\">\n",
       "  <thead>\n",
       "    <tr style=\"text-align: right;\">\n",
       "      <th></th>\n",
       "      <th>rel_quality</th>\n",
       "      <th>education</th>\n",
       "      <th>living_together</th>\n",
       "      <th>partner_politics</th>\n",
       "      <th>partners_age</th>\n",
       "    </tr>\n",
       "  </thead>\n",
       "  <tbody>\n",
       "    <tr>\n",
       "      <th>1059</th>\n",
       "      <td>5.0</td>\n",
       "      <td>12.0</td>\n",
       "      <td>2</td>\n",
       "      <td>5.0</td>\n",
       "      <td>18</td>\n",
       "    </tr>\n",
       "  </tbody>\n",
       "</table>\n",
       "</div>"
      ],
      "text/plain": [
       "      rel_quality  education  living_together  partner_politics  partners_age\n",
       "1059          5.0       12.0                2               5.0            18"
      ]
     },
     "execution_count": 161,
     "metadata": {},
     "output_type": "execute_result"
    }
   ],
   "source": [
    "single_couple = X_train.sample()\n",
    "single_couple"
   ]
  },
  {
   "cell_type": "code",
   "execution_count": 162,
   "metadata": {},
   "outputs": [
    {
     "data": {
      "text/html": [
       "<div>\n",
       "<style scoped>\n",
       "    .dataframe tbody tr th:only-of-type {\n",
       "        vertical-align: middle;\n",
       "    }\n",
       "\n",
       "    .dataframe tbody tr th {\n",
       "        vertical-align: top;\n",
       "    }\n",
       "\n",
       "    .dataframe thead th {\n",
       "        text-align: right;\n",
       "    }\n",
       "</style>\n",
       "<table border=\"1\" class=\"dataframe\">\n",
       "  <thead>\n",
       "    <tr style=\"text-align: right;\">\n",
       "      <th></th>\n",
       "      <th>index</th>\n",
       "      <th>1059</th>\n",
       "    </tr>\n",
       "  </thead>\n",
       "  <tbody>\n",
       "    <tr>\n",
       "      <th>0</th>\n",
       "      <td>rel_quality</td>\n",
       "      <td>5.0</td>\n",
       "    </tr>\n",
       "    <tr>\n",
       "      <th>1</th>\n",
       "      <td>education</td>\n",
       "      <td>12.0</td>\n",
       "    </tr>\n",
       "    <tr>\n",
       "      <th>2</th>\n",
       "      <td>living_together</td>\n",
       "      <td>2.0</td>\n",
       "    </tr>\n",
       "    <tr>\n",
       "      <th>3</th>\n",
       "      <td>partner_politics</td>\n",
       "      <td>5.0</td>\n",
       "    </tr>\n",
       "    <tr>\n",
       "      <th>4</th>\n",
       "      <td>partners_age</td>\n",
       "      <td>18.0</td>\n",
       "    </tr>\n",
       "    <tr>\n",
       "      <th>5</th>\n",
       "      <td>S1</td>\n",
       "      <td>0.0</td>\n",
       "    </tr>\n",
       "  </tbody>\n",
       "</table>\n",
       "</div>"
      ],
      "text/plain": [
       "              index  1059\n",
       "0       rel_quality   5.0\n",
       "1         education  12.0\n",
       "2   living_together   2.0\n",
       "3  partner_politics   5.0\n",
       "4      partners_age  18.0\n",
       "5                S1   0.0"
      ]
     },
     "execution_count": 162,
     "metadata": {},
     "output_type": "execute_result"
    }
   ],
   "source": [
    "# sprawdzenie, jaka jest odpowiedź dla danej próbki w zbiorze danych\n",
    "\n",
    "data.loc[single_couple.iloc[0].name].reset_index()"
   ]
  },
  {
   "cell_type": "code",
   "execution_count": 163,
   "metadata": {},
   "outputs": [
    {
     "data": {
      "text/plain": [
       "0.2197809097250436"
      ]
     },
     "execution_count": 163,
     "metadata": {},
     "output_type": "execute_result"
    }
   ],
   "source": [
    "# sprawdzenie, jaka jest odpowiedź modelu dla danej próbki\n",
    "\n",
    "prob_single_sample = random_forest.predict_proba(single_couple)\n",
    "prob_single_sample[0][1]"
   ]
  },
  {
   "cell_type": "code",
   "execution_count": 164,
   "metadata": {
    "scrolled": false
   },
   "outputs": [
    {
     "data": {
      "image/png": "[encoded data removed]",
      "text/plain": [
       "<Figure size 432x288 with 1 Axes>"
      ]
     },
     "metadata": {
      "needs_background": "light"
     },
     "output_type": "display_data"
    }
   ],
   "source": [
    "f(X_train,random_forest,single_couple, [\"education\",\"living_together\",\"rel_quality\",\"partners_age\",\"partner_politics\"])"
   ]
  },
  {
   "cell_type": "code",
   "execution_count": 165,
   "metadata": {},
   "outputs": [
    {
     "data": {
      "image/png": "[encoded data removed]",
      "text/plain": [
       "<Figure size 432x288 with 1 Axes>"
      ]
     },
     "metadata": {
      "needs_background": "light"
     },
     "output_type": "display_data"
    }
   ],
   "source": [
    "# zmiana kolejnosci zmiennych\n",
    "\n",
    "f(X_train,random_forest,single_couple, [\"partners_age\",\"living_together\",\"education\",\"partner_politics\",\"rel_quality\"])"
   ]
  },
  {
   "cell_type": "markdown",
   "metadata": {},
   "source": [
    "----------------------------------------------------"
   ]
  },
  {
   "cell_type": "code",
   "execution_count": 116,
   "metadata": {},
   "outputs": [
    {
     "data": {
      "text/html": [
       "<div>\n",
       "<style scoped>\n",
       "    .dataframe tbody tr th:only-of-type {\n",
       "        vertical-align: middle;\n",
       "    }\n",
       "\n",
       "    .dataframe tbody tr th {\n",
       "        vertical-align: top;\n",
       "    }\n",
       "\n",
       "    .dataframe thead th {\n",
       "        text-align: right;\n",
       "    }\n",
       "</style>\n",
       "<table border=\"1\" class=\"dataframe\">\n",
       "  <thead>\n",
       "    <tr style=\"text-align: right;\">\n",
       "      <th></th>\n",
       "      <th>rel_quality</th>\n",
       "      <th>education</th>\n",
       "      <th>living_together</th>\n",
       "      <th>partner_politics</th>\n",
       "      <th>partners_age</th>\n",
       "    </tr>\n",
       "  </thead>\n",
       "  <tbody>\n",
       "    <tr>\n",
       "      <th>306</th>\n",
       "      <td>5.0</td>\n",
       "      <td>10.0</td>\n",
       "      <td>1</td>\n",
       "      <td>1.0</td>\n",
       "      <td>53</td>\n",
       "    </tr>\n",
       "  </tbody>\n",
       "</table>\n",
       "</div>"
      ],
      "text/plain": [
       "     rel_quality  education  living_together  partner_politics  partners_age\n",
       "306          5.0       10.0                1               1.0            53"
      ]
     },
     "execution_count": 116,
     "metadata": {},
     "output_type": "execute_result"
    }
   ],
   "source": [
    "single_couple = X_train.sample()\n",
    "single_couple"
   ]
  },
  {
   "cell_type": "code",
   "execution_count": 169,
   "metadata": {},
   "outputs": [
    {
     "data": {
      "text/html": [
       "<div>\n",
       "<style scoped>\n",
       "    .dataframe tbody tr th:only-of-type {\n",
       "        vertical-align: middle;\n",
       "    }\n",
       "\n",
       "    .dataframe tbody tr th {\n",
       "        vertical-align: top;\n",
       "    }\n",
       "\n",
       "    .dataframe thead th {\n",
       "        text-align: right;\n",
       "    }\n",
       "</style>\n",
       "<table border=\"1\" class=\"dataframe\">\n",
       "  <thead>\n",
       "    <tr style=\"text-align: right;\">\n",
       "      <th></th>\n",
       "      <th>index</th>\n",
       "      <th>306</th>\n",
       "    </tr>\n",
       "  </thead>\n",
       "  <tbody>\n",
       "    <tr>\n",
       "      <th>0</th>\n",
       "      <td>rel_quality</td>\n",
       "      <td>5.0</td>\n",
       "    </tr>\n",
       "    <tr>\n",
       "      <th>1</th>\n",
       "      <td>education</td>\n",
       "      <td>10.0</td>\n",
       "    </tr>\n",
       "    <tr>\n",
       "      <th>2</th>\n",
       "      <td>living_together</td>\n",
       "      <td>1.0</td>\n",
       "    </tr>\n",
       "    <tr>\n",
       "      <th>3</th>\n",
       "      <td>partner_politics</td>\n",
       "      <td>1.0</td>\n",
       "    </tr>\n",
       "    <tr>\n",
       "      <th>4</th>\n",
       "      <td>partners_age</td>\n",
       "      <td>53.0</td>\n",
       "    </tr>\n",
       "    <tr>\n",
       "      <th>5</th>\n",
       "      <td>S1</td>\n",
       "      <td>1.0</td>\n",
       "    </tr>\n",
       "  </tbody>\n",
       "</table>\n",
       "</div>"
      ],
      "text/plain": [
       "              index   306\n",
       "0       rel_quality   5.0\n",
       "1         education  10.0\n",
       "2   living_together   1.0\n",
       "3  partner_politics   1.0\n",
       "4      partners_age  53.0\n",
       "5                S1   1.0"
      ]
     },
     "execution_count": 169,
     "metadata": {},
     "output_type": "execute_result"
    }
   ],
   "source": [
    "data.loc[single_couple.iloc[0].name].reset_index()"
   ]
  },
  {
   "cell_type": "code",
   "execution_count": 170,
   "metadata": {},
   "outputs": [
    {
     "data": {
      "text/plain": [
       "0.9118654385293558"
      ]
     },
     "execution_count": 170,
     "metadata": {},
     "output_type": "execute_result"
    }
   ],
   "source": [
    "prob_single_sample = random_forest.predict_proba(single_couple)\n",
    "prob_single_sample[0][1]"
   ]
  },
  {
   "cell_type": "code",
   "execution_count": 119,
   "metadata": {},
   "outputs": [
    {
     "data": {
      "image/png": "[encoded data removed]",
      "text/plain": [
       "<Figure size 432x288 with 1 Axes>"
      ]
     },
     "metadata": {
      "needs_background": "light"
     },
     "output_type": "display_data"
    }
   ],
   "source": [
    "f(X_train,random_forest,single_couple, [\"rel_quality\",\"partners_age\",\"education\",\"living_together\",\"partner_politics\"])"
   ]
  },
  {
   "cell_type": "code",
   "execution_count": 171,
   "metadata": {},
   "outputs": [
    {
     "data": {
      "image/png": "[encoded data removed]",
      "text/plain": [
       "<Figure size 432x288 with 1 Axes>"
      ]
     },
     "metadata": {
      "needs_background": "light"
     },
     "output_type": "display_data"
    }
   ],
   "source": [
    "f(X_train,random_forest,single_couple, [\"partner_politics\",\"living_together\",\"rel_quality\",\"education\",\"partners_age\"])"
   ]
  },
  {
   "cell_type": "markdown",
   "metadata": {},
   "source": [
    "----------------------------------"
   ]
  },
  {
   "cell_type": "code",
   "execution_count": 125,
   "metadata": {},
   "outputs": [
    {
     "data": {
      "text/html": [
       "<div>\n",
       "<style scoped>\n",
       "    .dataframe tbody tr th:only-of-type {\n",
       "        vertical-align: middle;\n",
       "    }\n",
       "\n",
       "    .dataframe tbody tr th {\n",
       "        vertical-align: top;\n",
       "    }\n",
       "\n",
       "    .dataframe thead th {\n",
       "        text-align: right;\n",
       "    }\n",
       "</style>\n",
       "<table border=\"1\" class=\"dataframe\">\n",
       "  <thead>\n",
       "    <tr style=\"text-align: right;\">\n",
       "      <th></th>\n",
       "      <th>rel_quality</th>\n",
       "      <th>education</th>\n",
       "      <th>living_together</th>\n",
       "      <th>partner_politics</th>\n",
       "      <th>partners_age</th>\n",
       "    </tr>\n",
       "  </thead>\n",
       "  <tbody>\n",
       "    <tr>\n",
       "      <th>1922</th>\n",
       "      <td>5.0</td>\n",
       "      <td>13.0</td>\n",
       "      <td>1</td>\n",
       "      <td>7.0</td>\n",
       "      <td>33</td>\n",
       "    </tr>\n",
       "  </tbody>\n",
       "</table>\n",
       "</div>"
      ],
      "text/plain": [
       "      rel_quality  education  living_together  partner_politics  partners_age\n",
       "1922          5.0       13.0                1               7.0            33"
      ]
     },
     "execution_count": 125,
     "metadata": {},
     "output_type": "execute_result"
    }
   ],
   "source": [
    "single_couple = X_train.sample()\n",
    "single_couple"
   ]
  },
  {
   "cell_type": "code",
   "execution_count": 126,
   "metadata": {},
   "outputs": [
    {
     "data": {
      "text/html": [
       "<div>\n",
       "<style scoped>\n",
       "    .dataframe tbody tr th:only-of-type {\n",
       "        vertical-align: middle;\n",
       "    }\n",
       "\n",
       "    .dataframe tbody tr th {\n",
       "        vertical-align: top;\n",
       "    }\n",
       "\n",
       "    .dataframe thead th {\n",
       "        text-align: right;\n",
       "    }\n",
       "</style>\n",
       "<table border=\"1\" class=\"dataframe\">\n",
       "  <thead>\n",
       "    <tr style=\"text-align: right;\">\n",
       "      <th></th>\n",
       "      <th>index</th>\n",
       "      <th>1922</th>\n",
       "    </tr>\n",
       "  </thead>\n",
       "  <tbody>\n",
       "    <tr>\n",
       "      <th>0</th>\n",
       "      <td>rel_quality</td>\n",
       "      <td>5.0</td>\n",
       "    </tr>\n",
       "    <tr>\n",
       "      <th>1</th>\n",
       "      <td>education</td>\n",
       "      <td>13.0</td>\n",
       "    </tr>\n",
       "    <tr>\n",
       "      <th>2</th>\n",
       "      <td>living_together</td>\n",
       "      <td>1.0</td>\n",
       "    </tr>\n",
       "    <tr>\n",
       "      <th>3</th>\n",
       "      <td>partner_politics</td>\n",
       "      <td>7.0</td>\n",
       "    </tr>\n",
       "    <tr>\n",
       "      <th>4</th>\n",
       "      <td>partners_age</td>\n",
       "      <td>33.0</td>\n",
       "    </tr>\n",
       "    <tr>\n",
       "      <th>5</th>\n",
       "      <td>S1</td>\n",
       "      <td>1.0</td>\n",
       "    </tr>\n",
       "  </tbody>\n",
       "</table>\n",
       "</div>"
      ],
      "text/plain": [
       "              index  1922\n",
       "0       rel_quality   5.0\n",
       "1         education  13.0\n",
       "2   living_together   1.0\n",
       "3  partner_politics   7.0\n",
       "4      partners_age  33.0\n",
       "5                S1   1.0"
      ]
     },
     "execution_count": 126,
     "metadata": {},
     "output_type": "execute_result"
    }
   ],
   "source": [
    "data.loc[single_couple.iloc[0].name].reset_index()"
   ]
  },
  {
   "cell_type": "code",
   "execution_count": 127,
   "metadata": {},
   "outputs": [
    {
     "data": {
      "text/plain": [
       "0.8334057168603363"
      ]
     },
     "execution_count": 127,
     "metadata": {},
     "output_type": "execute_result"
    }
   ],
   "source": [
    "prob_single_sample = random_forest.predict_proba(single_couple)\n",
    "prob_single_sample[0][1]"
   ]
  },
  {
   "cell_type": "code",
   "execution_count": 128,
   "metadata": {
    "scrolled": true
   },
   "outputs": [
    {
     "data": {
      "image/png": "[encoded data removed]",
      "text/plain": [
       "<Figure size 432x288 with 1 Axes>"
      ]
     },
     "metadata": {
      "needs_background": "light"
     },
     "output_type": "display_data"
    }
   ],
   "source": [
    "f(X_train,random_forest,single_couple, [\"living_together\",\"rel_quality\",\"partners_age\",\"education\",\"partner_politics\"])"
   ]
  },
  {
   "cell_type": "markdown",
   "metadata": {},
   "source": [
    "# Wnioski"
   ]
  },
  {
   "cell_type": "markdown",
   "metadata": {},
   "source": [
    "* Największy wpływ na odpowiedź modelu mają zmienne: *living_together, partners_age* oraz *partner_politics*, jednak ich wpływy są różne pomiędzy różnymi próbkami - największe różnice wprowadzają te sytuacje, które są skrajne lub nietypowe (wiek poniżej 20 lat, niemieszkanie ze sobą silnie sugeruje, że para nie jest małżeństwem)\n",
    "* Zmiana kolejności zmiennych wywołuje niewielkie różnice w wartościach wpływów kolejnych zmiennych, ale wnioski, które można wyciągnąć z wykresów dla tej samej próbki z różną kolejnością zmiennych pozostają takie same bez względu na kolejność zmiennych \n",
    "* Wyniki pasują do poprzednich wyników: wykresy M-plot dla zmiennej 'education' sugerowały, że nie ma ona specjalnego wpływu na odpowiedź modelu, co tutaj się potwierdziło"
   ]
  }
 ],
 "metadata": {
  "kernelspec": {
   "display_name": "Python 3",
   "language": "python",
   "name": "python3"
  },
  "language_info": {
   "codemirror_mode": {
    "name": "ipython",
    "version": 3
   },
   "file_extension": ".py",
   "mimetype": "text/x-python",
   "name": "python",
   "nbconvert_exporter": "python",
   "pygments_lexer": "ipython3",
   "version": "3.7.1"
  }
 },
 "nbformat": 4,
 "nbformat_minor": 2
}
