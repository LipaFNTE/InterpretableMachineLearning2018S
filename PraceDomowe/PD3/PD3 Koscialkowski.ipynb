{
 "cells": [
  {
   "cell_type": "markdown",
   "metadata": {},
   "source": [
    "# Interpretable Machine Learning: PD3"
   ]
  },
  {
   "cell_type": "code",
   "execution_count": 45,
   "metadata": {},
   "outputs": [],
   "source": [
    "import matplotlib.pyplot as plt\n",
    "import numpy as np\n",
    "import pandas as pd\n",
    "import waterfall_chart\n",
    "\n",
    "from xgboost import XGBClassifier"
   ]
  },
  {
   "cell_type": "markdown",
   "metadata": {},
   "source": [
    "Przekopiowałem kod do wczytywania i transformacji danych oraz trenowania modelu z PD1."
   ]
  },
  {
   "cell_type": "code",
   "execution_count": 35,
   "metadata": {},
   "outputs": [],
   "source": [
    "path = r'D:\\Interpretable Machine Learning\\PD1\\HCMST 2017 fresh sample for public sharing draft v1.1.dta'\n",
    "data = pd.read_stata(path)"
   ]
  },
  {
   "cell_type": "code",
   "execution_count": 37,
   "metadata": {},
   "outputs": [],
   "source": [
    "variables = ['ppage', 'w6_q24_length', 'w6_sex_frequency', 'w6_q23', 'w6_q27']\n",
    "# Selecting variables\n",
    "X = data[variables]\n",
    "# Filtering observations\n",
    "logical_filter = (~data.w6_q23.isna()) & (data.w6_q23 != 'Refused') & (data.w6_q27 != 'Refused')\n",
    "X = X[logical_filter]\n",
    "# Casting types and imputation\n",
    "X.ppage = X.ppage.astype(float)\n",
    "X.w6_q24_length = X.w6_q24_length.astype(float)\n",
    "X.w6_sex_frequency = X.w6_sex_frequency.cat.codes.replace({-1:5, 0:5})\n",
    "X.w6_q23 = X.w6_q23.astype(str)\n",
    "X.w6_q27 = X.w6_q27.astype(str)\n",
    "# One Hot Encoding\n",
    "X = pd.get_dummies(X)\n",
    "X.columns = map(lambda x: x.replace('[Partner Name]', 'PARTNER'), X.columns)\n",
    "\n",
    "y = 1 - data.S1.cat.codes\n",
    "y = y[logical_filter]"
   ]
  },
  {
   "cell_type": "code",
   "execution_count": 6,
   "metadata": {},
   "outputs": [
    {
     "data": {
      "text/plain": [
       "XGBClassifier(base_score=0.5, booster='gbtree', colsample_bylevel=1,\n",
       "       colsample_bytree=1, gamma=0, learning_rate=0.1, max_delta_step=0,\n",
       "       max_depth=3, min_child_weight=1, missing=None, n_estimators=100,\n",
       "       n_jobs=1, nthread=None, objective='binary:logistic', random_state=0,\n",
       "       reg_alpha=0, reg_lambda=1, scale_pos_weight=1, seed=123,\n",
       "       silent=True, subsample=1)"
      ]
     },
     "execution_count": 6,
     "metadata": {},
     "output_type": "execute_result"
    }
   ],
   "source": [
    "xgb = XGBClassifier(seed=123)\n",
    "xgb.fit(X,y)"
   ]
  },
  {
   "cell_type": "markdown",
   "metadata": {},
   "source": [
    "## Definicja funkcji rysującej wykres do Variable Attribution"
   ]
  },
  {
   "cell_type": "code",
   "execution_count": 92,
   "metadata": {},
   "outputs": [],
   "source": [
    "def VA_plot(model, X, obs, variable_order_list):\n",
    "    obs = pd.DataFrame(obs).transpose()\n",
    "    df = X.copy()\n",
    "    df_to_add = X.copy()\n",
    "    for var in variable_order_list:\n",
    "        df_to_add[var] = obs[var].values[0]\n",
    "        \n",
    "        df = df.append(df_to_add)\n",
    "        \n",
    "    preds = model.predict_proba(df)[:,1]\n",
    "    to_plot = pd.DataFrame({'label':np.repeat(['pred_mean'] + list(map(lambda x: x[:10],variable_order_list)), X.shape[0]),\n",
    "                            'pred':preds})\n",
    "    to_plot = to_plot.groupby('label', sort=False).agg('mean')\n",
    "    to_plot['pred'] = [to_plot['pred'][0]] + list(np.diff(to_plot['pred']))\n",
    "    waterfall_chart.plot(to_plot.index,\n",
    "                         to_plot['pred'],\n",
    "                            formatting='{:,.3f}',)"
   ]
  },
  {
   "cell_type": "markdown",
   "metadata": {},
   "source": [
    "## Wyjaśnianie modelu"
   ]
  },
  {
   "cell_type": "markdown",
   "metadata": {},
   "source": [
    "Analogicznie do PD1, jako obserwację wybrano 32-letnią osobę, która o poznaniu swojego partnera napisała 348 znaków. Z partnerem uprawiała seks z partnerem 3 do 6 razy w tygodniu; w 2016 roku zarobiła więcej niż partner oraz dorastała z partnerem w tej samej miejscowości. Osoba ta nie była w związku małżeńskim."
   ]
  },
  {
   "cell_type": "code",
   "execution_count": 9,
   "metadata": {},
   "outputs": [
    {
     "name": "stdout",
     "output_type": "stream",
     "text": [
      "ppage                                      32.0\n",
      "w6_q24_length                             348.0\n",
      "w6_sex_frequency                            2.0\n",
      "w6_q23_I earned more                        1.0\n",
      "w6_q23_We earned about the same amount      0.0\n",
      "w6_q23_PARTNER earned more                  0.0\n",
      "w6_q23_PARTNER was not working for pay      0.0\n",
      "w6_q27_No                                   0.0\n",
      "w6_q27_Yes                                  1.0\n",
      "Name: 24, dtype: float64\n",
      "0\n"
     ]
    }
   ],
   "source": [
    "obs = X.iloc[23,]\n",
    "print(obs)\n",
    "print(y[23])"
   ]
  },
  {
   "cell_type": "markdown",
   "metadata": {},
   "source": [
    "Przyjąłem dwa podejścia. Najpierw rozważyłem zmienne w kolejności: numeryczne, porządkowa, dyskretne. W drugiej wersji odwrotnie - zaczynając od dyskretnych, a potem porządkowa i numeryczne w odwróconej kolejności."
   ]
  },
  {
   "cell_type": "code",
   "execution_count": 93,
   "metadata": {},
   "outputs": [
    {
     "data": {
      "image/png": "[encoded data removed]",
      "text/plain": [
       "<matplotlib.figure.Figure at 0x2a2675fbbe0>"
      ]
     },
     "metadata": {
      "needs_background": "light"
     },
     "output_type": "display_data"
    }
   ],
   "source": [
    "vlist1 = ['ppage', \n",
    "          'w6_q24_length', \n",
    "          'w6_sex_frequency', \n",
    "          'w6_q23_I earned more', \n",
    "          'w6_q23_We earned about the same amount', \n",
    "          'w6_q23_PARTNER earned more',\n",
    "          'w6_q23_PARTNER was not working for pay',\n",
    "          'w6_q27_No',\n",
    "          'w6_q27_Yes']\n",
    "\n",
    "VA_plot(xgb, X, obs, vlist1)"
   ]
  },
  {
   "cell_type": "code",
   "execution_count": 95,
   "metadata": {},
   "outputs": [
    {
     "data": {
      "image/png": "[encoded data removed]",
      "text/plain": [
       "<matplotlib.figure.Figure at 0x2a27bd220b8>"
      ]
     },
     "metadata": {
      "needs_background": "light"
     },
     "output_type": "display_data"
    }
   ],
   "source": [
    "vlist2 = ['w6_q23_I earned more', \n",
    "          'w6_q23_We earned about the same amount', \n",
    "          'w6_q23_PARTNER earned more',\n",
    "          'w6_q23_PARTNER was not working for pay',\n",
    "          'w6_q27_No',\n",
    "          'w6_q27_Yes',\n",
    "          'w6_sex_frequency', \n",
    "          'w6_q24_length',\n",
    "          'ppage']\n",
    "\n",
    "VA_plot(xgb, X, obs, vlist2)"
   ]
  },
  {
   "cell_type": "markdown",
   "metadata": {},
   "source": [
    "Bardzo ciekawe jest to, że mimo znaczącej zamiany kolejności ustalania poszczególnych zmiennych, odpowiedzi są takie same co do znaku. Przede wszystkim, w obu przypadkach obserwujemy negatywną odpowiedź ze względu na wiek oraz pozytywną ze względu na długość wypowiedzi o poznaniu partnera i częstotliwość uprawiania seksu. Na tej podstawie możemy wnioskować, że te wykresy faktycznie dostarczają pewnych informacji, które nie są zaburzone przez korelacje między zmiennymi."
   ]
  }
 ],
 "metadata": {
  "kernelspec": {
   "display_name": "Python 3",
   "language": "python",
   "name": "python3"
  },
  "language_info": {
   "codemirror_mode": {
    "name": "ipython",
    "version": 3
   },
   "file_extension": ".py",
   "mimetype": "text/x-python",
   "name": "python",
   "nbconvert_exporter": "python",
   "pygments_lexer": "ipython3",
   "version": "3.6.4"
  }
 },
 "nbformat": 4,
 "nbformat_minor": 2
}
