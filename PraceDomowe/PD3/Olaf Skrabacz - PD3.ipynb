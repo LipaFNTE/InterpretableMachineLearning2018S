{
 "cells": [
  {
   "cell_type": "code",
   "execution_count": 130,
   "metadata": {
    "ExecuteTime": {
     "end_time": "2019-03-22T21:01:03.498055Z",
     "start_time": "2019-03-22T21:01:03.495064Z"
    }
   },
   "outputs": [],
   "source": [
    "import numpy as np\n",
    "import pandas as pd\n",
    "import matplotlib.pyplot as plt\n",
    "import seaborn as sns\n",
    "sns.set_style(\"white\")\n",
    "import waterfall_chart"
   ]
  },
  {
   "cell_type": "markdown",
   "metadata": {},
   "source": [
    "## Wczytanie danych"
   ]
  },
  {
   "cell_type": "code",
   "execution_count": 2,
   "metadata": {
    "ExecuteTime": {
     "end_time": "2019-03-22T20:34:42.470480Z",
     "start_time": "2019-03-22T20:34:41.518534Z"
    }
   },
   "outputs": [],
   "source": [
    "df = pd.read_stata(\"HCMST 2017 fresh sample for public sharing draft v1.1.dta\")"
   ]
  },
  {
   "cell_type": "markdown",
   "metadata": {},
   "source": [
    "## Przygotwanie zmiennych"
   ]
  },
  {
   "cell_type": "markdown",
   "metadata": {},
   "source": [
    "Najpierw konwertujemy odpowiedź `S1` na zmienną binarną, gdzie 1 odpowiada informacji `Yes, I am Married`"
   ]
  },
  {
   "cell_type": "code",
   "execution_count": 3,
   "metadata": {
    "ExecuteTime": {
     "end_time": "2019-03-22T20:34:42.482609Z",
     "start_time": "2019-03-22T20:34:42.471475Z"
    }
   },
   "outputs": [],
   "source": [
    "df['y'] = 1 - df['S1'].cat.codes"
   ]
  },
  {
   "cell_type": "markdown",
   "metadata": {},
   "source": [
    "### Wybrane zmienne"
   ]
  },
  {
   "cell_type": "markdown",
   "metadata": {},
   "source": [
    "Do modelu wybrałem następujące zmienne  \n",
    "1) kategoryczne:  \n",
    "  a) `Q23` - Between you and [Partner name], who earned more income in 2016,  \n",
    "  b) `Q28` - Did your parents know [Partner name]’s parents before you met [Partner name]?,  \n",
    "2) uporządkowane:  \n",
    "  a) `ppp20072` - Q27: How often do you attend religious services?,  \n",
    "  b) `w6_how_many` - How many Different people besides [Partner name] have you met for dating, or rom   "
   ]
  },
  {
   "cell_type": "markdown",
   "metadata": {},
   "source": [
    "Wszystkie zmienne są zakodowane przez kategorię, które odkoduję."
   ]
  },
  {
   "cell_type": "code",
   "execution_count": 4,
   "metadata": {
    "ExecuteTime": {
     "end_time": "2019-03-22T20:34:43.069374Z",
     "start_time": "2019-03-22T20:34:43.028174Z"
    }
   },
   "outputs": [],
   "source": [
    "df = df.dropna(subset=['Q23', 'Q28', 'ppp20072', 'w6_how_many'])"
   ]
  },
  {
   "cell_type": "code",
   "execution_count": 5,
   "metadata": {
    "ExecuteTime": {
     "end_time": "2019-03-22T20:34:43.503589Z",
     "start_time": "2019-03-22T20:34:43.486605Z"
    }
   },
   "outputs": [],
   "source": [
    "X = df[['Q23', 'Q28', 'ppp20072', 'w6_how_many']].apply(lambda x: x.cat.codes, axis=0)\n",
    "y = df['y']"
   ]
  },
  {
   "cell_type": "code",
   "execution_count": 6,
   "metadata": {
    "ExecuteTime": {
     "end_time": "2019-03-22T20:34:43.722839Z",
     "start_time": "2019-03-22T20:34:43.717849Z"
    }
   },
   "outputs": [
    {
     "data": {
      "text/plain": [
       "(225, 4)"
      ]
     },
     "execution_count": 6,
     "metadata": {},
     "output_type": "execute_result"
    }
   ],
   "source": [
    "X.shape"
   ]
  },
  {
   "cell_type": "markdown",
   "metadata": {},
   "source": [
    "Zostało nam 225 obserwacji co oznacza, że nie ma sensu uczyć modelu o dużej pojemności. Z tego powodu wybrałem las losowy o 25 drzewach i maksymalnej głębokości 3."
   ]
  },
  {
   "cell_type": "markdown",
   "metadata": {},
   "source": [
    "Stworzymy dodatkowo słowniki do zmiennych kategorycznych by łatwiej odwikłać potem kategorię."
   ]
  },
  {
   "cell_type": "code",
   "execution_count": 7,
   "metadata": {
    "ExecuteTime": {
     "end_time": "2019-03-22T20:34:44.777492Z",
     "start_time": "2019-03-22T20:34:44.774466Z"
    }
   },
   "outputs": [],
   "source": [
    "d_ppp20072 = dict(enumerate(df['ppp20072'].cat.categories))\n",
    "d_w6_how_many = dict(enumerate([cat.split(\".\")[0] for cat in df['w6_how_many'].cat.categories]))"
   ]
  },
  {
   "cell_type": "code",
   "execution_count": 8,
   "metadata": {
    "ExecuteTime": {
     "end_time": "2019-03-22T20:34:44.957151Z",
     "start_time": "2019-03-22T20:34:44.954187Z"
    }
   },
   "outputs": [],
   "source": [
    "d = {\n",
    "    'ppp20072': d_ppp20072,\n",
    "    'w6_how_many': d_w6_how_many\n",
    "}"
   ]
  },
  {
   "cell_type": "markdown",
   "metadata": {},
   "source": [
    "## Budowa modelu"
   ]
  },
  {
   "cell_type": "code",
   "execution_count": 9,
   "metadata": {
    "ExecuteTime": {
     "end_time": "2019-03-22T20:34:46.844975Z",
     "start_time": "2019-03-22T20:34:45.935419Z"
    }
   },
   "outputs": [],
   "source": [
    "from sklearn.ensemble import RandomForestClassifier"
   ]
  },
  {
   "cell_type": "code",
   "execution_count": 10,
   "metadata": {
    "ExecuteTime": {
     "end_time": "2019-03-22T20:34:46.850624Z",
     "start_time": "2019-03-22T20:34:46.846635Z"
    }
   },
   "outputs": [],
   "source": [
    "rf = RandomForestClassifier(n_estimators=25, max_depth=4)"
   ]
  },
  {
   "cell_type": "code",
   "execution_count": 11,
   "metadata": {
    "ExecuteTime": {
     "end_time": "2019-03-22T20:34:46.871601Z",
     "start_time": "2019-03-22T20:34:46.851621Z"
    }
   },
   "outputs": [
    {
     "data": {
      "text/plain": [
       "RandomForestClassifier(bootstrap=True, class_weight=None, criterion='gini',\n",
       "            max_depth=4, max_features='auto', max_leaf_nodes=None,\n",
       "            min_impurity_decrease=0.0, min_impurity_split=None,\n",
       "            min_samples_leaf=1, min_samples_split=2,\n",
       "            min_weight_fraction_leaf=0.0, n_estimators=25, n_jobs=None,\n",
       "            oob_score=False, random_state=None, verbose=0,\n",
       "            warm_start=False)"
      ]
     },
     "execution_count": 11,
     "metadata": {},
     "output_type": "execute_result"
    }
   ],
   "source": [
    "rf.fit(X, y)"
   ]
  },
  {
   "cell_type": "markdown",
   "metadata": {},
   "source": [
    "## Porównanie wpływu zmiennych"
   ]
  },
  {
   "cell_type": "code",
   "execution_count": 143,
   "metadata": {
    "ExecuteTime": {
     "end_time": "2019-03-22T21:03:28.060102Z",
     "start_time": "2019-03-22T21:03:28.053152Z"
    }
   },
   "outputs": [],
   "source": [
    "def mean_per_set_attrs(X, model, **kwargs):\n",
    "    X = X.copy()\n",
    "    means = []\n",
    "    means.append(model.predict_proba(X)[:,1].mean())\n",
    "    for kwarg in kwargs:\n",
    "        X.loc[:, kwarg] = kwargs[kwarg]\n",
    "        means.append(model.predict_proba(X)[:,1].mean())\n",
    "    d_ = pd.DataFrame(data={\"var\":['intercept'] + list(kwargs.keys()), \"proba\":means}, index = range(len(means)))\n",
    "    d_['proba'] = d_['proba'].diff().fillna(d_['proba'])\n",
    "    waterfall_chart.plot(d_['var'], d_['proba'], rotation_value=0, green_color=\"#77DD77\", formatting='{:,.3f}')"
   ]
  },
  {
   "cell_type": "markdown",
   "metadata": {},
   "source": [
    "### Pierwszy wykres"
   ]
  },
  {
   "cell_type": "code",
   "execution_count": 144,
   "metadata": {
    "ExecuteTime": {
     "end_time": "2019-03-22T21:03:28.581259Z",
     "start_time": "2019-03-22T21:03:28.431661Z"
    }
   },
   "outputs": [
    {
     "data": {
      "image/png": "[encoded data removed]",
      "text/plain": [
       "<Figure size 432x288 with 1 Axes>"
      ]
     },
     "metadata": {},
     "output_type": "display_data"
    }
   ],
   "source": [
    "mean_per_set_attrs(X, rf, Q23=3, Q28=2, w6_how_many=3, ppp20072 = 5)"
   ]
  },
  {
   "cell_type": "markdown",
   "metadata": {},
   "source": [
    "### Drugi wykres"
   ]
  },
  {
   "cell_type": "code",
   "execution_count": 145,
   "metadata": {
    "ExecuteTime": {
     "end_time": "2019-03-22T21:03:29.286366Z",
     "start_time": "2019-03-22T21:03:29.149733Z"
    }
   },
   "outputs": [
    {
     "data": {
      "image/png": "[encoded data removed]",
      "text/plain": [
       "<Figure size 432x288 with 1 Axes>"
      ]
     },
     "metadata": {},
     "output_type": "display_data"
    }
   ],
   "source": [
    "mean_per_set_attrs(X, rf,  w6_how_many=3, ppp20072 = 5, Q23=3, Q28=2)"
   ]
  },
  {
   "cell_type": "markdown",
   "metadata": {},
   "source": [
    "Jak widać przy różnym ułożeniu kolejności zmiennych zmienia się ich efekt w tej metodzie obrazowania. `Q23` i `Q28` to zmienne o maksymalnie trzech wartościach. Dlatego wrzucenie ich na początku może znacząco zmienić wpływ kolejnych zmiennych, ponieważ mogą mocno dzielić zbiór(tak jak na ćwiczeniach poruszana zmienne płeć przy zbiorze o zwolnieniach). Ciekawie również zmienia się wpływ zmiennej `ppp20072`(wartość=`never`) czyli częstość brania udziału w religijnych obrzędach. Gdy wybieramy tylko z podzbioru ludzi z jednym partnerem(zmienna `w6_how_many` ma ona wpływ negatywny, natomiast biorąc pod uwagę dodatkowy wpływ zarabiania więcej niż partner(`Q23`) i wcześniejszego nie poznania rodziców partnera(`Q28`) zyskuję mocny wpływ dodani."
   ]
  },
  {
   "cell_type": "code",
   "execution_count": null,
   "metadata": {},
   "outputs": [],
   "source": []
  }
 ],
 "metadata": {
  "kernelspec": {
   "display_name": "Python 3",
   "language": "python",
   "name": "python3"
  },
  "language_info": {
   "codemirror_mode": {
    "name": "ipython",
    "version": 3
   },
   "file_extension": ".py",
   "mimetype": "text/x-python",
   "name": "python",
   "nbconvert_exporter": "python",
   "pygments_lexer": "ipython3",
   "version": "3.6.0"
  },
  "toc": {
   "base_numbering": 1,
   "nav_menu": {},
   "number_sections": true,
   "sideBar": true,
   "skip_h1_title": false,
   "title_cell": "Table of Contents",
   "title_sidebar": "Contents",
   "toc_cell": false,
   "toc_position": {},
   "toc_section_display": true,
   "toc_window_display": true
  }
 },
 "nbformat": 4,
 "nbformat_minor": 2
}
