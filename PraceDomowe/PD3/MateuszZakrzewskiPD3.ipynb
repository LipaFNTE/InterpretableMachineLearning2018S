{
 "cells": [
  {
   "cell_type": "markdown",
   "metadata": {},
   "source": [
    "# Table of Contents\n",
    "\n",
    "* [1. Introduction](#introduction)\n",
    "* [2. Model Pipeline](#model-pipeline)\n",
    "* [3. Ceteris Paribus with M-Plot](#mplot)\n",
    "* [4. Mean Model Response](#mmr)"
   ]
  },
  {
   "cell_type": "code",
   "execution_count": 1,
   "metadata": {},
   "outputs": [],
   "source": [
    "import matplotlib.pyplot as plt\n",
    "import numbers\n",
    "import numpy as np\n",
    "import pandas as pd\n",
    "import paralytics as prl\n",
    "import random\n",
    "import re\n",
    "import seaborn as sns\n",
    "import warnings\n",
    "import xgboost as xgb\n",
    "\n",
    "from boruta import BorutaPy\n",
    "from sklearn.base import BaseEstimator, TransformerMixin\n",
    "from sklearn.ensemble import RandomForestClassifier\n",
    "from sklearn.model_selection import train_test_split\n",
    "from sklearn.pipeline import make_pipeline, Pipeline\n",
    "\n",
    "pd.set_option('display.max_columns', None)\n",
    "pd.set_option('display.max_rows', 100)\n",
    "\n",
    "sns.set_style('ticks')\n",
    "%matplotlib inline\n",
    "\n",
    "SEED = 42\n",
    "random.seed(SEED)\n",
    "np.random.seed(SEED)"
   ]
  },
  {
   "cell_type": "markdown",
   "metadata": {},
   "source": [
    "# 1. Introduction <a class=\"anchor\" id=\"introduction\"></a>\n",
    "\n",
    "The goal I have chosen is to check what relationship characteristics are conducive to conversion to marriage. Therefore, I have limited myself only to the samples that do not explicitly state they are not in the relationship (variable $S2 == 2$) because therefore those people did not answer a lot of questions about their partners (quite obviously). "
   ]
  },
  {
   "cell_type": "code",
   "execution_count": 2,
   "metadata": {},
   "outputs": [],
   "source": [
    "df = pd.read_stata('hcmst_data.dta')\n",
    "\n",
    "class ColumnNameLowcaser(BaseEstimator, TransformerMixin):\n",
    "    def fit(self, X, y=None):\n",
    "        return self\n",
    "    \n",
    "    def transform(self, X):\n",
    "        assert isinstance(X, pd.DataFrame), \\\n",
    "            'Input must be an instance of pandas.DataFrame()!'\n",
    "        return X.rename(str.lower, axis='columns')\n",
    "\n",
    "df = ColumnNameLowcaser().fit_transform(df[df.S2.cat.codes != 2])"
   ]
  },
  {
   "cell_type": "markdown",
   "metadata": {},
   "source": [
    "We have removed samples which for sure were not in marriage so now we can select potentially informative columns and rename every column to its lowercase equivalent. One the first try we will stick to only the most obvious ones in terms of the [documentation](https://stacks.stanford.edu/file/druid:vt073cc9067/HCMST_2017_fresh_Codeboodk_v1.1a.pdf) transparency (very subjective on my part). That's why we will exclude every column containing one of: `refused` or `married` word or time variable because those will require special feature engineering. "
   ]
  },
  {
   "cell_type": "code",
   "execution_count": 3,
   "metadata": {},
   "outputs": [],
   "source": [
    "transparent_columns = [\n",
    "    col for col in df.columns \n",
    "    if (\n",
    "        re.search('^q\\d', col)\n",
    "        or col.startswith(('w6', 'time_', 'hcm2017q24'))\n",
    "    )\n",
    "    and not any([\n",
    "        keyword in col \n",
    "        for keyword in ('refused', 'married', 'year', 'month')\n",
    "    ])\n",
    "]\n",
    "\n",
    "transparent_columns.append('age_when_met')"
   ]
  },
  {
   "cell_type": "markdown",
   "metadata": {},
   "source": [
    "A lot of times no information is an information but this time we will not go into details too much because it will require further investigation on missing values and by removing samples that had no partner at all I would expect to remove most of them. That's why columns with more than 10% of missings will be removed."
   ]
  },
  {
   "cell_type": "code",
   "execution_count": 4,
   "metadata": {},
   "outputs": [],
   "source": [
    "y = df.pop('s1').factorize()[0]\n",
    "X = df\n",
    "\n",
    "X_train, X_test, y_train, y_test = train_test_split(\n",
    "    X, y, test_size=.3, random_state=SEED \n",
    ")\n",
    "\n",
    "X_train = X_train[transparent_columns].dropna(\n",
    "    axis='columns',\n",
    "    thresh=len(X_train) * .9\n",
    ")"
   ]
  },
  {
   "cell_type": "markdown",
   "metadata": {},
   "source": [
    "Lastly we can notice that a lot of categorical columns were read this way only due to containing the `Refused` category that is not numeric. We will find those variables and project them onto numeric types while imputing `Refused` category with adequate value."
   ]
  },
  {
   "cell_type": "code",
   "execution_count": 5,
   "metadata": {},
   "outputs": [],
   "source": [
    "class RefusedImputer(BaseEstimator, TransformerMixin):\n",
    "    \"\"\"Imputes 'Refused' category with np.nan. For columns that should be \n",
    "    of numerical type makes projection.\"\"\"\n",
    "    def fit(self, X, y=None):\n",
    "        self.columns_to_convert_ = []\n",
    "        self.columns_to_project_ = []\n",
    "        for col in X.columns:\n",
    "            try:\n",
    "                col_categories = X[col].cat.categories.tolist()\n",
    "            except AttributeError as e:\n",
    "                continue\n",
    "            if 'Refused' in col_categories:\n",
    "                self.columns_to_convert_.append(col)\n",
    "                col_categories.remove('Refused')\n",
    "                rest_categories_numerical = all([\n",
    "                    isinstance(cat, numbers.Number)\n",
    "                    for cat in col_categories\n",
    "                ])\n",
    "                if rest_categories_numerical:\n",
    "                    self.columns_to_project_.append(col)\n",
    "                    \n",
    "        return self\n",
    "    \n",
    "    def transform(self, X):\n",
    "        X_new = X.copy()\n",
    "        for col in self.columns_to_convert_:\n",
    "            X_new[col] = X_new[col].replace({'Refused': np.nan})\n",
    "            if col in self.columns_to_project_:\n",
    "                X_new[col] = X_new[col].astype(float)\n",
    "            else:\n",
    "                X_new[col] = X_new[col].astype('category')\n",
    "        \n",
    "        return X_new"
   ]
  },
  {
   "cell_type": "markdown",
   "metadata": {},
   "source": [
    "# Model Pipeline <a class=\"anchor\" id=\"model-pipeline\"></a>\n",
    "\n",
    "Before we will fit the model, we need to preprocess the data. We will do that in the following steps:\n",
    "\n",
    "1. Turn every column name into its lowercase equivalent. That will let as select previously chosen columns in the next step.\n",
    "2. Choose aforementioned columns.\n",
    "3. Project `Refused` answer onto NaN value.\n",
    "4. Project binary-like string aswers onto True/ False values.\n",
    "5. Project column's dtypes onto float/ bool/ category adequately. That is done mainly for the purpose of the next step that selects categorical dtypes and sticks together sparse categories.\n",
    "6. Group sparse categories.\n",
    "7. Fit authorial [target/likelihood encoding](https://github.com/mrtovsky/Paralytics/blob/0.2.X/paralytics/encoding.py#L12) to the categorical features. Description can be found under the [link](https://github.com/mrtovsky/Paralytics/blob/0.2.X/paralytics/encoding.py#L13).\n",
    "8. Impute missings for truely numerical features.\n",
    "9. Select important features with use of the [Boruta Feature Selection](https://www.jstatsoft.org/article/view/v036i11/v36i11.pdf).\n",
    "10. Reduce collinearity with use of [Variance Inflation Factor](https://github.com/mrtovsky/Paralytics/blob/0.2.X/paralytics/collinearity_reduction.py#L11).\n",
    "\n",
    "The only problem is that BorutaPy requires to pass the data as the numpy.array and the [Paralytics package](https://github.com/mrtovsky/Paralytics/tree/0.2.X) on the other hand takes DataFrames as arguments most of the time. To solve this problem we will create a wrapper first. "
   ]
  },
  {
   "cell_type": "code",
   "execution_count": 6,
   "metadata": {},
   "outputs": [],
   "source": [
    "class BorutaPyWrapper(BorutaPy):\n",
    "    def fit(self, X, y):\n",
    "        try:\n",
    "            super().fit(X, y)\n",
    "        except TypeError as e:\n",
    "            super().fit(X.values, y)\n",
    "    \n",
    "    def transform(self, X):\n",
    "        try:\n",
    "            X_new = super().transform(X)\n",
    "        except TypeError as e:\n",
    "            X_new = super().transform(X.values)\n",
    "        selected_columns = np.array(X.columns)[self.support_]\n",
    "        X_new = pd.DataFrame(X_new, columns=selected_columns)\n",
    "        return X_new\n",
    "\n",
    "    def fit_transform(self, X, y, weak=False):\n",
    "        self.fit(X, y)\n",
    "        return self.transform(X)"
   ]
  },
  {
   "cell_type": "markdown",
   "metadata": {},
   "source": [
    "Now we can process to fitting our model."
   ]
  },
  {
   "cell_type": "code",
   "execution_count": 7,
   "metadata": {},
   "outputs": [],
   "source": [
    "selected_columns = X_train.columns.tolist()\n",
    "\n",
    "KEYWORDS_TRUE = [\n",
    "    'yes',\n",
    "    'YES',\n",
    "    'Yes',\n",
    "    'Yes, we are a same-sex couple',\n",
    "    'Yes, I am Married',\n",
    "    'Yes, I have a sexual partner'\n",
    "]\n",
    "\n",
    "KEYWORDS_FALSE = [\n",
    "    'no',\n",
    "    'NO',\n",
    "    'No',\n",
    "    'No, we are an opposite-sex couple',\n",
    "    'No, I am not Married'\n",
    "]\n",
    "rf = RandomForestClassifier(n_jobs=-1, max_depth=5, random_state=SEED)\n",
    "\n",
    "xgb_model_pipeline = make_pipeline(\n",
    "    ColumnNameLowcaser(),\n",
    "    prl.preprocessing.ColumnSelector(columns=selected_columns),\n",
    "    RefusedImputer(),\n",
    "    prl.preprocessing.CategoricalBinarizer(\n",
    "        keywords_true=KEYWORDS_TRUE, keywords_false=KEYWORDS_FALSE\n",
    "    ),\n",
    "    prl.preprocessing.ColumnProjector(),\n",
    "    prl.preprocessing.CategoricalGrouper(new_cat='OtherCategory'),\n",
    "    prl.TargetEncoder(cv=5, inner_cv=3, alpha=5, random_state=SEED),\n",
    "    prl.preprocessing.Imputer(numerical_method='median'),\n",
    "    BorutaPyWrapper(\n",
    "        rf, n_estimators='auto', verbose=2,\n",
    "        max_iter=150, random_state=SEED\n",
    "    ),\n",
    "    prl.VIFSelector(thresh=5., impute=False, verbose=1),\n",
    "    xgb.XGBClassifier()\n",
    ")"
   ]
  },
  {
   "cell_type": "markdown",
   "metadata": {},
   "source": [
    "We will be filtering RuntimeWarning for stylistic purposes because the warning is raised by the `BorutaPy` object. This problem is not an issue (except stylistics obviously) and was fixed in this [pull request](https://github.com/scikit-learn-contrib/boruta_py/pull/35) but it's still not included in the package itself. "
   ]
  },
  {
   "cell_type": "code",
   "execution_count": 8,
   "metadata": {
    "scrolled": false
   },
   "outputs": [
    {
     "name": "stdout",
     "output_type": "stream",
     "text": [
      "Iteration: \t1 / 150\n",
      "Confirmed: \t0\n",
      "Tentative: \t103\n",
      "Rejected: \t0\n",
      "Iteration: \t2 / 150\n",
      "Confirmed: \t0\n",
      "Tentative: \t103\n",
      "Rejected: \t0\n",
      "Iteration: \t3 / 150\n",
      "Confirmed: \t0\n",
      "Tentative: \t103\n",
      "Rejected: \t0\n",
      "Iteration: \t4 / 150\n",
      "Confirmed: \t0\n",
      "Tentative: \t103\n",
      "Rejected: \t0\n",
      "Iteration: \t5 / 150\n",
      "Confirmed: \t0\n",
      "Tentative: \t103\n",
      "Rejected: \t0\n",
      "Iteration: \t6 / 150\n",
      "Confirmed: \t0\n",
      "Tentative: \t103\n",
      "Rejected: \t0\n",
      "Iteration: \t7 / 150\n",
      "Confirmed: \t0\n",
      "Tentative: \t103\n",
      "Rejected: \t0\n",
      "Iteration: \t8 / 150\n",
      "Confirmed: \t27\n",
      "Tentative: \t10\n",
      "Rejected: \t66\n",
      "Iteration: \t9 / 150\n",
      "Confirmed: \t27\n",
      "Tentative: \t10\n",
      "Rejected: \t66\n",
      "Iteration: \t10 / 150\n",
      "Confirmed: \t27\n",
      "Tentative: \t10\n",
      "Rejected: \t66\n",
      "Iteration: \t11 / 150\n",
      "Confirmed: \t27\n",
      "Tentative: \t10\n",
      "Rejected: \t66\n",
      "Iteration: \t12 / 150\n",
      "Confirmed: \t27\n",
      "Tentative: \t6\n",
      "Rejected: \t70\n",
      "Iteration: \t13 / 150\n",
      "Confirmed: \t27\n",
      "Tentative: \t6\n",
      "Rejected: \t70\n",
      "Iteration: \t14 / 150\n",
      "Confirmed: \t27\n",
      "Tentative: \t6\n",
      "Rejected: \t70\n",
      "Iteration: \t15 / 150\n",
      "Confirmed: \t27\n",
      "Tentative: \t6\n",
      "Rejected: \t70\n",
      "Iteration: \t16 / 150\n",
      "Confirmed: \t27\n",
      "Tentative: \t4\n",
      "Rejected: \t72\n",
      "Iteration: \t17 / 150\n",
      "Confirmed: \t27\n",
      "Tentative: \t4\n",
      "Rejected: \t72\n",
      "Iteration: \t18 / 150\n",
      "Confirmed: \t27\n",
      "Tentative: \t4\n",
      "Rejected: \t72\n",
      "Iteration: \t19 / 150\n",
      "Confirmed: \t27\n",
      "Tentative: \t4\n",
      "Rejected: \t72\n",
      "Iteration: \t20 / 150\n",
      "Confirmed: \t27\n",
      "Tentative: \t4\n",
      "Rejected: \t72\n",
      "Iteration: \t21 / 150\n",
      "Confirmed: \t27\n",
      "Tentative: \t4\n",
      "Rejected: \t72\n",
      "Iteration: \t22 / 150\n",
      "Confirmed: \t27\n",
      "Tentative: \t4\n",
      "Rejected: \t72\n",
      "Iteration: \t23 / 150\n",
      "Confirmed: \t27\n",
      "Tentative: \t3\n",
      "Rejected: \t73\n",
      "Iteration: \t24 / 150\n",
      "Confirmed: \t27\n",
      "Tentative: \t3\n",
      "Rejected: \t73\n",
      "Iteration: \t25 / 150\n",
      "Confirmed: \t27\n",
      "Tentative: \t3\n",
      "Rejected: \t73\n",
      "Iteration: \t26 / 150\n",
      "Confirmed: \t27\n",
      "Tentative: \t3\n",
      "Rejected: \t73\n",
      "Iteration: \t27 / 150\n",
      "Confirmed: \t27\n",
      "Tentative: \t3\n",
      "Rejected: \t73\n",
      "Iteration: \t28 / 150\n",
      "Confirmed: \t27\n",
      "Tentative: \t3\n",
      "Rejected: \t73\n",
      "Iteration: \t29 / 150\n",
      "Confirmed: \t27\n",
      "Tentative: \t3\n",
      "Rejected: \t73\n",
      "Iteration: \t30 / 150\n",
      "Confirmed: \t27\n",
      "Tentative: \t3\n",
      "Rejected: \t73\n",
      "Iteration: \t31 / 150\n",
      "Confirmed: \t27\n",
      "Tentative: \t3\n",
      "Rejected: \t73\n",
      "Iteration: \t32 / 150\n",
      "Confirmed: \t27\n",
      "Tentative: \t2\n",
      "Rejected: \t74\n",
      "Iteration: \t33 / 150\n",
      "Confirmed: \t27\n",
      "Tentative: \t2\n",
      "Rejected: \t74\n",
      "Iteration: \t34 / 150\n",
      "Confirmed: \t27\n",
      "Tentative: \t2\n",
      "Rejected: \t74\n",
      "Iteration: \t35 / 150\n",
      "Confirmed: \t27\n",
      "Tentative: \t2\n",
      "Rejected: \t74\n",
      "Iteration: \t36 / 150\n",
      "Confirmed: \t27\n",
      "Tentative: \t2\n",
      "Rejected: \t74\n",
      "Iteration: \t37 / 150\n",
      "Confirmed: \t27\n",
      "Tentative: \t2\n",
      "Rejected: \t74\n",
      "Iteration: \t38 / 150\n",
      "Confirmed: \t27\n",
      "Tentative: \t2\n",
      "Rejected: \t74\n",
      "Iteration: \t39 / 150\n",
      "Confirmed: \t27\n",
      "Tentative: \t2\n",
      "Rejected: \t74\n",
      "Iteration: \t40 / 150\n",
      "Confirmed: \t27\n",
      "Tentative: \t2\n",
      "Rejected: \t74\n",
      "Iteration: \t41 / 150\n",
      "Confirmed: \t27\n",
      "Tentative: \t2\n",
      "Rejected: \t74\n",
      "Iteration: \t42 / 150\n",
      "Confirmed: \t27\n",
      "Tentative: \t2\n",
      "Rejected: \t74\n",
      "Iteration: \t43 / 150\n",
      "Confirmed: \t27\n",
      "Tentative: \t2\n",
      "Rejected: \t74\n",
      "Iteration: \t44 / 150\n",
      "Confirmed: \t27\n",
      "Tentative: \t2\n",
      "Rejected: \t74\n",
      "Iteration: \t45 / 150\n",
      "Confirmed: \t27\n",
      "Tentative: \t2\n",
      "Rejected: \t74\n",
      "Iteration: \t46 / 150\n",
      "Confirmed: \t27\n",
      "Tentative: \t2\n",
      "Rejected: \t74\n",
      "Iteration: \t47 / 150\n",
      "Confirmed: \t27\n",
      "Tentative: \t2\n",
      "Rejected: \t74\n",
      "Iteration: \t48 / 150\n",
      "Confirmed: \t27\n",
      "Tentative: \t2\n",
      "Rejected: \t74\n",
      "Iteration: \t49 / 150\n",
      "Confirmed: \t28\n",
      "Tentative: \t1\n",
      "Rejected: \t74\n",
      "Iteration: \t50 / 150\n",
      "Confirmed: \t28\n",
      "Tentative: \t1\n",
      "Rejected: \t74\n",
      "Iteration: \t51 / 150\n",
      "Confirmed: \t28\n",
      "Tentative: \t1\n",
      "Rejected: \t74\n",
      "Iteration: \t52 / 150\n",
      "Confirmed: \t28\n",
      "Tentative: \t1\n",
      "Rejected: \t74\n",
      "Iteration: \t53 / 150\n",
      "Confirmed: \t28\n",
      "Tentative: \t1\n",
      "Rejected: \t74\n",
      "Iteration: \t54 / 150\n",
      "Confirmed: \t28\n",
      "Tentative: \t1\n",
      "Rejected: \t74\n",
      "Iteration: \t55 / 150\n",
      "Confirmed: \t28\n",
      "Tentative: \t1\n",
      "Rejected: \t74\n",
      "Iteration: \t56 / 150\n",
      "Confirmed: \t28\n",
      "Tentative: \t1\n",
      "Rejected: \t74\n",
      "Iteration: \t57 / 150\n",
      "Confirmed: \t29\n",
      "Tentative: \t0\n",
      "Rejected: \t74\n",
      "\n",
      "\n",
      "BorutaPy finished running.\n",
      "\n",
      "Iteration: \t58 / 150\n",
      "Confirmed: \t29\n",
      "Tentative: \t0\n",
      "Rejected: \t74\n",
      "q6b with vif=inf exceeds the threshold.\n",
      "q12 with vif=inf exceeds the threshold.\n",
      "q19 with vif=inf exceeds the threshold.\n",
      "w6_identity with vif=inf exceeds the threshold.\n",
      "q32 with vif=inf exceeds the threshold.\n",
      "q34 with vif=inf exceeds the threshold.\n",
      "w6_otherdate with vif=inf exceeds the threshold.\n",
      "w6_q34 with vif=inf exceeds the threshold.\n",
      "w6_otherdate_all with vif=inf exceeds the threshold.\n",
      "w6_same_sex_couple_gender with vif=3073.93 exceeds the threshold.\n",
      "q9 with vif=158.32 exceeds the threshold.\n",
      "w6_identity_all with vif=74.88 exceeds the threshold.\n",
      "w6_attraction with vif=25.77 exceeds the threshold.\n",
      "hcm2017q24_met_online with vif=21.13 exceeds the threshold.\n",
      "hcm2017q24_internet_dating with vif=16.35 exceeds the threshold.\n",
      "w6_same_sex_couple with vif=13.36 exceeds the threshold.\n",
      "w6_q6b with vif=11.48 exceeds the threshold.\n",
      "w6_relationship_quality with vif=9.86 exceeds the threshold.\n",
      "w6_sex_frequency with vif=8.94 exceeds the threshold.\n",
      "w6_q9 with vif=8.58 exceeds the threshold.\n",
      "age_when_met with vif=7.86 exceeds the threshold.\n",
      "w6_otherdate_dichotomous with vif=7.71 exceeds the threshold.\n",
      "w6_q12 with vif=6.62 exceeds the threshold.\n"
     ]
    }
   ],
   "source": [
    "with warnings.catch_warnings():\n",
    "    warnings.filterwarnings('ignore')\n",
    "    xgb_model_pipeline.fit(X_train, y_train)"
   ]
  },
  {
   "cell_type": "code",
   "execution_count": 9,
   "metadata": {},
   "outputs": [
    {
     "data": {
      "image/png": "[encoded data removed]",
      "text/plain": [
       "<Figure size 864x576 with 2 Axes>"
      ]
     },
     "metadata": {
      "needs_background": "light"
     },
     "output_type": "display_data"
    }
   ],
   "source": [
    "fig, ax = plt.subplots(figsize=(12, 8))\n",
    "\n",
    "X_train_transformed = Pipeline(\n",
    "    xgb_model_pipeline.steps[:-1]\n",
    ").transform(X_train)\n",
    "\n",
    "ax = sns.heatmap(\n",
    "    X_train_transformed.corr(), annot=True, fmt=\".2f\", \n",
    "    cmap=\"coolwarm\", ax=ax\n",
    ")\n",
    "ax.set_title('Correlation matrix')\n",
    "plt.show()"
   ]
  },
  {
   "cell_type": "code",
   "execution_count": 16,
   "metadata": {},
   "outputs": [
    {
     "name": "stdout",
     "output_type": "stream",
     "text": [
      "Variable \"w6_q24_length\" importance is equal to: 0.34\n",
      "Variable \"w6_q32\" importance is equal to: 0.21\n",
      "Variable \"w6_q17\" importance is equal to: 0.18\n",
      "Variable \"w6_q19\" importance is equal to: 0.14\n",
      "Variable \"w6_prior_identity_lgb\" importance is equal to: 0.11\n",
      "Variable \"w6_number_people_met\" importance is equal to: 0.02\n"
     ]
    }
   ],
   "source": [
    "importances = (\n",
    "    xgb_model_pipeline.named_steps['xgbclassifier']\n",
    "    .feature_importances_\n",
    ")\n",
    "\n",
    "selected_features = (\n",
    "    xgb_model_pipeline.named_steps['vifselector'].kept_cols_\n",
    ")\n",
    "\n",
    "feat_importance_pairs = list(zip(selected_features, importances))\n",
    "feat_importance_pairs.sort(key=lambda x: x[1], reverse=True)\n",
    "\n",
    "for feature, importance in feat_importance_pairs:\n",
    "    print(\n",
    "        'Variable \"{0}\" importance is equal to: {1:.2f}'\n",
    "        .format(feature, importance)\n",
    "    )"
   ]
  },
  {
   "cell_type": "markdown",
   "metadata": {},
   "source": [
    "Accuracy is not the best metric to this problem because there is a bit unbalanced response variable but we will stick to the basics because performance of the model is not the main target."
   ]
  },
  {
   "cell_type": "code",
   "execution_count": 11,
   "metadata": {},
   "outputs": [
    {
     "name": "stdout",
     "output_type": "stream",
     "text": [
      "Model accuracy is equal to: 92.32%. It can be benchmarked with a \n",
      "prediction that every sample is belonging to the majority class. \n",
      "If so then the benchmark accuracy is: 71.94%.\n"
     ]
    }
   ],
   "source": [
    "from sklearn.metrics import accuracy_score\n",
    "\n",
    "\n",
    "y_guessed = [0] * len(y_test)\n",
    "y_pred = xgb_model_pipeline.predict(X_test)\n",
    "\n",
    "print(\n",
    "    'Model accuracy is equal to: {0:.2f}%. '\n",
    "    'It can be benchmarked with a \\nprediction that every '\n",
    "    'sample is belonging to the majority class. \\nIf so then the '\n",
    "    'benchmark accuracy is: {1:.2f}%.'\n",
    "    .format(\n",
    "        accuracy_score(y_test, y_pred) * 100,\n",
    "        accuracy_score(y_test, y_guessed) * 100\n",
    "    )\n",
    ")"
   ]
  },
  {
   "cell_type": "markdown",
   "metadata": {},
   "source": [
    "# Ceteris Paribus with M-Plot <a class=\"anchor\" id=\"mplot\"></a>"
   ]
  },
  {
   "cell_type": "code",
   "execution_count": 13,
   "metadata": {},
   "outputs": [],
   "source": [
    "class DependencyPainter(object):\n",
    "    def __init__(self, model, grid):\n",
    "        self.model = model\n",
    "        self.grid = grid\n",
    "    \n",
    "    def fit(self, X, sample_size, random_state=None):\n",
    "        X_sample = X.sample(sample_size, random_state=random_state).copy()\n",
    "        \n",
    "        unique_grid_values = X[self.grid].unique().tolist()\n",
    "        original_values = X[self.grid]\n",
    "        synthetic_dfs = [\n",
    "            X_sample.assign(**{\n",
    "                'TrueGridValue': original_values, \n",
    "                'ID': X_sample.index, \n",
    "                self.grid: grid_value\n",
    "            })\n",
    "            for grid_value in unique_grid_values\n",
    "        ]\n",
    "        X_synthetic = pd.concat(synthetic_dfs, ignore_index=True, sort=False)\n",
    "        \n",
    "        y_pred = self.model.predict_proba(X_synthetic.drop(['ID', 'TrueGridValue'], axis=1))[:, 1]\n",
    "        self.df_synthetic_grid_ = X_synthetic[['ID', self.grid, 'TrueGridValue']].assign(Prediction=y_pred)\n",
    "        \n",
    "        return self\n",
    "\n",
    "    def calculate_average_sample(self, scope=None):\n",
    "        if not hasattr(self, 'df_synthetic_grid_'):\n",
    "            raise RuntimeError('You need to fit the data first')\n",
    "        if scope is None:\n",
    "            df_average_sample = self.df_synthetic_grid_.groupby(self.grid).agg(\n",
    "                {'Prediction': 'mean'}\n",
    "            ).reset_index()\n",
    "        else:\n",
    "            df_average_sample = self.df_synthetic_grid_[\n",
    "                np.abs(self.df_synthetic_grid_['TrueGridValue'] - self.df_synthetic_grid_[self.grid]) <= scope\n",
    "            ].groupby(self.grid).agg({'Prediction': 'mean'}).reset_index()\n",
    "        \n",
    "        return df_average_sample\n",
    "\n",
    "    def plot(self, color, scope=None):\n",
    "        if not hasattr(self, 'df_synthetic_grid_'):\n",
    "            raise RuntimeError('You need to fit the data first')\n",
    "        fig, ax = plt.subplots()\n",
    "        ax = sns.lineplot(\n",
    "             x=self.grid, y='Prediction', hue='ID', estimator=None, \n",
    "            data=self.df_synthetic_grid_, legend=False, ax=ax\n",
    "        )\n",
    "        avg_guy = self.calculate_average_sample(scope)\n",
    "        for line in ax.lines:\n",
    "            line.set_color(color)\n",
    "    \n",
    "        ax = ax.plot(avg_guy[self.grid], avg_guy['Prediction'], color='r', linewidth=5)\n",
    "        \n",
    "        return ax    "
   ]
  },
  {
   "cell_type": "markdown",
   "metadata": {},
   "source": [
    "We have plotted 300 ceteris paribus profiles for randomly selected samples with the thickened red M-plot line distinguished. Scopes were selected based on magnitudes of the variables analyzed. For example:\n",
    "* Scope equal to 100 means that our M-plot will be fed with only those predictions which corresponding synthetic feature value is distant by no more than 100 units from the real observed value for the given sample.\n",
    "\n",
    "Just to confirm, I will say that we model the probability of not being married. That's why the first plot that is illustrating the potential predictive power of the variable `w6_q17` what stands for: \"times subject was married\" shows that if somebody has never been married then the probability of not being married is equal to 1 and if somebody has been married at least once, then the probability of not being married at present is really low.\n",
    "\n",
    "The second variable `w6_q24_length` (length of the answer on how partners got to know each other) is pretty unstable but when the answer was long enough then we can believe that the person is married. It can be caused by insufficient number of samples and this instability should be a cause of concern.\n",
    "\n",
    "The most interesting conclusions can be observed by analyzing the last plot were ceteris paribus profiles show that the variable is meaningless. By only drawing the M-plot we can clearly detect change of the interpretability of the same variable. It is interesting that we do not observe the slope on any of the ceteris paribus profiles and even though we can see a big slope in the M-plot. That is intriguing until we see the unique values of this numeric but better interpreted as an ordinal feature. Tt could be expected from the lack of smooth transitions between the M-plot line components."
   ]
  },
  {
   "cell_type": "code",
   "execution_count": 14,
   "metadata": {},
   "outputs": [
    {
     "data": {
      "image/png": "[encoded data removed]",
      "text/plain": [
       "<Figure size 432x288 with 1 Axes>"
      ]
     },
     "metadata": {
      "needs_background": "light"
     },
     "output_type": "display_data"
    },
    {
     "data": {
      "image/png": "[encoded data removed]",
      "text/plain": [
       "<Figure size 432x288 with 1 Axes>"
      ]
     },
     "metadata": {
      "needs_background": "light"
     },
     "output_type": "display_data"
    },
    {
     "data": {
      "image/png": "[encoded data removed]",
      "text/plain": [
       "<Figure size 432x288 with 1 Axes>"
      ]
     },
     "metadata": {
      "needs_background": "light"
     },
     "output_type": "display_data"
    }
   ],
   "source": [
    "features = ['w6_q17', 'w6_q24_length', 'w6_number_people_met']\n",
    "scopes = [1, 100, 5]\n",
    "\n",
    "for col, scope in zip(features, scopes):\n",
    "    painter = DependencyPainter(xgb_model_pipeline, col)\n",
    "\n",
    "    painter.fit(X_train, 300, random_state=SEED)\n",
    "\n",
    "    ax = painter.plot('#ACDBD9', scope)\n",
    "\n",
    "    plt.title('PDP for {} variable.'.format(col))\n",
    "    sns.despine()\n",
    "    plt.show()"
   ]
  },
  {
   "cell_type": "code",
   "execution_count": 15,
   "metadata": {},
   "outputs": [
    {
     "name": "stdout",
     "output_type": "stream",
     "text": [
      "Count unique values of the `w6_number_people_met` variable.\n"
     ]
    },
    {
     "data": {
      "text/plain": [
       "0.0     2604\n",
       "1.0      107\n",
       "3.5       85\n",
       "13.0      25\n",
       "35.0       6\n",
       "75.0       1\n",
       "Name: w6_number_people_met, dtype: int64"
      ]
     },
     "execution_count": 15,
     "metadata": {},
     "output_type": "execute_result"
    }
   ],
   "source": [
    "print('Count unique values of the `w6_number_people_met` variable.')\n",
    "df.w6_number_people_met.value_counts()"
   ]
  },
  {
   "cell_type": "markdown",
   "metadata": {},
   "source": [
    "The interesting number 3.5 is caused by the definition of this variable that is probably the mean value of 2 other variables that say something about the number of meetings."
   ]
  },
  {
   "cell_type": "markdown",
   "metadata": {},
   "source": [
    "## Mean Model Response <a class=\"anchor\" id=\"mmr\"></a>\n",
    "\n",
    "Class ConditionalResponder will help us demonstrate the effects of adding on variables in specified order."
   ]
  },
  {
   "cell_type": "code",
   "execution_count": 43,
   "metadata": {},
   "outputs": [],
   "source": [
    "import itertools\n",
    "import matplotlib.pyplot as plt\n",
    "import seaborn as sns\n",
    "import waterfall_chart\n",
    "\n",
    "from collections import OrderedDict\n",
    "\n",
    "\n",
    "class ConditionalResponder(object):\n",
    "    def __init__(self, model, benchmark):\n",
    "        self.model = model\n",
    "        self.benchmark = benchmark\n",
    "\n",
    "    @property\n",
    "    def benchmark(self):\n",
    "        return self._benchmark\n",
    "\n",
    "    @benchmark.setter\n",
    "    def benchmark(self, sample):\n",
    "        try:\n",
    "            _benchmark = sample.squeeze()\n",
    "            assert isinstance(_benchmark, pd.Series), \\\n",
    "                'Benchmark sample can contain only a single record.'\n",
    "            self._benchmark = _benchmark.to_dict()\n",
    "        except AttributeError:\n",
    "            if not isinstance(sample, (dict, OrderedDict)):\n",
    "                raise TypeError(\n",
    "                    'Cannot accept object in type {} specified as the '\n",
    "                    'benchmark.'.format(type(sample))\n",
    "                ) from None\n",
    "            self._benchmark = sample\n",
    "\n",
    "    def fit(self, X, features, ordered=0):\n",
    "        self.benchmark_prediction_ = np.mean(\n",
    "            self.model.predict_proba(X)[:, 1])\n",
    "        \n",
    "        if ordered:\n",
    "            self.response_ = self._calculate_ordered_response(\n",
    "                X, features)\n",
    "        else:\n",
    "            self.response_ = self._calculate_mean_response(\n",
    "                X, features)\n",
    "        \n",
    "        return self\n",
    "\n",
    "    def plot(self):\n",
    "        if not hasattr(self, 'response_'):\n",
    "            raise RuntimeError(\n",
    "                'Could not find the attribute.\\nFitting is necessary before '\n",
    "                'you do the transformation!'\n",
    "            )\n",
    "        keys = ['benchmark'] + list(self.response_.keys())\n",
    "        values = [self.benchmark_prediction_] + list(self.response_.values())\n",
    "        ax = waterfall_chart.plot(\n",
    "            keys, values, rotation_value=60, formatting=\"{:,.2f}\"\n",
    "        )\n",
    "        sns.despine()\n",
    "\n",
    "        return ax\n",
    "\n",
    "    def _calculate_mean_response(self, X, features, verbose=0):\n",
    "        prediction_deltas = pd.DataFrame(columns=features)\n",
    "        \n",
    "        for permutation in itertools.permutations(features, len(features)):\n",
    "            prediction_delta = self._calculate_ordered_response(X, permutation)\n",
    "            prediction_deltas = prediction_deltas.append(\n",
    "                pd.Series(prediction_delta), ignore_index=True\n",
    "            )\n",
    "        \n",
    "        prediction_mean_delta = prediction_deltas.agg(\n",
    "            'mean', axis='index'\n",
    "        ).squeeze().to_dict()\n",
    "\n",
    "        return prediction_mean_delta\n",
    "\n",
    "    def _calculate_ordered_response(self, X, features, verbose=0):\n",
    "        predictions = []\n",
    "        predictions.append(np.mean(self.model.predict_proba(X)[:, 1]))\n",
    "        df_synthetic = X.copy()\n",
    "\n",
    "        for idx, feature in enumerate(features):\n",
    "            if verbose:\n",
    "                print(\n",
    "                    'Calculating mean model response for the No. {} '\n",
    "                    'feature: \"{}\"'.format(idx, feature)\n",
    "                )\n",
    "            df_synthetic.loc[:, feature] = self.benchmark[feature]\n",
    "            predictions.append(\n",
    "                np.mean(self.model.predict_proba(df_synthetic)[:, 1])\n",
    "            )\n",
    "\n",
    "        prediction_delta = OrderedDict(zip(features, np.diff(predictions).tolist()))\n",
    "\n",
    "        return prediction_delta\n"
   ]
  },
  {
   "cell_type": "code",
   "execution_count": 44,
   "metadata": {},
   "outputs": [
    {
     "data": {
      "text/html": [
       "<div>\n",
       "<style scoped>\n",
       "    .dataframe tbody tr th:only-of-type {\n",
       "        vertical-align: middle;\n",
       "    }\n",
       "\n",
       "    .dataframe tbody tr th {\n",
       "        vertical-align: top;\n",
       "    }\n",
       "\n",
       "    .dataframe thead th {\n",
       "        text-align: right;\n",
       "    }\n",
       "</style>\n",
       "<table border=\"1\" class=\"dataframe\">\n",
       "  <thead>\n",
       "    <tr style=\"text-align: right;\">\n",
       "      <th></th>\n",
       "      <th>w6_prior_identity_lgb</th>\n",
       "      <th>w6_q17</th>\n",
       "      <th>w6_q19</th>\n",
       "      <th>w6_q24_length</th>\n",
       "      <th>w6_q32</th>\n",
       "      <th>w6_number_people_met</th>\n",
       "    </tr>\n",
       "  </thead>\n",
       "  <tbody>\n",
       "    <tr>\n",
       "      <th>2529</th>\n",
       "      <td>straight/ non LGB</td>\n",
       "      <td>1.0</td>\n",
       "      <td>Yes</td>\n",
       "      <td>149.0</td>\n",
       "      <td>No, I did NOT meet [Partner Name] through the ...</td>\n",
       "      <td>0.0</td>\n",
       "    </tr>\n",
       "  </tbody>\n",
       "</table>\n",
       "</div>"
      ],
      "text/plain": [
       "     w6_prior_identity_lgb  w6_q17 w6_q19  w6_q24_length  \\\n",
       "2529     straight/ non LGB     1.0    Yes          149.0   \n",
       "\n",
       "                                                 w6_q32  w6_number_people_met  \n",
       "2529  No, I did NOT meet [Partner Name] through the ...                   0.0  "
      ]
     },
     "execution_count": 44,
     "metadata": {},
     "output_type": "execute_result"
    }
   ],
   "source": [
    "benchmark_observation = X_train.sample(1, random_state=SEED)\n",
    "\n",
    "# Show only features that will be included in the final prediction\n",
    "benchmark_observation[selected_features]"
   ]
  },
  {
   "cell_type": "markdown",
   "metadata": {},
   "source": [
    "Our benchmark prediction will be a person that is:\n",
    "* \"straight\" (slightly controversial answer added by the authors of the survey - just my thought), \n",
    "* has been once married, \n",
    "* is currently living with the partner,\n",
    "* length of the answer to the question about the first meeting is equal to 149 characters,\n",
    "* did not use the internet services to meet a partner,\n",
    "* did not meet anyone in the past year for the dating romance or sex and excluding from counting the current partner did not meet anybody in the past year.\n",
    "\n",
    "Let's check whether he / she is married."
   ]
  },
  {
   "cell_type": "code",
   "execution_count": 45,
   "metadata": {},
   "outputs": [
    {
     "name": "stdout",
     "output_type": "stream",
     "text": [
      "Is he / she married? The answer is: True.\n"
     ]
    }
   ],
   "source": [
    "benchmark_married = bool(abs((y_train[X_train.index == benchmark_observation.index[0]][0] - 1)))\n",
    "print('Is he / she married? The answer is: {}.'.format(benchmark_married))"
   ]
  },
  {
   "cell_type": "markdown",
   "metadata": {},
   "source": [
    "Our labels are opposite than intuition would suggest and if somebody is married then he has \"0\" label assigned. We will keep this in mind."
   ]
  },
  {
   "cell_type": "code",
   "execution_count": 50,
   "metadata": {},
   "outputs": [
    {
     "data": {
      "image/png": "[encoded data removed]",
      "text/plain": [
       "<Figure size 432x288 with 1 Axes>"
      ]
     },
     "metadata": {
      "needs_background": "light"
     },
     "output_type": "display_data"
    },
    {
     "data": {
      "image/png": "[encoded data removed]",
      "text/plain": [
       "<Figure size 432x288 with 1 Axes>"
      ]
     },
     "metadata": {
      "needs_background": "light"
     },
     "output_type": "display_data"
    }
   ],
   "source": [
    "responder = ConditionalResponder(xgb_model_pipeline, benchmark_observation)\n",
    "\n",
    "responder.fit(X_train, selected_features, ordered=1)\n",
    "responder.plot()\n",
    "plt.show()\n",
    "\n",
    "responder.fit(X_train, selected_features[::-1], ordered=1)\n",
    "responder.plot()\n",
    "plt.show()"
   ]
  },
  {
   "cell_type": "markdown",
   "metadata": {},
   "source": [
    "First of all we can clearly see that our model is doing a good job in classifying the sample properly (assigning proba = 96% of being married to the person that is labeled as married). Secondly, it is worth mentioning that the model on the average assigns lower probabilities (average 0.26 of not being married). This is due to the observed imbalance in the dataset (that's why accuracy is not the best metric for this problem).\n",
    "\n",
    "**Now let's focus on the homework**. We can see that including our features in the both sides does not change a lot in the delta probability which remain without significant changes. This may indicate that there are no major interactions between selected variables.\n",
    "\n",
    "However, we observe the intuitive influence of variables on prediction:\n",
    "\n",
    "1. If a person does not identify themselves as LGBT, then the chance of being married increases slightly.\n",
    "2. If a person was married once, then the chances are that he/she is still married and has a (possible) happy relationship (happy enough that he/she has not broken yet).\n",
    "3. If he lives with a partner, it is also a big chance that the relationship is more serious - marriage. *Probability of not being married keeps decreasing.*\n",
    "4. Being laconic in words (only 149 used to describe the first meeting with the love of your life) suggests little love for the partner / lack of commitment, hence the probability of not being married slightly increases.\n",
    "5. Not using the internet to meet the second half cements the relationship.\n",
    "6. This one is only surprising that the model did not take into consideration (what we already knew from the previous Ceteris Paribus profiles) number of people that the person was meeting in the last year. It would seem that a small number of dates (in our case 0) may suggest that someone has already stopped looking for love, but there is probably enough information hidden in the variables already discussed.\n"
   ]
  }
 ],
 "metadata": {
  "kernelspec": {
   "display_name": "Python 3",
   "language": "python",
   "name": "python3"
  },
  "language_info": {
   "codemirror_mode": {
    "name": "ipython",
    "version": 3
   },
   "file_extension": ".py",
   "mimetype": "text/x-python",
   "name": "python",
   "nbconvert_exporter": "python",
   "pygments_lexer": "ipython3",
   "version": "3.7.2"
  }
 },
 "nbformat": 4,
 "nbformat_minor": 2
}
