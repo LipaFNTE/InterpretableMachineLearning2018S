{
 "cells": [
  {
   "cell_type": "code",
   "execution_count": 1,
   "metadata": {},
   "outputs": [],
   "source": [
    "import requests\n",
    "import io\n",
    "import zipfile\n",
    "\n",
    "import numpy as np\n",
    "import pandas as pd\n",
    "\n",
    "from sklearn.preprocessing import LabelEncoder, OneHotEncoder\n",
    "from sklearn.ensemble import RandomForestClassifier\n",
    "from sklearn.metrics import accuracy_score\n",
    "\n",
    "import matplotlib.pyplot as plt\n",
    "import seaborn as sns"
   ]
  },
  {
   "cell_type": "markdown",
   "metadata": {},
   "source": [
    "# Na początku robimy to samo co w pracy domowej 1\n",
    "\n",
    "tylko tym razem w Pythonie..."
   ]
  },
  {
   "cell_type": "code",
   "execution_count": 2,
   "metadata": {},
   "outputs": [],
   "source": [
    "url = 'https://stacks.stanford.edu/file/druid:hg921sg6829/HCMST_2017_public_data_v1.1_stata.zip'\n",
    "response = requests.get(url)\n",
    "\n",
    "with zipfile.ZipFile(io.BytesIO(response.content)) as tmp_zip:\n",
    "    for zip_file in tmp_zip.infolist():\n",
    "        with tmp_zip.open(zip_file, 'r') as f:\n",
    "            stata_file = io.BytesIO(f.read())"
   ]
  },
  {
   "cell_type": "code",
   "execution_count": 3,
   "metadata": {},
   "outputs": [],
   "source": [
    "stata_file.seek(0)\n",
    "data = pd.read_stata(stata_file)"
   ]
  },
  {
   "cell_type": "markdown",
   "metadata": {},
   "source": [
    "# Obrabiamy dane jak poprzednio\n"
   ]
  },
  {
   "cell_type": "code",
   "execution_count": 4,
   "metadata": {},
   "outputs": [],
   "source": [
    "data = data[['S1', 'Q9', 'Q19', 'Q26', 'ppage']]"
   ]
  },
  {
   "cell_type": "code",
   "execution_count": 5,
   "metadata": {},
   "outputs": [],
   "source": [
    "for column in data.columns:\n",
    "    data = data[data[column] != 'Refused']\n",
    "    data[column].cat.remove_unused_categories()\n",
    "data = data.dropna()\n",
    "data[['Q9', 'ppage']] = data[['Q9', 'ppage']].apply(pd.to_numeric, axis=1)"
   ]
  },
  {
   "cell_type": "code",
   "execution_count": 6,
   "metadata": {},
   "outputs": [
    {
     "data": {
      "text/html": [
       "<div>\n",
       "<style scoped>\n",
       "    .dataframe tbody tr th:only-of-type {\n",
       "        vertical-align: middle;\n",
       "    }\n",
       "\n",
       "    .dataframe tbody tr th {\n",
       "        vertical-align: top;\n",
       "    }\n",
       "\n",
       "    .dataframe thead th {\n",
       "        text-align: right;\n",
       "    }\n",
       "</style>\n",
       "<table border=\"1\" class=\"dataframe\">\n",
       "  <thead>\n",
       "    <tr style=\"text-align: right;\">\n",
       "      <th></th>\n",
       "      <th>S1</th>\n",
       "      <th>Q9</th>\n",
       "      <th>Q19</th>\n",
       "      <th>Q26</th>\n",
       "      <th>ppage</th>\n",
       "    </tr>\n",
       "  </thead>\n",
       "  <tbody>\n",
       "    <tr>\n",
       "      <th>3370</th>\n",
       "      <td>Yes, I am Married</td>\n",
       "      <td>34.0</td>\n",
       "      <td>Yes</td>\n",
       "      <td>Did not attend same college or university</td>\n",
       "      <td>29.0</td>\n",
       "    </tr>\n",
       "    <tr>\n",
       "      <th>164</th>\n",
       "      <td>No, I am not Married</td>\n",
       "      <td>50.0</td>\n",
       "      <td>Yes</td>\n",
       "      <td>Did not attend same college or university</td>\n",
       "      <td>53.0</td>\n",
       "    </tr>\n",
       "    <tr>\n",
       "      <th>1009</th>\n",
       "      <td>Yes, I am Married</td>\n",
       "      <td>27.0</td>\n",
       "      <td>Yes</td>\n",
       "      <td>Did not attend same college or university</td>\n",
       "      <td>26.0</td>\n",
       "    </tr>\n",
       "    <tr>\n",
       "      <th>1365</th>\n",
       "      <td>Yes, I am Married</td>\n",
       "      <td>48.0</td>\n",
       "      <td>Yes</td>\n",
       "      <td>Did not attend same college or university</td>\n",
       "      <td>47.0</td>\n",
       "    </tr>\n",
       "    <tr>\n",
       "      <th>2467</th>\n",
       "      <td>Yes, I am Married</td>\n",
       "      <td>46.0</td>\n",
       "      <td>Yes</td>\n",
       "      <td>Attended same college or university</td>\n",
       "      <td>44.0</td>\n",
       "    </tr>\n",
       "  </tbody>\n",
       "</table>\n",
       "</div>"
      ],
      "text/plain": [
       "                        S1    Q9  Q19  \\\n",
       "3370     Yes, I am Married  34.0  Yes   \n",
       "164   No, I am not Married  50.0  Yes   \n",
       "1009     Yes, I am Married  27.0  Yes   \n",
       "1365     Yes, I am Married  48.0  Yes   \n",
       "2467     Yes, I am Married  46.0  Yes   \n",
       "\n",
       "                                            Q26  ppage  \n",
       "3370  Did not attend same college or university   29.0  \n",
       "164   Did not attend same college or university   53.0  \n",
       "1009  Did not attend same college or university   26.0  \n",
       "1365  Did not attend same college or university   47.0  \n",
       "2467        Attended same college or university   44.0  "
      ]
     },
     "execution_count": 6,
     "metadata": {},
     "output_type": "execute_result"
    }
   ],
   "source": [
    "data.sample(5)"
   ]
  },
  {
   "cell_type": "code",
   "execution_count": 7,
   "metadata": {},
   "outputs": [],
   "source": [
    "y = data['S1']\n",
    "x = data.drop('S1', axis=1)"
   ]
  },
  {
   "cell_type": "markdown",
   "metadata": {},
   "source": [
    "# Robimy model"
   ]
  },
  {
   "cell_type": "code",
   "execution_count": 8,
   "metadata": {},
   "outputs": [],
   "source": [
    "le_y = LabelEncoder()\n",
    "y = le_y.fit_transform(y)\n",
    "\n",
    "le_q19 = LabelEncoder()\n",
    "x['Q19'] = le_q19.fit_transform(x['Q19'])\n",
    "\n",
    "le_q26 = LabelEncoder()\n",
    "x['Q26'] = le_q26.fit_transform(x['Q26'])"
   ]
  },
  {
   "cell_type": "code",
   "execution_count": 9,
   "metadata": {},
   "outputs": [],
   "source": [
    "ohe = OneHotEncoder(categorical_features=[1, 2], \n",
    "                    dtype=np.int64,\n",
    "                    sparse=False)\n",
    "x = pd.DataFrame(ohe.fit_transform(x.values))\n",
    "x.columns = ['Q9_0', 'Q9_1', 'Q19_0', 'Q19_1', 'Q26', 'ppage']"
   ]
  },
  {
   "cell_type": "code",
   "execution_count": 10,
   "metadata": {},
   "outputs": [
    {
     "data": {
      "text/html": [
       "<div>\n",
       "<style scoped>\n",
       "    .dataframe tbody tr th:only-of-type {\n",
       "        vertical-align: middle;\n",
       "    }\n",
       "\n",
       "    .dataframe tbody tr th {\n",
       "        vertical-align: top;\n",
       "    }\n",
       "\n",
       "    .dataframe thead th {\n",
       "        text-align: right;\n",
       "    }\n",
       "</style>\n",
       "<table border=\"1\" class=\"dataframe\">\n",
       "  <thead>\n",
       "    <tr style=\"text-align: right;\">\n",
       "      <th></th>\n",
       "      <th>Q9_0</th>\n",
       "      <th>Q9_1</th>\n",
       "      <th>Q19_0</th>\n",
       "      <th>Q19_1</th>\n",
       "      <th>Q26</th>\n",
       "      <th>ppage</th>\n",
       "    </tr>\n",
       "  </thead>\n",
       "  <tbody>\n",
       "    <tr>\n",
       "      <th>0</th>\n",
       "      <td>0.0</td>\n",
       "      <td>1.0</td>\n",
       "      <td>0.0</td>\n",
       "      <td>1.0</td>\n",
       "      <td>52.0</td>\n",
       "      <td>55.0</td>\n",
       "    </tr>\n",
       "    <tr>\n",
       "      <th>1</th>\n",
       "      <td>0.0</td>\n",
       "      <td>1.0</td>\n",
       "      <td>0.0</td>\n",
       "      <td>1.0</td>\n",
       "      <td>45.0</td>\n",
       "      <td>47.0</td>\n",
       "    </tr>\n",
       "    <tr>\n",
       "      <th>2</th>\n",
       "      <td>0.0</td>\n",
       "      <td>1.0</td>\n",
       "      <td>0.0</td>\n",
       "      <td>1.0</td>\n",
       "      <td>59.0</td>\n",
       "      <td>59.0</td>\n",
       "    </tr>\n",
       "    <tr>\n",
       "      <th>3</th>\n",
       "      <td>0.0</td>\n",
       "      <td>1.0</td>\n",
       "      <td>0.0</td>\n",
       "      <td>1.0</td>\n",
       "      <td>65.0</td>\n",
       "      <td>65.0</td>\n",
       "    </tr>\n",
       "    <tr>\n",
       "      <th>4</th>\n",
       "      <td>0.0</td>\n",
       "      <td>1.0</td>\n",
       "      <td>0.0</td>\n",
       "      <td>1.0</td>\n",
       "      <td>43.0</td>\n",
       "      <td>33.0</td>\n",
       "    </tr>\n",
       "  </tbody>\n",
       "</table>\n",
       "</div>"
      ],
      "text/plain": [
       "   Q9_0  Q9_1  Q19_0  Q19_1   Q26  ppage\n",
       "0   0.0   1.0    0.0    1.0  52.0   55.0\n",
       "1   0.0   1.0    0.0    1.0  45.0   47.0\n",
       "2   0.0   1.0    0.0    1.0  59.0   59.0\n",
       "3   0.0   1.0    0.0    1.0  65.0   65.0\n",
       "4   0.0   1.0    0.0    1.0  43.0   33.0"
      ]
     },
     "execution_count": 10,
     "metadata": {},
     "output_type": "execute_result"
    }
   ],
   "source": [
    "x.head()"
   ]
  },
  {
   "cell_type": "code",
   "execution_count": 11,
   "metadata": {},
   "outputs": [
    {
     "data": {
      "text/plain": [
       "0.8755527479469362"
      ]
     },
     "execution_count": 11,
     "metadata": {},
     "output_type": "execute_result"
    }
   ],
   "source": [
    "rfc = RandomForestClassifier(max_depth=4,\n",
    "                             n_estimators=30,\n",
    "                             max_features=None)\n",
    "rfc.fit(x, y)\n",
    "\n",
    "y_pred = rfc.predict(x)\n",
    "accuracy_score(y, y_pred)"
   ]
  },
  {
   "cell_type": "markdown",
   "metadata": {},
   "source": [
    "# Wyjaśniamy model wykresami CP"
   ]
  },
  {
   "cell_type": "code",
   "execution_count": 12,
   "metadata": {},
   "outputs": [],
   "source": [
    "class CeterisParibusPlotter(object):\n",
    "    def __init__(self, clf, x):\n",
    "        self.clf = clf\n",
    "        self.x = x\n",
    "        \n",
    "    def draw_ceteris_paribus_plot(self, observation, column):\n",
    "        mini, maxi = int(min(self.x[column])), int(max(self.x[column]))\n",
    "        original_position = observation[column].loc[0]\n",
    "        ranges = []\n",
    "        scores = []\n",
    "        i = 0\n",
    "        \n",
    "        # find scores for all hypotetical observations\n",
    "        for value in range(mini, maxi + 1):\n",
    "            observation[column] = value\n",
    "            score = self.clf.predict_proba(observation)[0, 1]\n",
    "            if value == original_position:\n",
    "                original_score = score\n",
    "                \n",
    "            scores.append(score)\n",
    "            ranges.append(i)\n",
    "            i += 1\n",
    "\n",
    "        # draw the plot\n",
    "        plt.figure(figsize=(10, 10))\n",
    "        ax = sns.lineplot(x=range(mini, maxi + 1),\n",
    "                          y=scores)\n",
    "        ax.set_title('Ceteris Paribus profile for variable {}'.format(column))\n",
    "        ax.set_ylabel(column)\n",
    "        \n",
    "        plt.scatter(x=[original_position], y=[original_score], marker='o', s=100)\n",
    "        plt.show()\n",
    "        \n",
    "        return\n"
   ]
  },
  {
   "cell_type": "code",
   "execution_count": 13,
   "metadata": {},
   "outputs": [
    {
     "data": {
      "image/png": "[encoded data removed]",
      "text/plain": [
       "<Figure size 720x720 with 1 Axes>"
      ]
     },
     "metadata": {},
     "output_type": "display_data"
    },
    {
     "data": {
      "image/png": "[encoded data removed]",
      "text/plain": [
       "<Figure size 720x720 with 1 Axes>"
      ]
     },
     "metadata": {},
     "output_type": "display_data"
    }
   ],
   "source": [
    "joe = pd.DataFrame({'Q9_0': [0], 'Q9_1': [1], 'Q19_0': [1], 'Q19_1': [0], 'Q26': [40], 'ppage': [41]})\n",
    "\n",
    "cpp = CeterisParibusPlotter(rfc, x)\n",
    "cpp.draw_ceteris_paribus_plot(joe, 'ppage')\n",
    "cpp.draw_ceteris_paribus_plot(joe, 'Q26')"
   ]
  },
  {
   "cell_type": "markdown",
   "metadata": {},
   "source": [
    "# Tutaj zaczyna się część właściwa\n",
    "\n",
    "dodajemy wykres Accumulated Local Effects"
   ]
  },
  {
   "cell_type": "code",
   "execution_count": 14,
   "metadata": {},
   "outputs": [],
   "source": [
    "class AccumulatedLocalEffectsPlotter(CeterisParibusPlotter):\n",
    "    def draw_accumulated_local_effects_plot(self, column, window_size=1):\n",
    "        mini, maxi = int(min(self.x[column])), int(max(self.x[column]))\n",
    "        ale = []\n",
    "        \n",
    "        # find ALE statistics\n",
    "        for value in range(mini, maxi + 1):\n",
    "            neighbours = self.x[(self.x[column] >= value - window_size) &\n",
    "                                (self.x[column] <= value + window_size)].copy()\n",
    "            \n",
    "            neighbours[column] = value - window_size\n",
    "            scores_lower = self.clf.predict_proba(neighbours)[:, 1]\n",
    "            \n",
    "            neighbours[column] = value + window_size\n",
    "            scores_upper = self.clf.predict_proba(neighbours)[:, 1]\n",
    "            \n",
    "            \n",
    "            ale.append((scores_upper - scores_lower).mean())\n",
    "        \n",
    "        ale = np.array(ale).cumsum()\n",
    "        ale = ale - np.array(ale).mean()\n",
    "\n",
    "        # draw the plot\n",
    "        plt.figure(figsize=(10, 10))\n",
    "        ax = sns.lineplot(x=range(mini, maxi + 1),\n",
    "                          y=ale)\n",
    "        ax.set_title('Accumulated Local Effects plot for variable {}'.format(column))\n",
    "        ax.set_ylabel(column)\n",
    "        \n",
    "        plt.show()\n",
    "        return\n"
   ]
  },
  {
   "cell_type": "code",
   "execution_count": 15,
   "metadata": {},
   "outputs": [
    {
     "data": {
      "image/png": "[encoded data removed]",
      "text/plain": [
       "<Figure size 720x720 with 1 Axes>"
      ]
     },
     "metadata": {},
     "output_type": "display_data"
    },
    {
     "data": {
      "image/png": "[encoded data removed]",
      "text/plain": [
       "<Figure size 720x720 with 1 Axes>"
      ]
     },
     "metadata": {},
     "output_type": "display_data"
    }
   ],
   "source": [
    "alep = AccumulatedLocalEffectsPlotter(rfc, x)\n",
    "alep.draw_accumulated_local_effects_plot('ppage', 3)\n",
    "alep.draw_accumulated_local_effects_plot('Q26', 3)"
   ]
  },
  {
   "cell_type": "code",
   "execution_count": 16,
   "metadata": {},
   "outputs": [
    {
     "name": "stdout",
     "output_type": "stream",
     "text": [
      "          ppage       Q26\n",
      "ppage  1.000000  0.924767\n",
      "Q26    0.924767  1.000000\n"
     ]
    }
   ],
   "source": [
    "print(x[['ppage', 'Q26']].corr())"
   ]
  },
  {
   "cell_type": "markdown",
   "metadata": {},
   "source": [
    "Wybrany przeze mnie przykład jest ciekawy, ponieważ mamy do czynienia z wysoce skorelowanymi predyktorami. Poziom skorelowania jest tak duży, że nauczony las losowy pomija w predykcji zmienną Q26, która cechuje się płaskim profilem CP.\n",
    "\n",
    "Przy zastosowaniu technik uwzględniających korelację pomiędzy zmiennymi widoczne jest podobieństwo pomiędzy profilami CP oraz ALE dla zmiennej ppage. W przypadku zmiennej Q26 widoczna krzywa jest efektem losowego doboru sąsiadów o różnych wartościach pozostałyc zmiennych objaśniających. Dynamika wykresujest jest zbliżona do poprzedniego, jest to jednak efekt pozorny, gdyż zmienna Q26 nie bierze de facto udziału w procesie scorowania! Myślę, że jest to ważna pułapka, w którą może wpaść osoba nieuważnie stosujące omawiane na zajęciach techniki."
   ]
  },
  {
   "cell_type": "code",
   "execution_count": null,
   "metadata": {},
   "outputs": [],
   "source": []
  }
 ],
 "metadata": {
  "kernelspec": {
   "display_name": "Python 3",
   "language": "python",
   "name": "python3"
  },
  "language_info": {
   "codemirror_mode": {
    "name": "ipython",
    "version": 3
   },
   "file_extension": ".py",
   "mimetype": "text/x-python",
   "name": "python",
   "nbconvert_exporter": "python",
   "pygments_lexer": "ipython3",
   "version": "3.6.5"
  }
 },
 "nbformat": 4,
 "nbformat_minor": 2
}
