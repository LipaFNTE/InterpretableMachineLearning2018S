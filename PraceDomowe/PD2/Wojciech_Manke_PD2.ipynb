{
 "cells": [
  {
   "cell_type": "code",
   "execution_count": 69,
   "metadata": {
    "collapsed": false,
    "deletable": true,
    "editable": true
   },
   "outputs": [],
   "source": [
    "import pandas as pd\n",
    "import numpy as np\n",
    "import matplotlib.pyplot as plt\n",
    "from xgboost import XGBClassifier\n",
    "from sklearn.model_selection import train_test_split\n",
    "from sklearn.metrics import accuracy_score"
   ]
  },
  {
   "cell_type": "markdown",
   "metadata": {
    "deletable": true,
    "editable": true
   },
   "source": [
    "## Wczytywanie i inspekcja danych danych"
   ]
  },
  {
   "cell_type": "code",
   "execution_count": 70,
   "metadata": {
    "collapsed": true,
    "deletable": true,
    "editable": true
   },
   "outputs": [],
   "source": [
    "data = pd.read_stata('HCMST 2017 fresh sample for public sharing draft v1.1.dta')"
   ]
  },
  {
   "cell_type": "code",
   "execution_count": 71,
   "metadata": {
    "collapsed": false,
    "deletable": true,
    "editable": true
   },
   "outputs": [
    {
     "data": {
      "text/html": [
       "<div>\n",
       "<style scoped>\n",
       "    .dataframe tbody tr th:only-of-type {\n",
       "        vertical-align: middle;\n",
       "    }\n",
       "\n",
       "    .dataframe tbody tr th {\n",
       "        vertical-align: top;\n",
       "    }\n",
       "\n",
       "    .dataframe thead th {\n",
       "        text-align: right;\n",
       "    }\n",
       "</style>\n",
       "<table border=\"1\" class=\"dataframe\">\n",
       "  <thead>\n",
       "    <tr style=\"text-align: right;\">\n",
       "      <th></th>\n",
       "      <th>CaseID</th>\n",
       "      <th>CASEID_NEW</th>\n",
       "      <th>weight1</th>\n",
       "      <th>weight1_freqwt</th>\n",
       "      <th>weight2</th>\n",
       "      <th>weight1a</th>\n",
       "      <th>weight1a_freqwt</th>\n",
       "      <th>weight_combo</th>\n",
       "      <th>weight_combo_freqwt</th>\n",
       "      <th>duration</th>\n",
       "      <th>Q16</th>\n",
       "      <th>w6_q9</th>\n",
       "      <th>w6_q16</th>\n",
       "      <th>w6_q17</th>\n",
       "      <th>w6_q21a_year</th>\n",
       "      <th>w6_q21b_year</th>\n",
       "      <th>w6_q21b_month_flag</th>\n",
       "      <th>w6_q21c_year</th>\n",
       "      <th>w6_q21c_month_flag</th>\n",
       "      <th>w6_q21d_year</th>\n",
       "      <th>w6_q21e_year</th>\n",
       "      <th>w6_q21f_year</th>\n",
       "      <th>w6_outness_timing_all</th>\n",
       "      <th>w6_q24_length</th>\n",
       "      <th>w6_q26</th>\n",
       "      <th>w6_number_people_met</th>\n",
       "      <th>relate_duration_at_w6_years</th>\n",
       "      <th>w6_number_people_met_app</th>\n",
       "      <th>weight_combo_v2</th>\n",
       "      <th>female</th>\n",
       "      <th>year_fraction_met</th>\n",
       "      <th>year_fraction_relstart</th>\n",
       "      <th>age_when_met</th>\n",
       "      <th>time_from_met_to_rel</th>\n",
       "      <th>year_fraction_first_cohab</th>\n",
       "      <th>time_from_rel_to_cohab</th>\n",
       "      <th>hcm2017_q24_length</th>\n",
       "      <th>hcm2017q24_summary_all_codes</th>\n",
       "      <th>partner_mother_yrsed</th>\n",
       "      <th>subject_mother_yrsed</th>\n",
       "      <th>partner_yrsed</th>\n",
       "      <th>subject_yrsed</th>\n",
       "    </tr>\n",
       "  </thead>\n",
       "  <tbody>\n",
       "    <tr>\n",
       "      <th>count</th>\n",
       "      <td>3510.000000</td>\n",
       "      <td>3.510000e+03</td>\n",
       "      <td>2994.000000</td>\n",
       "      <td>2994.000000</td>\n",
       "      <td>551.000000</td>\n",
       "      <td>3110.000000</td>\n",
       "      <td>3110.000000</td>\n",
       "      <td>3510.000000</td>\n",
       "      <td>3510.000000</td>\n",
       "      <td>3510.000000</td>\n",
       "      <td>2836.000000</td>\n",
       "      <td>3374.000000</td>\n",
       "      <td>3367.000000</td>\n",
       "      <td>3385.000000</td>\n",
       "      <td>3341.000000</td>\n",
       "      <td>3276.000000</td>\n",
       "      <td>3301.000000</td>\n",
       "      <td>2630.000000</td>\n",
       "      <td>80.0</td>\n",
       "      <td>2169.000000</td>\n",
       "      <td>410.000000</td>\n",
       "      <td>96.00000</td>\n",
       "      <td>476.000000</td>\n",
       "      <td>3394.000000</td>\n",
       "      <td>1799.000000</td>\n",
       "      <td>3359.000000</td>\n",
       "      <td>2765.000000</td>\n",
       "      <td>323.000000</td>\n",
       "      <td>3510.000000</td>\n",
       "      <td>3510.000000</td>\n",
       "      <td>3341.000000</td>\n",
       "      <td>3276.000000</td>\n",
       "      <td>3341.000000</td>\n",
       "      <td>3263.000000</td>\n",
       "      <td>2630.000000</td>\n",
       "      <td>2578.000000</td>\n",
       "      <td>3394.000000</td>\n",
       "      <td>3295.000000</td>\n",
       "      <td>3323.000000</td>\n",
       "      <td>3378.000000</td>\n",
       "      <td>3383.000000</td>\n",
       "      <td>3510.000000</td>\n",
       "    </tr>\n",
       "    <tr>\n",
       "      <th>mean</th>\n",
       "      <td>2121.318803</td>\n",
       "      <td>2.181073e+06</td>\n",
       "      <td>0.999999</td>\n",
       "      <td>78337.460938</td>\n",
       "      <td>1.000003</td>\n",
       "      <td>1.000001</td>\n",
       "      <td>78337.601562</td>\n",
       "      <td>1.000000</td>\n",
       "      <td>69410.132812</td>\n",
       "      <td>267.449858</td>\n",
       "      <td>3.495416</td>\n",
       "      <td>48.777119</td>\n",
       "      <td>3.463914</td>\n",
       "      <td>1.014771</td>\n",
       "      <td>1994.228973</td>\n",
       "      <td>1995.875153</td>\n",
       "      <td>0.039079</td>\n",
       "      <td>1994.570722</td>\n",
       "      <td>1.0</td>\n",
       "      <td>1992.834025</td>\n",
       "      <td>2008.048780</td>\n",
       "      <td>2007.00000</td>\n",
       "      <td>22.241597</td>\n",
       "      <td>182.854446</td>\n",
       "      <td>1.758199</td>\n",
       "      <td>0.448794</td>\n",
       "      <td>21.553467</td>\n",
       "      <td>1.752322</td>\n",
       "      <td>1.000000</td>\n",
       "      <td>0.502564</td>\n",
       "      <td>1994.719604</td>\n",
       "      <td>1996.380859</td>\n",
       "      <td>26.651003</td>\n",
       "      <td>1.597072</td>\n",
       "      <td>1995.073242</td>\n",
       "      <td>1.900667</td>\n",
       "      <td>182.912491</td>\n",
       "      <td>1.978756</td>\n",
       "      <td>12.138730</td>\n",
       "      <td>12.279752</td>\n",
       "      <td>14.033255</td>\n",
       "      <td>13.945868</td>\n",
       "    </tr>\n",
       "    <tr>\n",
       "      <th>std</th>\n",
       "      <td>1241.582562</td>\n",
       "      <td>6.401295e+05</td>\n",
       "      <td>0.285004</td>\n",
       "      <td>22326.515625</td>\n",
       "      <td>0.908374</td>\n",
       "      <td>0.289889</td>\n",
       "      <td>22709.197266</td>\n",
       "      <td>0.437515</td>\n",
       "      <td>30367.960938</td>\n",
       "      <td>1406.882283</td>\n",
       "      <td>5.095177</td>\n",
       "      <td>17.119645</td>\n",
       "      <td>5.109420</td>\n",
       "      <td>0.801753</td>\n",
       "      <td>17.108283</td>\n",
       "      <td>16.741519</td>\n",
       "      <td>0.193812</td>\n",
       "      <td>16.034225</td>\n",
       "      <td>0.0</td>\n",
       "      <td>16.470289</td>\n",
       "      <td>9.757077</td>\n",
       "      <td>9.97787</td>\n",
       "      <td>9.433113</td>\n",
       "      <td>236.993301</td>\n",
       "      <td>0.436015</td>\n",
       "      <td>2.849547</td>\n",
       "      <td>16.650276</td>\n",
       "      <td>5.072207</td>\n",
       "      <td>0.412794</td>\n",
       "      <td>0.500065</td>\n",
       "      <td>17.106398</td>\n",
       "      <td>16.735863</td>\n",
       "      <td>11.831717</td>\n",
       "      <td>4.361366</td>\n",
       "      <td>16.026445</td>\n",
       "      <td>2.727197</td>\n",
       "      <td>237.105286</td>\n",
       "      <td>1.118986</td>\n",
       "      <td>3.309426</td>\n",
       "      <td>3.229575</td>\n",
       "      <td>2.544954</td>\n",
       "      <td>2.546054</td>\n",
       "    </tr>\n",
       "    <tr>\n",
       "      <th>min</th>\n",
       "      <td>2.000000</td>\n",
       "      <td>5.300100e+04</td>\n",
       "      <td>0.264700</td>\n",
       "      <td>20736.000000</td>\n",
       "      <td>0.190300</td>\n",
       "      <td>0.263200</td>\n",
       "      <td>20618.000000</td>\n",
       "      <td>0.058970</td>\n",
       "      <td>4093.000000</td>\n",
       "      <td>0.000000</td>\n",
       "      <td>0.000000</td>\n",
       "      <td>-1.000000</td>\n",
       "      <td>0.000000</td>\n",
       "      <td>0.000000</td>\n",
       "      <td>1939.000000</td>\n",
       "      <td>1942.000000</td>\n",
       "      <td>0.000000</td>\n",
       "      <td>1944.000000</td>\n",
       "      <td>1.0</td>\n",
       "      <td>1944.000000</td>\n",
       "      <td>1975.000000</td>\n",
       "      <td>1973.00000</td>\n",
       "      <td>0.000000</td>\n",
       "      <td>0.000000</td>\n",
       "      <td>-1.000000</td>\n",
       "      <td>0.000000</td>\n",
       "      <td>-0.333333</td>\n",
       "      <td>0.000000</td>\n",
       "      <td>0.082981</td>\n",
       "      <td>0.000000</td>\n",
       "      <td>1939.208374</td>\n",
       "      <td>1942.375000</td>\n",
       "      <td>0.000000</td>\n",
       "      <td>0.000000</td>\n",
       "      <td>1944.375000</td>\n",
       "      <td>0.000000</td>\n",
       "      <td>0.000000</td>\n",
       "      <td>0.000000</td>\n",
       "      <td>0.000000</td>\n",
       "      <td>0.000000</td>\n",
       "      <td>0.000000</td>\n",
       "      <td>0.000000</td>\n",
       "    </tr>\n",
       "    <tr>\n",
       "      <th>25%</th>\n",
       "      <td>1040.250000</td>\n",
       "      <td>1.825512e+06</td>\n",
       "      <td>0.808000</td>\n",
       "      <td>63297.000000</td>\n",
       "      <td>0.519650</td>\n",
       "      <td>0.805000</td>\n",
       "      <td>63062.000000</td>\n",
       "      <td>0.818612</td>\n",
       "      <td>56819.750000</td>\n",
       "      <td>8.000000</td>\n",
       "      <td>0.000000</td>\n",
       "      <td>34.000000</td>\n",
       "      <td>0.000000</td>\n",
       "      <td>1.000000</td>\n",
       "      <td>1981.000000</td>\n",
       "      <td>1983.000000</td>\n",
       "      <td>0.000000</td>\n",
       "      <td>1983.000000</td>\n",
       "      <td>1.0</td>\n",
       "      <td>1980.000000</td>\n",
       "      <td>2002.000000</td>\n",
       "      <td>2004.00000</td>\n",
       "      <td>17.000000</td>\n",
       "      <td>54.000000</td>\n",
       "      <td>2.000000</td>\n",
       "      <td>0.000000</td>\n",
       "      <td>7.250000</td>\n",
       "      <td>0.000000</td>\n",
       "      <td>0.809683</td>\n",
       "      <td>0.000000</td>\n",
       "      <td>1981.708374</td>\n",
       "      <td>1983.791626</td>\n",
       "      <td>18.000000</td>\n",
       "      <td>0.000000</td>\n",
       "      <td>1983.208374</td>\n",
       "      <td>0.333374</td>\n",
       "      <td>54.000000</td>\n",
       "      <td>1.000000</td>\n",
       "      <td>12.000000</td>\n",
       "      <td>12.000000</td>\n",
       "      <td>12.000000</td>\n",
       "      <td>12.000000</td>\n",
       "    </tr>\n",
       "    <tr>\n",
       "      <th>50%</th>\n",
       "      <td>2118.500000</td>\n",
       "      <td>2.282692e+06</td>\n",
       "      <td>0.943900</td>\n",
       "      <td>73943.000000</td>\n",
       "      <td>0.713300</td>\n",
       "      <td>0.946750</td>\n",
       "      <td>74166.000000</td>\n",
       "      <td>1.012706</td>\n",
       "      <td>70292.000000</td>\n",
       "      <td>11.000000</td>\n",
       "      <td>2.000000</td>\n",
       "      <td>50.000000</td>\n",
       "      <td>2.000000</td>\n",
       "      <td>1.000000</td>\n",
       "      <td>1998.000000</td>\n",
       "      <td>2000.000000</td>\n",
       "      <td>0.000000</td>\n",
       "      <td>1997.000000</td>\n",
       "      <td>1.0</td>\n",
       "      <td>1995.000000</td>\n",
       "      <td>2012.000000</td>\n",
       "      <td>2010.00000</td>\n",
       "      <td>20.000000</td>\n",
       "      <td>124.000000</td>\n",
       "      <td>2.000000</td>\n",
       "      <td>0.000000</td>\n",
       "      <td>18.083334</td>\n",
       "      <td>0.000000</td>\n",
       "      <td>0.997158</td>\n",
       "      <td>1.000000</td>\n",
       "      <td>1998.208374</td>\n",
       "      <td>2000.041626</td>\n",
       "      <td>23.000000</td>\n",
       "      <td>0.166748</td>\n",
       "      <td>1997.416748</td>\n",
       "      <td>1.000000</td>\n",
       "      <td>124.000000</td>\n",
       "      <td>2.000000</td>\n",
       "      <td>12.000000</td>\n",
       "      <td>12.000000</td>\n",
       "      <td>13.000000</td>\n",
       "      <td>13.000000</td>\n",
       "    </tr>\n",
       "    <tr>\n",
       "      <th>75%</th>\n",
       "      <td>3189.750000</td>\n",
       "      <td>2.759544e+06</td>\n",
       "      <td>1.142650</td>\n",
       "      <td>89512.250000</td>\n",
       "      <td>1.134700</td>\n",
       "      <td>1.145200</td>\n",
       "      <td>89712.250000</td>\n",
       "      <td>1.245077</td>\n",
       "      <td>86421.000000</td>\n",
       "      <td>19.000000</td>\n",
       "      <td>5.000000</td>\n",
       "      <td>62.000000</td>\n",
       "      <td>5.000000</td>\n",
       "      <td>1.000000</td>\n",
       "      <td>2009.000000</td>\n",
       "      <td>2010.000000</td>\n",
       "      <td>0.000000</td>\n",
       "      <td>2009.000000</td>\n",
       "      <td>1.0</td>\n",
       "      <td>2008.000000</td>\n",
       "      <td>2016.000000</td>\n",
       "      <td>2014.00000</td>\n",
       "      <td>26.000000</td>\n",
       "      <td>222.750000</td>\n",
       "      <td>2.000000</td>\n",
       "      <td>0.000000</td>\n",
       "      <td>34.166668</td>\n",
       "      <td>1.000000</td>\n",
       "      <td>1.223694</td>\n",
       "      <td>1.000000</td>\n",
       "      <td>2009.458374</td>\n",
       "      <td>2010.958374</td>\n",
       "      <td>32.000000</td>\n",
       "      <td>1.083252</td>\n",
       "      <td>2009.291626</td>\n",
       "      <td>2.416626</td>\n",
       "      <td>222.750000</td>\n",
       "      <td>3.000000</td>\n",
       "      <td>13.000000</td>\n",
       "      <td>14.000000</td>\n",
       "      <td>16.000000</td>\n",
       "      <td>16.000000</td>\n",
       "    </tr>\n",
       "    <tr>\n",
       "      <th>max</th>\n",
       "      <td>4311.000000</td>\n",
       "      <td>2.972135e+06</td>\n",
       "      <td>2.671000</td>\n",
       "      <td>209239.000000</td>\n",
       "      <td>7.797400</td>\n",
       "      <td>2.751100</td>\n",
       "      <td>215514.000000</td>\n",
       "      <td>3.110826</td>\n",
       "      <td>215923.000000</td>\n",
       "      <td>22135.000000</td>\n",
       "      <td>50.000000</td>\n",
       "      <td>95.000000</td>\n",
       "      <td>50.000000</td>\n",
       "      <td>4.000000</td>\n",
       "      <td>2017.000000</td>\n",
       "      <td>2017.000000</td>\n",
       "      <td>1.000000</td>\n",
       "      <td>2017.000000</td>\n",
       "      <td>1.0</td>\n",
       "      <td>2017.000000</td>\n",
       "      <td>2017.000000</td>\n",
       "      <td>2017.00000</td>\n",
       "      <td>70.000000</td>\n",
       "      <td>3855.000000</td>\n",
       "      <td>2.000000</td>\n",
       "      <td>75.000000</td>\n",
       "      <td>75.166664</td>\n",
       "      <td>35.000000</td>\n",
       "      <td>3.400087</td>\n",
       "      <td>1.000000</td>\n",
       "      <td>2017.541626</td>\n",
       "      <td>2017.875000</td>\n",
       "      <td>84.000000</td>\n",
       "      <td>54.750000</td>\n",
       "      <td>2017.541626</td>\n",
       "      <td>36.750000</td>\n",
       "      <td>3855.000000</td>\n",
       "      <td>7.000000</td>\n",
       "      <td>20.000000</td>\n",
       "      <td>20.000000</td>\n",
       "      <td>20.000000</td>\n",
       "      <td>20.000000</td>\n",
       "    </tr>\n",
       "  </tbody>\n",
       "</table>\n",
       "</div>"
      ],
      "text/plain": [
       "            CaseID    CASEID_NEW      weight1  weight1_freqwt     weight2  \\\n",
       "count  3510.000000  3.510000e+03  2994.000000     2994.000000  551.000000   \n",
       "mean   2121.318803  2.181073e+06     0.999999    78337.460938    1.000003   \n",
       "std    1241.582562  6.401295e+05     0.285004    22326.515625    0.908374   \n",
       "min       2.000000  5.300100e+04     0.264700    20736.000000    0.190300   \n",
       "25%    1040.250000  1.825512e+06     0.808000    63297.000000    0.519650   \n",
       "50%    2118.500000  2.282692e+06     0.943900    73943.000000    0.713300   \n",
       "75%    3189.750000  2.759544e+06     1.142650    89512.250000    1.134700   \n",
       "max    4311.000000  2.972135e+06     2.671000   209239.000000    7.797400   \n",
       "\n",
       "          weight1a  weight1a_freqwt  weight_combo  weight_combo_freqwt  \\\n",
       "count  3110.000000      3110.000000   3510.000000          3510.000000   \n",
       "mean      1.000001     78337.601562      1.000000         69410.132812   \n",
       "std       0.289889     22709.197266      0.437515         30367.960938   \n",
       "min       0.263200     20618.000000      0.058970          4093.000000   \n",
       "25%       0.805000     63062.000000      0.818612         56819.750000   \n",
       "50%       0.946750     74166.000000      1.012706         70292.000000   \n",
       "75%       1.145200     89712.250000      1.245077         86421.000000   \n",
       "max       2.751100    215514.000000      3.110826        215923.000000   \n",
       "\n",
       "           duration          Q16        w6_q9       w6_q16       w6_q17  \\\n",
       "count   3510.000000  2836.000000  3374.000000  3367.000000  3385.000000   \n",
       "mean     267.449858     3.495416    48.777119     3.463914     1.014771   \n",
       "std     1406.882283     5.095177    17.119645     5.109420     0.801753   \n",
       "min        0.000000     0.000000    -1.000000     0.000000     0.000000   \n",
       "25%        8.000000     0.000000    34.000000     0.000000     1.000000   \n",
       "50%       11.000000     2.000000    50.000000     2.000000     1.000000   \n",
       "75%       19.000000     5.000000    62.000000     5.000000     1.000000   \n",
       "max    22135.000000    50.000000    95.000000    50.000000     4.000000   \n",
       "\n",
       "       w6_q21a_year  w6_q21b_year  w6_q21b_month_flag  w6_q21c_year  \\\n",
       "count   3341.000000   3276.000000         3301.000000   2630.000000   \n",
       "mean    1994.228973   1995.875153            0.039079   1994.570722   \n",
       "std       17.108283     16.741519            0.193812     16.034225   \n",
       "min     1939.000000   1942.000000            0.000000   1944.000000   \n",
       "25%     1981.000000   1983.000000            0.000000   1983.000000   \n",
       "50%     1998.000000   2000.000000            0.000000   1997.000000   \n",
       "75%     2009.000000   2010.000000            0.000000   2009.000000   \n",
       "max     2017.000000   2017.000000            1.000000   2017.000000   \n",
       "\n",
       "       w6_q21c_month_flag  w6_q21d_year  w6_q21e_year  w6_q21f_year  \\\n",
       "count                80.0   2169.000000    410.000000      96.00000   \n",
       "mean                  1.0   1992.834025   2008.048780    2007.00000   \n",
       "std                   0.0     16.470289      9.757077       9.97787   \n",
       "min                   1.0   1944.000000   1975.000000    1973.00000   \n",
       "25%                   1.0   1980.000000   2002.000000    2004.00000   \n",
       "50%                   1.0   1995.000000   2012.000000    2010.00000   \n",
       "75%                   1.0   2008.000000   2016.000000    2014.00000   \n",
       "max                   1.0   2017.000000   2017.000000    2017.00000   \n",
       "\n",
       "       w6_outness_timing_all  w6_q24_length       w6_q26  \\\n",
       "count             476.000000    3394.000000  1799.000000   \n",
       "mean               22.241597     182.854446     1.758199   \n",
       "std                 9.433113     236.993301     0.436015   \n",
       "min                 0.000000       0.000000    -1.000000   \n",
       "25%                17.000000      54.000000     2.000000   \n",
       "50%                20.000000     124.000000     2.000000   \n",
       "75%                26.000000     222.750000     2.000000   \n",
       "max                70.000000    3855.000000     2.000000   \n",
       "\n",
       "       w6_number_people_met  relate_duration_at_w6_years  \\\n",
       "count           3359.000000                  2765.000000   \n",
       "mean               0.448794                    21.553467   \n",
       "std                2.849547                    16.650276   \n",
       "min                0.000000                    -0.333333   \n",
       "25%                0.000000                     7.250000   \n",
       "50%                0.000000                    18.083334   \n",
       "75%                0.000000                    34.166668   \n",
       "max               75.000000                    75.166664   \n",
       "\n",
       "       w6_number_people_met_app  weight_combo_v2       female  \\\n",
       "count                323.000000      3510.000000  3510.000000   \n",
       "mean                   1.752322         1.000000     0.502564   \n",
       "std                    5.072207         0.412794     0.500065   \n",
       "min                    0.000000         0.082981     0.000000   \n",
       "25%                    0.000000         0.809683     0.000000   \n",
       "50%                    0.000000         0.997158     1.000000   \n",
       "75%                    1.000000         1.223694     1.000000   \n",
       "max                   35.000000         3.400087     1.000000   \n",
       "\n",
       "       year_fraction_met  year_fraction_relstart  age_when_met  \\\n",
       "count        3341.000000             3276.000000   3341.000000   \n",
       "mean         1994.719604             1996.380859     26.651003   \n",
       "std            17.106398               16.735863     11.831717   \n",
       "min          1939.208374             1942.375000      0.000000   \n",
       "25%          1981.708374             1983.791626     18.000000   \n",
       "50%          1998.208374             2000.041626     23.000000   \n",
       "75%          2009.458374             2010.958374     32.000000   \n",
       "max          2017.541626             2017.875000     84.000000   \n",
       "\n",
       "       time_from_met_to_rel  year_fraction_first_cohab  \\\n",
       "count           3263.000000                2630.000000   \n",
       "mean               1.597072                1995.073242   \n",
       "std                4.361366                  16.026445   \n",
       "min                0.000000                1944.375000   \n",
       "25%                0.000000                1983.208374   \n",
       "50%                0.166748                1997.416748   \n",
       "75%                1.083252                2009.291626   \n",
       "max               54.750000                2017.541626   \n",
       "\n",
       "       time_from_rel_to_cohab  hcm2017_q24_length  \\\n",
       "count             2578.000000         3394.000000   \n",
       "mean                 1.900667          182.912491   \n",
       "std                  2.727197          237.105286   \n",
       "min                  0.000000            0.000000   \n",
       "25%                  0.333374           54.000000   \n",
       "50%                  1.000000          124.000000   \n",
       "75%                  2.416626          222.750000   \n",
       "max                 36.750000         3855.000000   \n",
       "\n",
       "       hcm2017q24_summary_all_codes  partner_mother_yrsed  \\\n",
       "count                   3295.000000           3323.000000   \n",
       "mean                       1.978756             12.138730   \n",
       "std                        1.118986              3.309426   \n",
       "min                        0.000000              0.000000   \n",
       "25%                        1.000000             12.000000   \n",
       "50%                        2.000000             12.000000   \n",
       "75%                        3.000000             13.000000   \n",
       "max                        7.000000             20.000000   \n",
       "\n",
       "       subject_mother_yrsed  partner_yrsed  subject_yrsed  \n",
       "count           3378.000000    3383.000000    3510.000000  \n",
       "mean              12.279752      14.033255      13.945868  \n",
       "std                3.229575       2.544954       2.546054  \n",
       "min                0.000000       0.000000       0.000000  \n",
       "25%               12.000000      12.000000      12.000000  \n",
       "50%               12.000000      13.000000      13.000000  \n",
       "75%               14.000000      16.000000      16.000000  \n",
       "max               20.000000      20.000000      20.000000  "
      ]
     },
     "execution_count": 71,
     "metadata": {},
     "output_type": "execute_result"
    }
   ],
   "source": [
    "pd.set_option('display.max_columns', 100)\n",
    "data.describe()"
   ]
  },
  {
   "cell_type": "markdown",
   "metadata": {
    "deletable": true,
    "editable": true
   },
   "source": [
    "Chcemy wybrać cechy, które nie mają dużo NaN (w tym przypadku mniej niż 10% wszystkich danych):"
   ]
  },
  {
   "cell_type": "markdown",
   "metadata": {
    "deletable": true,
    "editable": true
   },
   "source": [
    "### Wybrane cechy\n",
    "\n",
    "#### Ilościowe:\n",
    "* w6_q21c_year - w którym roku po raz pierwszy zamieszkali ze sobą\n",
    "* year_fraction_met - rok poznania z uwzględnieniem miesiąca jako ułamka\n",
    "\n",
    "### Jakościowe:\n",
    "* hcm2017q24_btwn_I_neighbor - czy są sąsiadami\n",
    "* w6_otherdate_all - czy w zeszłym roku poznał(a) kogoś poza partnerem"
   ]
  },
  {
   "cell_type": "code",
   "execution_count": 72,
   "metadata": {
    "collapsed": true,
    "deletable": true,
    "editable": true
   },
   "outputs": [],
   "source": [
    "cat_features = ['hcm2017q24_btwn_I_neighbor', 'w6_otherdate_all']\n",
    "cont_features = ['w6_q21c_year', 'year_fraction_met']\n",
    "label = 'S1'"
   ]
  },
  {
   "cell_type": "markdown",
   "metadata": {
    "deletable": true,
    "editable": true
   },
   "source": [
    "## Transformowanie danych"
   ]
  },
  {
   "cell_type": "markdown",
   "metadata": {
    "deletable": true,
    "editable": true
   },
   "source": [
    "Podstawowe transformowanie danych:\n",
    "* zamiana wektora y na wektor 0/1 (0 - małżeństwo, 1 - brak małżeństwa)\n",
    "* zamiana cech kategorycznych na one hot encoding\n",
    "* usunięcie niedozwolonych przez XGBooost znaków z nazw cech\n",
    "\n",
    "Sprawdzamy też, czy po usunięciu NaN nie zostało za mało danych."
   ]
  },
  {
   "cell_type": "code",
   "execution_count": 73,
   "metadata": {
    "collapsed": false,
    "deletable": true,
    "editable": true
   },
   "outputs": [
    {
     "name": "stdout",
     "output_type": "stream",
     "text": [
      "Data left: 2566\n"
     ]
    }
   ],
   "source": [
    "data = data[cat_features+cont_features+[label]].dropna()\n",
    "print(\"Data left: \" + str(len(data)))\n",
    "X = data[cat_features+cont_features].copy()\n",
    "y = data[label].cat.codes"
   ]
  },
  {
   "cell_type": "code",
   "execution_count": 74,
   "metadata": {
    "collapsed": false,
    "deletable": true,
    "editable": true
   },
   "outputs": [],
   "source": [
    "# Convert continuous features to numerics\n",
    "for cont_feature in cont_features:\n",
    "    X[cont_feature] = pd.to_numeric(X[cont_feature])\n",
    "# One hot encoding\n",
    "X = pd.get_dummies(X)\n",
    "# Delete unwanted characters\n",
    "for character in ['[', ']', '<']:\n",
    "    X.columns = X.columns.str.replace(character, '')"
   ]
  },
  {
   "cell_type": "markdown",
   "metadata": {
    "deletable": true,
    "editable": true
   },
   "source": [
    "## Trening\n",
    "\n",
    "Do treningu używam klasyfikatora XGB z domyślnymi parametrami."
   ]
  },
  {
   "cell_type": "code",
   "execution_count": 75,
   "metadata": {
    "collapsed": false,
    "deletable": true,
    "editable": true
   },
   "outputs": [],
   "source": [
    "X_train, X_test, y_train, y_test = train_test_split(X, y)"
   ]
  },
  {
   "cell_type": "code",
   "execution_count": 76,
   "metadata": {
    "collapsed": false,
    "deletable": true,
    "editable": true
   },
   "outputs": [
    {
     "data": {
      "text/plain": [
       "XGBClassifier(base_score=0.5, booster='gbtree', colsample_bylevel=1,\n",
       "       colsample_bytree=1, gamma=0, learning_rate=0.1, max_delta_step=0,\n",
       "       max_depth=3, min_child_weight=1, missing=None, n_estimators=100,\n",
       "       n_jobs=1, nthread=None, objective='binary:logistic', random_state=0,\n",
       "       reg_alpha=0, reg_lambda=1, scale_pos_weight=1, seed=None,\n",
       "       silent=True, subsample=1)"
      ]
     },
     "execution_count": 76,
     "metadata": {},
     "output_type": "execute_result"
    }
   ],
   "source": [
    "model = XGBClassifier()\n",
    "model.fit(X_train, y_train)"
   ]
  },
  {
   "cell_type": "code",
   "execution_count": 77,
   "metadata": {
    "collapsed": false,
    "deletable": true,
    "editable": true
   },
   "outputs": [
    {
     "name": "stdout",
     "output_type": "stream",
     "text": [
      "Accuracy: 0.8099688473520249\n"
     ]
    }
   ],
   "source": [
    "print(\"Accuracy: \"+str(accuracy_score(model.predict(X_test), y_test)))"
   ]
  },
  {
   "cell_type": "markdown",
   "metadata": {
    "deletable": true,
    "editable": true
   },
   "source": [
    "## Rysowanie Ceteris Paribus"
   ]
  },
  {
   "cell_type": "code",
   "execution_count": 78,
   "metadata": {
    "collapsed": false,
    "deletable": true,
    "editable": true
   },
   "outputs": [],
   "source": [
    "def get_values_and_probabilities(model, data, sample, feature_name, points=100):\n",
    "    # Generate data\n",
    "    values = np.linspace(data[feature_name].min(), data[feature_name].max(), points)\n",
    "    samples = pd.concat([sample]*points)\n",
    "    samples[feature_name] = values\n",
    "    # Compute probabilities with model\n",
    "    probs = model.predict_proba(samples)[:, 0]\n",
    "    return values, probs\n",
    "\n",
    "def draw_plot(values, probs, feature_name, sample):\n",
    "    plt.plot(values, probs)\n",
    "    sample_proba = model.predict_proba(sample)[:, 0]\n",
    "    plt.scatter([float(sample[feature_name])], sample_proba)\n",
    "    plt.xlabel(feature_name)\n",
    "    plt.ylabel(\"Probability of being married\")"
   ]
  },
  {
   "cell_type": "code",
   "execution_count": 79,
   "metadata": {
    "collapsed": false,
    "deletable": true,
    "editable": true
   },
   "outputs": [
    {
     "data": {
      "image/png": "[encoded data removed]",
      "text/plain": [
       "<Figure size 432x288 with 1 Axes>"
      ]
     },
     "metadata": {
      "needs_background": "light"
     },
     "output_type": "display_data"
    }
   ],
   "source": [
    "values, probs = get_values_and_probabilities(model, X, X.loc[[1]], cont_features[0])\n",
    "draw_plot(values, probs, cont_features[0], X.loc[[1]])"
   ]
  },
  {
   "cell_type": "code",
   "execution_count": 80,
   "metadata": {
    "collapsed": false,
    "deletable": true,
    "editable": true
   },
   "outputs": [
    {
     "data": {
      "image/png": "[encoded data removed]",
      "text/plain": [
       "<Figure size 432x288 with 1 Axes>"
      ]
     },
     "metadata": {
      "needs_background": "light"
     },
     "output_type": "display_data"
    }
   ],
   "source": [
    "values, probs = get_values_and_probabilities(model, X, X.loc[[1]], cont_features[1])\n",
    "draw_plot(values, probs, cont_features[1], X.loc[[1]])"
   ]
  },
  {
   "cell_type": "markdown",
   "metadata": {},
   "source": [
    "## Wykresy MP"
   ]
  },
  {
   "cell_type": "code",
   "execution_count": 180,
   "metadata": {
    "collapsed": false
   },
   "outputs": [],
   "source": [
    "N_POINTS = 100\n",
    "def draw_mp_plot(model, X, feature_name, dist, n_points=N_POINTS):\n",
    "    xs = np.linspace(X[feature_name].min(), X[feature_name].max(), n_points)\n",
    "    ys = []\n",
    "    \n",
    "    for x in xs:\n",
    "        # get neighbours\n",
    "        neighbours = X[abs(X[feature_name]-x) < dist].copy()\n",
    "        neighbours[feature_name] = x\n",
    "        \n",
    "        if not neighbours.empty:\n",
    "            ys.append(model.predict_proba(neighbours)[:, 0].mean())\n",
    "        else:\n",
    "            ys.append(ys[-1])\n",
    "    plt.title(\"MP plot\")\n",
    "    plt.xlabel(feature_name)\n",
    "    plt.ylabel(\"Probability of getting married\")\n",
    "    plt.plot(xs, ys)"
   ]
  },
  {
   "cell_type": "code",
   "execution_count": 181,
   "metadata": {
    "collapsed": false
   },
   "outputs": [
    {
     "data": {
      "image/png": "[encoded data removed]",
      "text/plain": [
       "<Figure size 432x288 with 1 Axes>"
      ]
     },
     "metadata": {
      "needs_background": "light"
     },
     "output_type": "display_data"
    }
   ],
   "source": [
    "draw_mp_plot(model, X.copy(), cont_features[0], 5.0)"
   ]
  },
  {
   "cell_type": "code",
   "execution_count": 174,
   "metadata": {
    "collapsed": false
   },
   "outputs": [
    {
     "data": {
      "image/png": "[encoded data removed]",
      "text/plain": [
       "<Figure size 432x288 with 1 Axes>"
      ]
     },
     "metadata": {
      "needs_background": "light"
     },
     "output_type": "display_data"
    }
   ],
   "source": [
    "draw_mp_plot(model, X.copy(), cont_features[1], 5.0)"
   ]
  },
  {
   "cell_type": "markdown",
   "metadata": {},
   "source": [
    "## Wykresy PDP"
   ]
  },
  {
   "cell_type": "code",
   "execution_count": 175,
   "metadata": {
    "collapsed": true
   },
   "outputs": [],
   "source": [
    "def draw_pd_plot(model, X, feature_name):\n",
    "    xs = np.linspace(X[feature_name].min(), X[feature_name].max(), N_POINTS)\n",
    "    ys = []\n",
    "    for x in xs:\n",
    "        X[feature_name] = x\n",
    "        ys.append(model.predict_proba(X)[:, 0].mean())\n",
    "        \n",
    "    plt.title(\"PDP plot\")\n",
    "    plt.xlabel(feature_name)\n",
    "    plt.ylabel(\"Probability of getting married\")\n",
    "    plt.plot(xs, ys)"
   ]
  },
  {
   "cell_type": "code",
   "execution_count": 176,
   "metadata": {
    "collapsed": false
   },
   "outputs": [
    {
     "data": {
      "image/png": "[encoded data removed]",
      "text/plain": [
       "<Figure size 432x288 with 1 Axes>"
      ]
     },
     "metadata": {
      "needs_background": "light"
     },
     "output_type": "display_data"
    }
   ],
   "source": [
    "draw_pd_plot(model, X.copy(), cont_features[0])"
   ]
  },
  {
   "cell_type": "code",
   "execution_count": 177,
   "metadata": {
    "collapsed": false
   },
   "outputs": [
    {
     "data": {
      "image/png": "[encoded data removed]",
      "text/plain": [
       "<Figure size 432x288 with 1 Axes>"
      ]
     },
     "metadata": {
      "needs_background": "light"
     },
     "output_type": "display_data"
    }
   ],
   "source": [
    "draw_pd_plot(model, X.copy(), cont_features[1])"
   ]
  },
  {
   "cell_type": "markdown",
   "metadata": {},
   "source": [
    "## Opis\n",
    "Wybrane cechy są silnie skorelowane (rok poznania i rok wzajemnego zamieszkania), przez co niektóre kombinacje przy rysowaniu CP nie miały sensu (np. zamieszkanie przed poznaniem). <br />\n",
    "Dlatego też widać pewne róznice pomiędzy wykresami PDP a wykresami MP. Wykresy MP są bardziej gładkie i pokazują mniejszy wpływ danych cech na odpowiedź modelu. <br />\n",
    "Gwałtowny spadek na końcu wykresu związany jest najprawdopodobniej z małą liczbą przykładów z tymi wartościami."
   ]
  },
  {
   "cell_type": "code",
   "execution_count": null,
   "metadata": {
    "collapsed": true
   },
   "outputs": [],
   "source": []
  }
 ],
 "metadata": {
  "kernelspec": {
   "display_name": "projectname",
   "language": "python",
   "name": "projectname"
  },
  "language_info": {
   "codemirror_mode": {
    "name": "ipython",
    "version": 3
   },
   "file_extension": ".py",
   "mimetype": "text/x-python",
   "name": "python",
   "nbconvert_exporter": "python",
   "pygments_lexer": "ipython3",
   "version": "3.5.2"
  }
 },
 "nbformat": 4,
 "nbformat_minor": 2
}
