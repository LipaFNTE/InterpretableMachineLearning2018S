{
 "cells": [
  {
   "cell_type": "code",
   "execution_count": 1,
   "metadata": {
    "ExecuteTime": {
     "end_time": "2019-03-30T09:19:58.878157Z",
     "start_time": "2019-03-30T09:19:55.576794Z"
    }
   },
   "outputs": [],
   "source": [
    "import numpy as np\n",
    "import pandas as pd\n",
    "import matplotlib.pyplot as plt\n",
    "import seaborn as sns\n",
    "sns.set_style(\"white\")\n",
    "import waterfall_chart"
   ]
  },
  {
   "cell_type": "markdown",
   "metadata": {},
   "source": [
    "## Wczytanie danych"
   ]
  },
  {
   "cell_type": "code",
   "execution_count": 2,
   "metadata": {
    "ExecuteTime": {
     "end_time": "2019-03-30T09:19:59.777010Z",
     "start_time": "2019-03-30T09:19:58.879855Z"
    }
   },
   "outputs": [],
   "source": [
    "df = pd.read_stata(\"HCMST 2017 fresh sample for public sharing draft v1.1.dta\")"
   ]
  },
  {
   "cell_type": "markdown",
   "metadata": {},
   "source": [
    "## Przygotwanie zmiennych"
   ]
  },
  {
   "cell_type": "markdown",
   "metadata": {},
   "source": [
    "Najpierw konwertujemy odpowiedź `S1` na zmienną binarną, gdzie 1 odpowiada informacji `Yes, I am Married`"
   ]
  },
  {
   "cell_type": "code",
   "execution_count": 3,
   "metadata": {
    "ExecuteTime": {
     "end_time": "2019-03-30T09:19:59.787086Z",
     "start_time": "2019-03-30T09:19:59.777999Z"
    }
   },
   "outputs": [],
   "source": [
    "df['y'] = 1 - df['S1'].cat.codes"
   ]
  },
  {
   "cell_type": "markdown",
   "metadata": {},
   "source": [
    "### Wybrane zmienne"
   ]
  },
  {
   "cell_type": "markdown",
   "metadata": {},
   "source": [
    "Do modelu wybrałem następujące zmienne  \n",
    "1) kategoryczne:  \n",
    "  a) `Q23` - Between you and [Partner name], who earned more income in 2016,  \n",
    "  b) `Q28` - Did your parents know [Partner name]’s parents before you met [Partner name]?,  \n",
    "2) uporządkowane:  \n",
    "  a) `ppp20072` - Q27: How often do you attend religious services?,  \n",
    "  b) `w6_how_many` - How many Different people besides [Partner name] have you met for dating, or rom   "
   ]
  },
  {
   "cell_type": "markdown",
   "metadata": {},
   "source": [
    "Wszystkie zmienne są zakodowane przez kategorię, które odkoduję."
   ]
  },
  {
   "cell_type": "code",
   "execution_count": 4,
   "metadata": {
    "ExecuteTime": {
     "end_time": "2019-03-30T09:19:59.829858Z",
     "start_time": "2019-03-30T09:19:59.788970Z"
    }
   },
   "outputs": [],
   "source": [
    "df = df.dropna(subset=['Q23', 'Q28', 'ppp20072', 'w6_how_many'])"
   ]
  },
  {
   "cell_type": "code",
   "execution_count": 5,
   "metadata": {
    "ExecuteTime": {
     "end_time": "2019-03-30T09:19:59.843798Z",
     "start_time": "2019-03-30T09:19:59.830877Z"
    }
   },
   "outputs": [],
   "source": [
    "X = df[['Q23', 'Q28', 'ppp20072', 'w6_how_many']].apply(lambda x: x.cat.codes, axis=0)\n",
    "y = df['y']"
   ]
  },
  {
   "cell_type": "code",
   "execution_count": 6,
   "metadata": {
    "ExecuteTime": {
     "end_time": "2019-03-30T09:19:59.850815Z",
     "start_time": "2019-03-30T09:19:59.844823Z"
    }
   },
   "outputs": [
    {
     "data": {
      "text/plain": [
       "(225, 4)"
      ]
     },
     "execution_count": 6,
     "metadata": {},
     "output_type": "execute_result"
    }
   ],
   "source": [
    "X.shape"
   ]
  },
  {
   "cell_type": "markdown",
   "metadata": {},
   "source": [
    "Zostało nam 225 obserwacji co oznacza, że nie ma sensu uczyć modelu o dużej pojemności. Z tego powodu wybrałem las losowy o 25 drzewach i maksymalnej głębokości 3."
   ]
  },
  {
   "cell_type": "markdown",
   "metadata": {},
   "source": [
    "Stworzymy dodatkowo słowniki do zmiennych kategorycznych by łatwiej odwikłać potem kategorię."
   ]
  },
  {
   "cell_type": "code",
   "execution_count": 7,
   "metadata": {
    "ExecuteTime": {
     "end_time": "2019-03-30T09:20:00.802481Z",
     "start_time": "2019-03-30T09:20:00.799457Z"
    }
   },
   "outputs": [],
   "source": [
    "d_ppp20072 = dict(enumerate(df['ppp20072'].cat.categories))\n",
    "d_w6_how_many = dict(enumerate([cat.split(\".\")[0] for cat in df['w6_how_many'].cat.categories]))"
   ]
  },
  {
   "cell_type": "code",
   "execution_count": 8,
   "metadata": {
    "ExecuteTime": {
     "end_time": "2019-03-30T09:20:01.056980Z",
     "start_time": "2019-03-30T09:20:01.053975Z"
    }
   },
   "outputs": [],
   "source": [
    "d = {\n",
    "    'ppp20072': d_ppp20072,\n",
    "    'w6_how_many': d_w6_how_many\n",
    "}"
   ]
  },
  {
   "cell_type": "markdown",
   "metadata": {},
   "source": [
    "## Budowa modelu"
   ]
  },
  {
   "cell_type": "code",
   "execution_count": 9,
   "metadata": {
    "ExecuteTime": {
     "end_time": "2019-03-30T09:20:02.259695Z",
     "start_time": "2019-03-30T09:20:01.897615Z"
    }
   },
   "outputs": [],
   "source": [
    "from sklearn.ensemble import RandomForestClassifier"
   ]
  },
  {
   "cell_type": "code",
   "execution_count": 10,
   "metadata": {
    "ExecuteTime": {
     "end_time": "2019-03-30T09:20:02.279577Z",
     "start_time": "2019-03-30T09:20:02.276585Z"
    }
   },
   "outputs": [],
   "source": [
    "rf = RandomForestClassifier(n_estimators=25, max_depth=4)"
   ]
  },
  {
   "cell_type": "code",
   "execution_count": 11,
   "metadata": {
    "ExecuteTime": {
     "end_time": "2019-03-30T09:20:02.526843Z",
     "start_time": "2019-03-30T09:20:02.500864Z"
    }
   },
   "outputs": [
    {
     "data": {
      "text/plain": [
       "RandomForestClassifier(bootstrap=True, class_weight=None, criterion='gini',\n",
       "            max_depth=4, max_features='auto', max_leaf_nodes=None,\n",
       "            min_impurity_decrease=0.0, min_impurity_split=None,\n",
       "            min_samples_leaf=1, min_samples_split=2,\n",
       "            min_weight_fraction_leaf=0.0, n_estimators=25, n_jobs=None,\n",
       "            oob_score=False, random_state=None, verbose=0,\n",
       "            warm_start=False)"
      ]
     },
     "execution_count": 11,
     "metadata": {},
     "output_type": "execute_result"
    }
   ],
   "source": [
    "rf.fit(X, y)"
   ]
  },
  {
   "cell_type": "markdown",
   "metadata": {},
   "source": [
    "## Lime"
   ]
  },
  {
   "cell_type": "markdown",
   "metadata": {
    "ExecuteTime": {
     "end_time": "2019-03-30T09:23:52.692515Z",
     "start_time": "2019-03-30T09:23:52.688521Z"
    }
   },
   "source": [
    "### Generacja sztucznych danych."
   ]
  },
  {
   "cell_type": "markdown",
   "metadata": {},
   "source": [
    "W swojej pracy będę perturbował zmienne `ppp20072`(3) i `w6_how_many`(4) poprzez wybór losowej odpowiedzi z zbioru danych. Wybieram te względne, ponieważ przyjmują one więcej unikalnych wartości niż pozostałe. Obserwacją bazową będzie obserwacja o indeksie 466, ponieważ dla niej robione były wykresy w PD3 i będziemy mogli to porównać."
   ]
  },
  {
   "cell_type": "code",
   "execution_count": 34,
   "metadata": {
    "ExecuteTime": {
     "end_time": "2019-03-30T09:31:33.174589Z",
     "start_time": "2019-03-30T09:31:33.170617Z"
    }
   },
   "outputs": [],
   "source": [
    "number_of_obs = 1000\n",
    "obs = 466"
   ]
  },
  {
   "cell_type": "code",
   "execution_count": 38,
   "metadata": {
    "ExecuteTime": {
     "end_time": "2019-03-30T09:32:23.695522Z",
     "start_time": "2019-03-30T09:32:23.659570Z"
    }
   },
   "outputs": [],
   "source": [
    "X_new = np.zeros((number_of_obs, X.shape[1]))\n",
    "X_new[:,:] = X.loc[466,:].values\n",
    "for i in range(number_of_obs):\n",
    "    X_new[i, 2] = np.random.choice(X.values[:,2])\n",
    "    X_new[i, 3] = np.random.choice(X.values[:,3])"
   ]
  },
  {
   "cell_type": "markdown",
   "metadata": {},
   "source": [
    "### Predykcja black-boxa"
   ]
  },
  {
   "cell_type": "code",
   "execution_count": 50,
   "metadata": {
    "ExecuteTime": {
     "end_time": "2019-03-30T09:34:05.810952Z",
     "start_time": "2019-03-30T09:34:05.802961Z"
    }
   },
   "outputs": [],
   "source": [
    "y_blackbox = rf.predict(X_new)"
   ]
  },
  {
   "cell_type": "code",
   "execution_count": 51,
   "metadata": {
    "ExecuteTime": {
     "end_time": "2019-03-30T09:34:12.075035Z",
     "start_time": "2019-03-30T09:34:12.071043Z"
    }
   },
   "outputs": [
    {
     "data": {
      "text/plain": [
       "True"
      ]
     },
     "execution_count": 51,
     "metadata": {},
     "output_type": "execute_result"
    }
   ],
   "source": [
    "np.all(y_blackbox==0)"
   ]
  },
  {
   "cell_type": "markdown",
   "metadata": {},
   "source": [
    "Pojawił się problem, że wszystkie predykcje obserwacji wygenerowanych z sztucznego zbioru danych są oceniane przez model w ten sam sposób. Żeby to obejść zwrócimy p-stwo zwracane przez model i to to będziemy wyjaśniać."
   ]
  },
  {
   "cell_type": "code",
   "execution_count": 52,
   "metadata": {
    "ExecuteTime": {
     "end_time": "2019-03-30T09:35:38.191941Z",
     "start_time": "2019-03-30T09:35:38.179914Z"
    }
   },
   "outputs": [],
   "source": [
    "y_blackbox = rf.predict_proba(X_new)[:,1]"
   ]
  },
  {
   "cell_type": "markdown",
   "metadata": {},
   "source": [
    "### Wyznaczenie podobieństwa między obserwacjami."
   ]
  },
  {
   "cell_type": "markdown",
   "metadata": {},
   "source": [
    "By policzyć odległość obserwacji skorzystamy  z odległości euklidesowej."
   ]
  },
  {
   "cell_type": "code",
   "execution_count": 54,
   "metadata": {
    "ExecuteTime": {
     "end_time": "2019-03-30T09:46:11.520198Z",
     "start_time": "2019-03-30T09:46:11.516208Z"
    }
   },
   "outputs": [],
   "source": [
    "X_old = np.zeros((number_of_obs, X.shape[1]))\n",
    "X_old[:,:] = X.loc[466,:].values"
   ]
  },
  {
   "cell_type": "code",
   "execution_count": 63,
   "metadata": {
    "ExecuteTime": {
     "end_time": "2019-03-30T09:47:18.290524Z",
     "start_time": "2019-03-30T09:47:18.285583Z"
    }
   },
   "outputs": [],
   "source": [
    "dist = np.sqrt(((X_old - X_new) ** 2).sum(axis=1))"
   ]
  },
  {
   "cell_type": "markdown",
   "metadata": {},
   "source": [
    "### Nauczenie modelu prostego."
   ]
  },
  {
   "cell_type": "markdown",
   "metadata": {},
   "source": [
    "Ponieważ będziemy przewidywać p-stwo skorzystamy z modelu regresyjnego, nie klasyfikującego."
   ]
  },
  {
   "cell_type": "code",
   "execution_count": 75,
   "metadata": {
    "ExecuteTime": {
     "end_time": "2019-03-30T09:54:50.399394Z",
     "start_time": "2019-03-30T09:54:50.396422Z"
    }
   },
   "outputs": [],
   "source": [
    "from sklearn.tree import DecisionTreeRegressor\n",
    "dtr = DecisionTreeRegressor(max_depth = 2)"
   ]
  },
  {
   "cell_type": "code",
   "execution_count": 89,
   "metadata": {
    "ExecuteTime": {
     "end_time": "2019-03-30T10:03:03.953081Z",
     "start_time": "2019-03-30T10:03:03.946103Z"
    }
   },
   "outputs": [
    {
     "data": {
      "text/plain": [
       "DecisionTreeRegressor(criterion='mse', max_depth=2, max_features=None,\n",
       "           max_leaf_nodes=None, min_impurity_decrease=0.0,\n",
       "           min_impurity_split=None, min_samples_leaf=1,\n",
       "           min_samples_split=2, min_weight_fraction_leaf=0.0,\n",
       "           presort=False, random_state=None, splitter='best')"
      ]
     },
     "execution_count": 89,
     "metadata": {},
     "output_type": "execute_result"
    }
   ],
   "source": [
    "dtr.fit(X_new[:, 2:], y_blackbox, sample_weight=dist)"
   ]
  },
  {
   "cell_type": "markdown",
   "metadata": {},
   "source": [
    "### Interpretacje prostego modelu i porównanie wyników."
   ]
  },
  {
   "cell_type": "code",
   "execution_count": 91,
   "metadata": {
    "ExecuteTime": {
     "end_time": "2019-03-30T10:03:04.893600Z",
     "start_time": "2019-03-30T10:03:04.728769Z"
    }
   },
   "outputs": [
    {
     "data": {
      "image/png": "[encoded data removed]",
      "text/plain": [
       "<IPython.core.display.Image object>"
      ]
     },
     "execution_count": 91,
     "metadata": {},
     "output_type": "execute_result"
    }
   ],
   "source": [
    "from sklearn.externals.six import StringIO  \n",
    "from IPython.display import Image  \n",
    "from sklearn.tree import export_graphviz\n",
    "import pydotplus\n",
    "dot_data = StringIO()\n",
    "\n",
    "export_graphviz(dtr, out_file=dot_data,  \n",
    "                filled=True, rounded=True,\n",
    "                special_characters=True)\n",
    "\n",
    "graph = pydotplus.graph_from_dot_data(dot_data.getvalue())  \n",
    "Image(graph.create_png())"
   ]
  },
  {
   "cell_type": "markdown",
   "metadata": {},
   "source": [
    "Przypomnijmy, że nasza obserwacja ma wartości ppp20072($X_{0}$) = 5 i w6_how_many($X_{1}$) = 3."
   ]
  },
  {
   "cell_type": "markdown",
   "metadata": {
    "ExecuteTime": {
     "end_time": "2019-03-30T10:03:06.441723Z",
     "start_time": "2019-03-30T10:03:06.436770Z"
    }
   },
   "source": [
    "Patrząc na powyższe drzewo widzimy, że nasza obserwacja wpada w maksymalnie prawy liść, i ma tam największe p-stwo z wszystkich obserwacji. Oznacza to, że według prostego modelu takie wartości tych cech zwiększają prawdopodobieństwo zmiennej celu.  \n",
    "Patrząc na wykresy z PD3(poniżej) widzimy, że cechy który analizowaliśmy metodą LIME mają również pozytywny wpływ analizując je metodą *breakdown*, czyli obie te metody zgadzają się co do pozytywnego wpływu tych dwóch zmiennych w przypadku obserwacji o indeksie numer 466."
   ]
  },
  {
   "cell_type": "markdown",
   "metadata": {},
   "source": [
    "## BreakDown"
   ]
  },
  {
   "cell_type": "code",
   "execution_count": 12,
   "metadata": {
    "ExecuteTime": {
     "end_time": "2019-03-30T09:20:03.368560Z",
     "start_time": "2019-03-30T09:20:03.361579Z"
    }
   },
   "outputs": [],
   "source": [
    "def mean_per_set_attrs(X, model, **kwargs):\n",
    "    X = X.copy()\n",
    "    means = []\n",
    "    means.append(model.predict_proba(X)[:,1].mean())\n",
    "    for kwarg in kwargs:\n",
    "        X.loc[:, kwarg] = kwargs[kwarg]\n",
    "        means.append(model.predict_proba(X)[:,1].mean())\n",
    "    d_ = pd.DataFrame(data={\"var\":['intercept'] + list(kwargs.keys()), \"proba\":means}, index = range(len(means)))\n",
    "    d_['proba'] = d_['proba'].diff().fillna(d_['proba'])\n",
    "    waterfall_chart.plot(d_['var'], d_['proba'], rotation_value=0, green_color=\"#77DD77\", formatting='{:,.3f}')"
   ]
  },
  {
   "cell_type": "markdown",
   "metadata": {},
   "source": [
    "### Pierwszy wykres"
   ]
  },
  {
   "cell_type": "code",
   "execution_count": 13,
   "metadata": {
    "ExecuteTime": {
     "end_time": "2019-03-30T09:20:04.404158Z",
     "start_time": "2019-03-30T09:20:04.211770Z"
    }
   },
   "outputs": [
    {
     "data": {
      "image/png": "[encoded data removed]",
      "text/plain": [
       "<Figure size 432x288 with 1 Axes>"
      ]
     },
     "metadata": {
      "needs_background": "light"
     },
     "output_type": "display_data"
    }
   ],
   "source": [
    "mean_per_set_attrs(X, rf, Q23=3, Q28=2, w6_how_many=3, ppp20072 = 5)"
   ]
  },
  {
   "cell_type": "markdown",
   "metadata": {},
   "source": [
    "### Drugi wykres"
   ]
  },
  {
   "cell_type": "code",
   "execution_count": 14,
   "metadata": {
    "ExecuteTime": {
     "end_time": "2019-03-30T09:20:05.533613Z",
     "start_time": "2019-03-30T09:20:05.398506Z"
    }
   },
   "outputs": [
    {
     "data": {
      "image/png": "[encoded data removed]",
      "text/plain": [
       "<Figure size 432x288 with 1 Axes>"
      ]
     },
     "metadata": {
      "needs_background": "light"
     },
     "output_type": "display_data"
    }
   ],
   "source": [
    "mean_per_set_attrs(X, rf,  w6_how_many=3, ppp20072 = 5, Q23=3, Q28=2)"
   ]
  },
  {
   "cell_type": "markdown",
   "metadata": {},
   "source": [
    "Jak widać przy różnym ułożeniu kolejności zmiennych zmienia się ich efekt w tej metodzie obrazowania. `Q23` i `Q28` to zmienne o maksymalnie trzech wartościach. Dlatego wrzucenie ich na początku może znacząco zmienić wpływ kolejnych zmiennych, ponieważ mogą mocno dzielić zbiór(tak jak na ćwiczeniach poruszana zmienne płeć przy zbiorze o zwolnieniach). Ciekawie również zmienia się wpływ zmiennej `ppp20072`(wartość=`never`) czyli częstość brania udziału w religijnych obrzędach. Gdy wybieramy tylko z podzbioru ludzi z jednym partnerem(zmienna `w6_how_many` ma ona wpływ negatywny, natomiast biorąc pod uwagę dodatkowy wpływ zarabiania więcej niż partner(`Q23`) i wcześniejszego nie poznania rodziców partnera(`Q28`) zyskuję mocny wpływ dodani."
   ]
  },
  {
   "cell_type": "code",
   "execution_count": null,
   "metadata": {},
   "outputs": [],
   "source": []
  }
 ],
 "metadata": {
  "kernelspec": {
   "display_name": "Python 3",
   "language": "python",
   "name": "python3"
  },
  "language_info": {
   "codemirror_mode": {
    "name": "ipython",
    "version": 3
   },
   "file_extension": ".py",
   "mimetype": "text/x-python",
   "name": "python",
   "nbconvert_exporter": "python",
   "pygments_lexer": "ipython3",
   "version": "3.6.0"
  },
  "toc": {
   "base_numbering": 1,
   "nav_menu": {},
   "number_sections": true,
   "sideBar": true,
   "skip_h1_title": false,
   "title_cell": "Table of Contents",
   "title_sidebar": "Contents",
   "toc_cell": false,
   "toc_position": {},
   "toc_section_display": true,
   "toc_window_display": true
  }
 },
 "nbformat": 4,
 "nbformat_minor": 2
}
